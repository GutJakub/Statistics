{
 "cells": [
  {
   "cell_type": "markdown",
   "id": "51826522",
   "metadata": {
    "deletable": false,
    "editable": false,
    "nbgrader": {
     "cell_type": "markdown",
     "checksum": "fa74cc5b13ba0c07f2f9277490d0fd6f",
     "grade": false,
     "grade_id": "cell-fcd2666579131b77",
     "locked": true,
     "schema_version": 3,
     "solution": false,
     "task": false
    },
    "tags": []
   },
   "source": [
    "# Statystyka matematyczna - ćwiczenia laboratoryjne 2023/2024\n",
    "\n",
    "Ten notatnik zalicza się do grupy zestawów zadań, na podstawie których odbywa się zaliczenie ćwiczeń i podlega zwrotowi do oceny w ustalonym na zajęciach terminie.\n",
    "\n",
    "Uwagi i wytyczne ogólne dotyczące uzupełniania notatnika:\n",
    "- Podczas wykonywania zadań należy korzystać wyłącznie z pakietów zaimportowanych na początku notatnika oraz z pakietów wchodzących w skład standardowej biblioteki Pythona, które można zaimportować samodzielnie we wskazanej komórce notatnika.\n",
    "- Swoje rozwiązania należy wprowadzać wyłącznie w miejce następujących fragmentów kodu:<br/> `# YOUR CODE HERE`<br/> `raise NotImplementedError()`<br/> \n",
    "a odpowiedzi tekstowe w komórkach oznaczonych hasłem:<br/> \n",
    "`YOUR ANSWER HERE`<br/> \n",
    "Nie należy w żaden sposób modyfikować pozostałych fragmentów kodu oraz innych elementów notatnika, w szczególności dodawać lub usuwać komórek oraz zmieniać nazwy pliku.\n",
    "- Otrzymywane wyniki i odpowiedzi mają być rezultatem wykonania napisanego kodu.\n",
    "- Zadanie należy wykonać w taki sposób, aby podczas wykonywania kodu nie zostały wyświetlone żadne ostrzeżenia.\n",
    "- Zawarte w notatniku automatyczne testy mają charakter poglądowy. Dotyczą one wybranych aspektów zadań i mają za zadanie wyłapać podstawowe błędy. Przejście wszystkich testów nie oznacza, że zadanie jest wykonane w całości poprawnie.\n",
    "\n",
    "Uwagi i wytyczne ogólne dotyczące wizualizacji wyników:\n",
    "- Wszystkie wykresy powinny być wykonane w jednolitym, przejrzystym i czytelnym stylu, posiadać odpowiednio dobrane proporcje i zakresy wartości osi.\n",
    "- Wykresy oraz ich osie powinny mieć nadane tytuły. Jeżeli w obrębie figury znajduje się więcej niż jeden wykres to figura również powinna mieć nadany tytuł. \n",
    "- Figury powinny mieć ustawione białe tło, tak, aby niezależnie od ustawień notatnika wszystkie elementy wykresów były dobrze widoczne (domyślnie tło jest przeźroczyste co może powodować problemy w notatnikach z ustawionym ciemnym tłem).\n",
    "- Rozmiar poziomy figur nie powinien przekraczać 20 cali.\n",
    "\n",
    "Przed odesłaniem zestawu zadań do oceny proszę uzupełnić komórkę z danymi autora rozwiązania (imię, nazwisko i numer indeksu) oraz upewnić się, że notatnik działa zgodnie z oczekiwaniami. W tym celu należy skorzystać z opcji **Restart Kernel and Run All Cells...** dostępnej na górnej belce notatnika pod symbolem $\\blacktriangleright\\blacktriangleright$."
   ]
  },
  {
   "cell_type": "markdown",
   "id": "b2fee546",
   "metadata": {},
   "source": [
    "Imię i nazwisko:\n",
    "Numer indeksu:"
   ]
  },
  {
   "cell_type": "markdown",
   "id": "cca90b72",
   "metadata": {
    "deletable": false,
    "editable": false,
    "nbgrader": {
     "cell_type": "markdown",
     "checksum": "eddc8826810e4a6f7bf68319da334bd9",
     "grade": false,
     "grade_id": "cell-109006d425e5cf83",
     "locked": true,
     "schema_version": 3,
     "solution": false,
     "task": false
    },
    "tags": []
   },
   "source": [
    "---"
   ]
  },
  {
   "cell_type": "markdown",
   "id": "0f6ce37e-54ef-468a-9ad8-0506d41ebbf3",
   "metadata": {
    "deletable": false,
    "editable": false,
    "nbgrader": {
     "cell_type": "markdown",
     "checksum": "fd667b5bc9d3235a1ab3392e249144f6",
     "grade": false,
     "grade_id": "cell-13e9eed5ad8c3d36",
     "locked": true,
     "schema_version": 3,
     "solution": false,
     "task": false
    },
    "tags": []
   },
   "source": [
    "# Kolowkium zaliczeniowe: 1 termin, grupa 1"
   ]
  },
  {
   "cell_type": "code",
   "execution_count": 93,
   "id": "0f4cfc8d-b165-4fb3-8411-cc1bedc50b4a",
   "metadata": {
    "deletable": false,
    "editable": false,
    "nbgrader": {
     "cell_type": "code",
     "checksum": "616689a0960f55908943694ba894fe41",
     "grade": false,
     "grade_id": "cell-dd16a23dce6aaa4b",
     "locked": true,
     "schema_version": 3,
     "solution": false,
     "task": false
    },
    "tags": []
   },
   "outputs": [],
   "source": [
    "import numpy as np\n",
    "import pandas as pd\n",
    "import scipy as sp\n",
    "import matplotlib as mpl\n",
    "import matplotlib.pyplot as plt\n",
    "import seaborn as sns"
   ]
  },
  {
   "cell_type": "code",
   "execution_count": 94,
   "id": "17268a1b-ea72-40b1-abb7-a3f6d6fc2d83",
   "metadata": {},
   "outputs": [],
   "source": [
    "# Miejsce do importu pakietów wchodzących w skład standardowej biblioteki Pythona oraz ustawienie opcji wykorzystywanych pakietów"
   ]
  },
  {
   "cell_type": "markdown",
   "id": "4b5c05f1-bdb1-4465-af3e-141900df4b1a",
   "metadata": {
    "deletable": false,
    "editable": false,
    "nbgrader": {
     "cell_type": "markdown",
     "checksum": "6cba2f0b0fe42e83d1c52878c82f2ee3",
     "grade": false,
     "grade_id": "cell-5f6f768907bd4196",
     "locked": true,
     "schema_version": 3,
     "solution": false,
     "task": false
    },
    "tags": []
   },
   "source": [
    "## Dane do automatycznych testów"
   ]
  },
  {
   "cell_type": "code",
   "execution_count": 95,
   "id": "8edaf2cb-352b-4edb-84f2-9b99232810fc",
   "metadata": {
    "deletable": false,
    "editable": false,
    "nbgrader": {
     "cell_type": "code",
     "checksum": "43c24edd937cbb384d920c32acf0fa66",
     "grade": false,
     "grade_id": "cell-7c25b75ddb75a3d2",
     "locked": true,
     "schema_version": 3,
     "solution": false,
     "task": false
    },
    "tags": []
   },
   "outputs": [
    {
     "data": {
      "text/html": [
       "<div>\n",
       "<style scoped>\n",
       "    .dataframe tbody tr th:only-of-type {\n",
       "        vertical-align: middle;\n",
       "    }\n",
       "\n",
       "    .dataframe tbody tr th {\n",
       "        vertical-align: top;\n",
       "    }\n",
       "\n",
       "    .dataframe thead th {\n",
       "        text-align: right;\n",
       "    }\n",
       "</style>\n",
       "<table border=\"1\" class=\"dataframe\">\n",
       "  <thead>\n",
       "    <tr style=\"text-align: right;\">\n",
       "      <th></th>\n",
       "      <th>X</th>\n",
       "    </tr>\n",
       "  </thead>\n",
       "  <tbody>\n",
       "    <tr>\n",
       "      <th>0</th>\n",
       "      <td>5.338105</td>\n",
       "    </tr>\n",
       "    <tr>\n",
       "      <th>1</th>\n",
       "      <td>4.906813</td>\n",
       "    </tr>\n",
       "    <tr>\n",
       "      <th>2</th>\n",
       "      <td>5.006564</td>\n",
       "    </tr>\n",
       "    <tr>\n",
       "      <th>3</th>\n",
       "      <td>5.081503</td>\n",
       "    </tr>\n",
       "    <tr>\n",
       "      <th>4</th>\n",
       "      <td>4.842215</td>\n",
       "    </tr>\n",
       "  </tbody>\n",
       "</table>\n",
       "</div>"
      ],
      "text/plain": [
       "          X\n",
       "0  5.338105\n",
       "1  4.906813\n",
       "2  5.006564\n",
       "3  5.081503\n",
       "4  4.842215"
      ]
     },
     "execution_count": 95,
     "metadata": {},
     "output_type": "execute_result"
    }
   ],
   "source": [
    "# Dane do testów 1\n",
    "test_data_1 = pd.DataFrame(data=sp.stats.norm.rvs(loc=5, scale=0.2, size=20, random_state=7), columns=[\"X\"])\n",
    "test_data_1.head()"
   ]
  },
  {
   "cell_type": "code",
   "execution_count": 96,
   "id": "0e246dd6-845d-4120-8d5a-5b7a14c50f95",
   "metadata": {
    "deletable": false,
    "editable": false,
    "nbgrader": {
     "cell_type": "code",
     "checksum": "3e37330ab2084cf19310075344ea9398",
     "grade": false,
     "grade_id": "cell-5b3139e43775c32f",
     "locked": true,
     "schema_version": 3,
     "solution": false,
     "task": false
    },
    "tags": []
   },
   "outputs": [
    {
     "data": {
      "text/html": [
       "<div>\n",
       "<style scoped>\n",
       "    .dataframe tbody tr th:only-of-type {\n",
       "        vertical-align: middle;\n",
       "    }\n",
       "\n",
       "    .dataframe tbody tr th {\n",
       "        vertical-align: top;\n",
       "    }\n",
       "\n",
       "    .dataframe thead th {\n",
       "        text-align: right;\n",
       "    }\n",
       "</style>\n",
       "<table border=\"1\" class=\"dataframe\">\n",
       "  <thead>\n",
       "    <tr style=\"text-align: right;\">\n",
       "      <th></th>\n",
       "      <th>X</th>\n",
       "    </tr>\n",
       "  </thead>\n",
       "  <tbody>\n",
       "    <tr>\n",
       "      <th>0</th>\n",
       "      <td>5.338105</td>\n",
       "    </tr>\n",
       "    <tr>\n",
       "      <th>1</th>\n",
       "      <td>4.906813</td>\n",
       "    </tr>\n",
       "    <tr>\n",
       "      <th>2</th>\n",
       "      <td>5.006564</td>\n",
       "    </tr>\n",
       "    <tr>\n",
       "      <th>3</th>\n",
       "      <td>5.081503</td>\n",
       "    </tr>\n",
       "    <tr>\n",
       "      <th>4</th>\n",
       "      <td>4.842215</td>\n",
       "    </tr>\n",
       "  </tbody>\n",
       "</table>\n",
       "</div>"
      ],
      "text/plain": [
       "          X\n",
       "0  5.338105\n",
       "1  4.906813\n",
       "2  5.006564\n",
       "3  5.081503\n",
       "4  4.842215"
      ]
     },
     "execution_count": 96,
     "metadata": {},
     "output_type": "execute_result"
    }
   ],
   "source": [
    "test_data_2 = pd.DataFrame(data=sp.stats.norm.rvs(loc=5, scale=0.2, size=15, random_state=7), columns=[\"X\"])\n",
    "test_data_2.head()"
   ]
  },
  {
   "cell_type": "markdown",
   "id": "fc6595a2-d18f-486a-81e8-71840b0665a3",
   "metadata": {
    "deletable": false,
    "editable": false,
    "nbgrader": {
     "cell_type": "markdown",
     "checksum": "7e63ec4db51d5f60887bdb914a533ed6",
     "grade": false,
     "grade_id": "cell-884c1d189e37b467",
     "locked": true,
     "schema_version": 3,
     "solution": false,
     "task": false
    },
    "tags": []
   },
   "source": [
    "## Zadanie 1 [4 pkt]\n",
    "\n",
    "Badania kliniczne pokazały, że po podaniu pewnego leku w 10% przypadków występują skutki uboczne wymagające hospitalizacji.\n",
    "\n",
    "W pewnej klinice podano lek grupie 30 pacjentów. Jakie jest prawdopodobieństwo, że co najmniej 25 z tych osób nie będzie wymagało hospitalizacji?\n",
    "\n",
    "Wynik zapisz do zmiennej `p`."
   ]
  },
  {
   "cell_type": "code",
   "execution_count": 97,
   "id": "1199aed7-ae66-4095-9068-13199ace4cb8",
   "metadata": {
    "deletable": false,
    "nbgrader": {
     "cell_type": "code",
     "checksum": "e6af11d29e75a43228849bc7e6c4040a",
     "grade": false,
     "grade_id": "cell-328b607aafafa4ce",
     "locked": false,
     "schema_version": 3,
     "solution": true,
     "task": false
    },
    "tags": []
   },
   "outputs": [],
   "source": [
    "# YOUR CODE HERE\n",
    "k=25\n",
    "N=30\n",
    "p=sp.stats.binomtest(k,N,p=0.1).pvalue\n",
    "#raise NotImplementedError()"
   ]
  },
  {
   "cell_type": "code",
   "execution_count": 98,
   "id": "7b9b7282-5658-45b2-829f-f51fae893755",
   "metadata": {
    "deletable": false,
    "editable": false,
    "nbgrader": {
     "cell_type": "code",
     "checksum": "9995b074837229bb35050fca3565bc06",
     "grade": true,
     "grade_id": "cell-e646a3ab55f95f64",
     "locked": true,
     "points": 4,
     "schema_version": 3,
     "solution": false,
     "task": false
    },
    "tags": []
   },
   "outputs": [],
   "source": [
    "# Komórka testowa\n",
    "assert isinstance(p, float)\n"
   ]
  },
  {
   "cell_type": "markdown",
   "id": "d7f6d1be-c897-4b77-9be2-62d4f356f9da",
   "metadata": {
    "deletable": false,
    "editable": false,
    "nbgrader": {
     "cell_type": "markdown",
     "checksum": "f4db3640fbfe8f36d19df36f7429dc01",
     "grade": false,
     "grade_id": "cell-cf4de8070334ee9b",
     "locked": true,
     "schema_version": 3,
     "solution": false,
     "task": false
    },
    "tags": []
   },
   "source": [
    "## Zadanie 2 [6 pkt]\n",
    "\n",
    "Przygotuj funkcję `variance_estimation()`, która będzie dokonywała estymacji przedziałowej wariancji dla danych wejściowych w postaci szeregu szczegółowego zgodnie z informacjami zawartymi w docstring funkcji oraz ze schematem z załączonego do notatnika zestawu wzorów (przypadek dla nieznanej wartości oczekiwanej populacji).\n",
    "\n",
    "Uwaga! Zadanie dotyczy tradycyjnej estymacji, nie metody bootstrap."
   ]
  },
  {
   "cell_type": "code",
   "execution_count": 99,
   "id": "6469ea3f-f0dd-4dac-bec4-ff9018780969",
   "metadata": {
    "deletable": false,
    "nbgrader": {
     "cell_type": "code",
     "checksum": "728658bed350c9f6b038cb125e1e8110",
     "grade": false,
     "grade_id": "cell-00b25bd896944c4d",
     "locked": false,
     "schema_version": 3,
     "solution": true,
     "task": false
    },
    "tags": []
   },
   "outputs": [
    {
     "data": {
      "text/plain": [
       "(0.018268125369359626, 0.05442967510189219)"
      ]
     },
     "execution_count": 99,
     "metadata": {},
     "output_type": "execute_result"
    }
   ],
   "source": [
    "def variance_estimation(data, alpha):\n",
    "    \"\"\"\n",
    "    Parameters\n",
    "    -------\n",
    "    data: DataFrame\n",
    "        Tablica zawierająca domyślny indeks i pojedynczą kolumnę \"X\" z wartościami próby losowej,\n",
    "    alpha: float\n",
    "        Wartość określająca poziom istotności.\n",
    "    \n",
    "    Returns\n",
    "    -------\n",
    "    var_low: float\n",
    "        Dolna granica wyliczonego przedziału ufności.\n",
    "    var_high: float\n",
    "        Górna granica wyliczonego przedziału ufności.\n",
    "    \"\"\"\n",
    "    L=len(data);\n",
    "    #if population_mean == \"unknown\":\n",
    "    S=np.var(test_data_1,ddof=1,axis=0);\n",
    "    lower=((L-1)*S)/sp.stats.chi2.ppf(1-alpha/2,L-1);\n",
    "    upper=((L-1)*S)/sp.stats.chi2.ppf(alpha/2,L-1);\n",
    "    return lower.iloc[0],upper.iloc[0]\n",
    "    # YOUR CODE HERE\n",
    "#raise NotImplementedError()\n",
    "variance_estimation(test_data_1, 0.1)"
   ]
  },
  {
   "cell_type": "code",
   "execution_count": 100,
   "id": "74dc6887-190d-449f-9be8-0f7381d5307a",
   "metadata": {
    "deletable": false,
    "editable": false,
    "nbgrader": {
     "cell_type": "code",
     "checksum": "b7956122298b7461ac47ad54aca62cdb",
     "grade": true,
     "grade_id": "cell-60ea6c2bcb228b58",
     "locked": true,
     "points": 6,
     "schema_version": 3,
     "solution": false,
     "task": false
    },
    "tags": []
   },
   "outputs": [],
   "source": [
    "# Komórka testowa\n",
    "result = variance_estimation(test_data_1, 0.1)\n",
    "assert type(result)==tuple or type(result)==list\n",
    "assert len(result)==2\n",
    "assert isinstance(result[0], float)\n",
    "assert isinstance(result[1], float)\n"
   ]
  },
  {
   "cell_type": "markdown",
   "id": "77964cda-1984-441e-abd2-9d5f6fb267c9",
   "metadata": {
    "deletable": false,
    "editable": false,
    "nbgrader": {
     "cell_type": "markdown",
     "checksum": "152dbbae3e61863345e562e24779ef73",
     "grade": false,
     "grade_id": "cell-c8e867a6c3891000",
     "locked": true,
     "schema_version": 3,
     "solution": false,
     "task": false
    },
    "tags": []
   },
   "source": [
    "## Zadanie 3 [6 pkt]\n",
    "\n",
    "Przygotuj funkcję `mean_NHST()`, która będzie weryfikować hipotezę o wartości przeciętnej dla danych wejściowych w postaci szeregu szczegółowego zgodnie z informacjami zawartymi w docstring funkcji oraz ze schematem z załączonego do notatnika zestawu wzorów.\n",
    "\n",
    "Uwaga! Zadanie dotyczy tradycyjnej weryfikacji, nie metody bootstrap."
   ]
  },
  {
   "cell_type": "code",
   "execution_count": 101,
   "id": "97e358ac-380e-4057-b4ee-fd8a54e29cb4",
   "metadata": {
    "deletable": false,
    "nbgrader": {
     "cell_type": "code",
     "checksum": "e31d1a1260852d430332a97ccd8654df",
     "grade": false,
     "grade_id": "cell-146cf426bb90e71e",
     "locked": false,
     "schema_version": 3,
     "solution": true,
     "task": false
    },
    "tags": []
   },
   "outputs": [
    {
     "data": {
      "text/plain": [
       "(2.1447866879169273, -1.934667783708126, 0)"
      ]
     },
     "execution_count": 101,
     "metadata": {},
     "output_type": "execute_result"
    }
   ],
   "source": [
    "def mean_NHST(data, H0, H1, alpha):\n",
    "    \"\"\"\n",
    "    Parameters\n",
    "    -------\n",
    "    data: DataFrame\n",
    "        Tablica zawierająca domyślny indeks i kolumnę \"X\" wynikami próby losowej.\n",
    "    H0: float\n",
    "        Wartość przeciętna przyjęta jako hipoteza zerowa.\n",
    "    H1: str\n",
    "        Postać hipotezy alternatywnej, przyjmuje wartości:\n",
    "        - two-sided: wartość przeciętna jest różna od wartości przyjętej w H0,\n",
    "        - less: wartość przeciętna jest mniejsza od wartości przyjętej w H0,\n",
    "        - greater: wartość przeciętna jest większa od wartości przyjętej w H0.\n",
    "    alpha: float\n",
    "        Wartość określająca poziom istotności.\n",
    "    \n",
    "    Returns\n",
    "    -------\n",
    "    t: float\n",
    "        Wyliczona na podstawie próby losowej wartość statystyki t.\n",
    "    t_alpha: float\n",
    "        Wartość statystyki t_alpha.\n",
    "    H: int\n",
    "        Wynik testu statystycznego, przyjmuje wartość:\n",
    "        0 - gdy wynik testu istotności nie daje podstaw do odrzucenia H0 na rzecz H1 na poziomie istotności 1-alpha,\n",
    "        1 - gdy następuje odrzucenie H0 na rzecz H1 na poziomie istotności 1-alpha.\n",
    "    \"\"\"\n",
    "    L=len(data)\n",
    "    srednia=np.mean(data)\n",
    "    var=np.var(data,ddof=1,axis=0)\n",
    "    t=((srednia-H0)/np.sqrt(var))*np.sqrt(L)\n",
    "    t=t.iloc[0]\n",
    "    H=0\n",
    "    if H1==\"two-sided\":\n",
    "        t_alpha=sp.stats.t.ppf(1-alpha/2,L-1)\n",
    "        if abs(t)>=t_alpha:\n",
    "            H=1\n",
    "    if H1==\"less\":\n",
    "        t_alpha=sp.stats.t.ppf(alpha,L-1)\n",
    "        if t<=t_alpha:\n",
    "            H=1\n",
    "    if H1==\"greater\":\n",
    "        t_alpha=sp.stats.t.ppf(1-alpha,L-1)\n",
    "        if t>=t_alpha:\n",
    "            H=1\n",
    "    return t_alpha,t,H\n",
    "    # YOUR CODE HERE\n",
    "mean_NHST(test_data_2, 5.08, \"two-sided\", 0.05)\n",
    "#raise NotImplementedError()"
   ]
  },
  {
   "cell_type": "code",
   "execution_count": 102,
   "id": "758ec4ce-2cd7-4e0c-9f4c-4f532d74a519",
   "metadata": {
    "deletable": false,
    "editable": false,
    "nbgrader": {
     "cell_type": "code",
     "checksum": "a85821fdef2df88fcd08473fa084b5bb",
     "grade": true,
     "grade_id": "cell-aa9e98593265cfc8",
     "locked": true,
     "points": 6,
     "schema_version": 3,
     "solution": false,
     "task": false
    },
    "tags": []
   },
   "outputs": [],
   "source": [
    "# Komórka testowa\n",
    "result = mean_NHST(test_data_2, 5.08, \"two-sided\", 0.05)\n",
    "assert type(result)==tuple or type(result)==list\n",
    "assert len(result)==3\n",
    "assert isinstance(result[0], float)\n",
    "assert isinstance(result[1], float)\n",
    "assert isinstance(result[2], float) or isinstance(result[2], int)\n"
   ]
  },
  {
   "cell_type": "markdown",
   "id": "b5fe3dfa-2d15-4343-8774-9dcf70974f59",
   "metadata": {
    "deletable": false,
    "editable": false,
    "nbgrader": {
     "cell_type": "markdown",
     "checksum": "2fca27890826e35c3286a0e9d7eb873b",
     "grade": false,
     "grade_id": "cell-6028b9fa6492116d",
     "locked": true,
     "schema_version": 3,
     "solution": false,
     "task": false
    },
    "tags": []
   },
   "source": [
    "## Zadanie 4 [12 pkt]\n",
    "\n",
    "Zmienna `pulse` zawiera informacje na temat osób biorących udział w badaniu tętna przed i po wysiłku fizycznym (trzy \"okrążenia\" chodząc w górę i w dół po schodach):\n",
    " - Active - tętno (uderzenia na minutę) po ćwiczeniach\n",
    " - Rest - tętno spoczynkowe (uderzenia na minutę)\n",
    " - Sex - płeć\n",
    " - Hgt - wzrost (w calach)\n",
    " - Wgt - waga (w funtach)"
   ]
  },
  {
   "cell_type": "code",
   "execution_count": 103,
   "id": "363b601f-d405-487c-acdd-fd55889e0aea",
   "metadata": {
    "deletable": false,
    "editable": false,
    "nbgrader": {
     "cell_type": "code",
     "checksum": "e0ff22c69481c8dab1d229546a745a94",
     "grade": false,
     "grade_id": "cell-c89d92fcb70b8807",
     "locked": true,
     "schema_version": 3,
     "solution": false,
     "task": false
    },
    "tags": []
   },
   "outputs": [
    {
     "data": {
      "text/html": [
       "<div>\n",
       "<style scoped>\n",
       "    .dataframe tbody tr th:only-of-type {\n",
       "        vertical-align: middle;\n",
       "    }\n",
       "\n",
       "    .dataframe tbody tr th {\n",
       "        vertical-align: top;\n",
       "    }\n",
       "\n",
       "    .dataframe thead th {\n",
       "        text-align: right;\n",
       "    }\n",
       "</style>\n",
       "<table border=\"1\" class=\"dataframe\">\n",
       "  <thead>\n",
       "    <tr style=\"text-align: right;\">\n",
       "      <th></th>\n",
       "      <th>Active</th>\n",
       "      <th>Rest</th>\n",
       "      <th>Sex</th>\n",
       "      <th>Hgt</th>\n",
       "      <th>Wgt</th>\n",
       "    </tr>\n",
       "  </thead>\n",
       "  <tbody>\n",
       "    <tr>\n",
       "      <th>0</th>\n",
       "      <td>97</td>\n",
       "      <td>78</td>\n",
       "      <td>Female</td>\n",
       "      <td>63</td>\n",
       "      <td>119</td>\n",
       "    </tr>\n",
       "    <tr>\n",
       "      <th>1</th>\n",
       "      <td>82</td>\n",
       "      <td>68</td>\n",
       "      <td>Male</td>\n",
       "      <td>70</td>\n",
       "      <td>225</td>\n",
       "    </tr>\n",
       "    <tr>\n",
       "      <th>2</th>\n",
       "      <td>88</td>\n",
       "      <td>62</td>\n",
       "      <td>Male</td>\n",
       "      <td>72</td>\n",
       "      <td>175</td>\n",
       "    </tr>\n",
       "    <tr>\n",
       "      <th>3</th>\n",
       "      <td>106</td>\n",
       "      <td>74</td>\n",
       "      <td>Male</td>\n",
       "      <td>72</td>\n",
       "      <td>170</td>\n",
       "    </tr>\n",
       "    <tr>\n",
       "      <th>4</th>\n",
       "      <td>78</td>\n",
       "      <td>63</td>\n",
       "      <td>Female</td>\n",
       "      <td>67</td>\n",
       "      <td>125</td>\n",
       "    </tr>\n",
       "    <tr>\n",
       "      <th>...</th>\n",
       "      <td>...</td>\n",
       "      <td>...</td>\n",
       "      <td>...</td>\n",
       "      <td>...</td>\n",
       "      <td>...</td>\n",
       "    </tr>\n",
       "    <tr>\n",
       "      <th>227</th>\n",
       "      <td>105</td>\n",
       "      <td>85</td>\n",
       "      <td>Female</td>\n",
       "      <td>64</td>\n",
       "      <td>150</td>\n",
       "    </tr>\n",
       "    <tr>\n",
       "      <th>228</th>\n",
       "      <td>82</td>\n",
       "      <td>74</td>\n",
       "      <td>Female</td>\n",
       "      <td>66</td>\n",
       "      <td>124</td>\n",
       "    </tr>\n",
       "    <tr>\n",
       "      <th>229</th>\n",
       "      <td>102</td>\n",
       "      <td>81</td>\n",
       "      <td>Male</td>\n",
       "      <td>69</td>\n",
       "      <td>172</td>\n",
       "    </tr>\n",
       "    <tr>\n",
       "      <th>230</th>\n",
       "      <td>87</td>\n",
       "      <td>67</td>\n",
       "      <td>Male</td>\n",
       "      <td>68</td>\n",
       "      <td>170</td>\n",
       "    </tr>\n",
       "    <tr>\n",
       "      <th>231</th>\n",
       "      <td>81</td>\n",
       "      <td>62</td>\n",
       "      <td>Male</td>\n",
       "      <td>68</td>\n",
       "      <td>151</td>\n",
       "    </tr>\n",
       "  </tbody>\n",
       "</table>\n",
       "<p>232 rows × 5 columns</p>\n",
       "</div>"
      ],
      "text/plain": [
       "     Active  Rest     Sex  Hgt  Wgt\n",
       "0        97    78  Female   63  119\n",
       "1        82    68    Male   70  225\n",
       "2        88    62    Male   72  175\n",
       "3       106    74    Male   72  170\n",
       "4        78    63  Female   67  125\n",
       "..      ...   ...     ...  ...  ...\n",
       "227     105    85  Female   64  150\n",
       "228      82    74  Female   66  124\n",
       "229     102    81    Male   69  172\n",
       "230      87    67    Male   68  170\n",
       "231      81    62    Male   68  151\n",
       "\n",
       "[232 rows x 5 columns]"
      ]
     },
     "execution_count": 103,
     "metadata": {},
     "output_type": "execute_result"
    }
   ],
   "source": [
    "pulse = pd.read_csv(\"pulse_data.csv\", index_col=0)\n",
    "pulse"
   ]
  },
  {
   "cell_type": "markdown",
   "id": "179643ec-aba1-47ea-bbc3-be5921cc969c",
   "metadata": {
    "deletable": false,
    "editable": false,
    "nbgrader": {
     "cell_type": "markdown",
     "checksum": "036161d391d7e1f7de7e4e7303bf049f",
     "grade": false,
     "grade_id": "cell-f49d255da2490d3a",
     "locked": true,
     "schema_version": 3,
     "solution": false,
     "task": false
    },
    "tags": []
   },
   "source": [
    "### a)\n",
    "\n",
    "W oparciu o dane ze zmiennej `pulse` przygotuj wykresy korelacyjne i kde (pairplot) zestawiające ze sobą poszczególne parametry liczbowe (osie X, Y) z podziałem na płeć osób biorących udział w badaniu (rozróżnione kolorem) i ustaw:\n",
    " - inną od domyślnej skalę kolorów (każda płeć ma przypisany inny kolor wykresu),\n",
    " - inne od domyślnych własności punktów (kształt, wielkość, przeźroczystość) dobrane tak, aby wykres był jak najbardziej czytelny."
   ]
  },
  {
   "cell_type": "code",
   "execution_count": 104,
   "id": "3f5842b5-e472-4d3e-a51b-df0ff068e226",
   "metadata": {
    "deletable": false,
    "nbgrader": {
     "cell_type": "code",
     "checksum": "5371806b773e94492af5b258c84c6459",
     "grade": true,
     "grade_id": "cell-c8281a216810df8a",
     "locked": false,
     "points": 2,
     "schema_version": 3,
     "solution": true,
     "task": false
    },
    "tags": []
   },
   "outputs": [],
   "source": [
    "# YOUR CODE HERE\n",
    "#raise NotImplementedError()"
   ]
  },
  {
   "cell_type": "markdown",
   "id": "9666393c-d9b2-4ea1-85e8-6e90b19a0328",
   "metadata": {
    "deletable": false,
    "editable": false,
    "nbgrader": {
     "cell_type": "markdown",
     "checksum": "3078bcf8809d9a8d9ccf8f089702d565",
     "grade": false,
     "grade_id": "cell-91ad70eef9e6a4bf",
     "locked": true,
     "schema_version": 3,
     "solution": false,
     "task": false
    },
    "tags": []
   },
   "source": [
    "### b)\n",
    "\n",
    "W oparciu o dane ze zmiennej `pulse` przygotuj wykresy violinplot i stripplot wybranego przez siebie parametru liczbowego (oś Y) z podziałem na rozróżnioną kolorem płeć (oś X).\n",
    "\n",
    "Wykresy zestaw na pojedynczej figurze (1x2 pola na wykres). Przygotowując figurę kieruj się wytycznymi z początku notatnika. Dodatkowo ustaw:\n",
    " - dla wykresu violinplot:\n",
    "     - inny od domyślnego kolor wykresu,\n",
    " - dla wykresu stripplot:\n",
    "     - inne od domyślnych rozmiar, kolor i przeźroczystość punktów (dobierz parametry tak, aby wykres był jak najbardziej przejrzysty)."
   ]
  },
  {
   "cell_type": "code",
   "execution_count": 105,
   "id": "5f6a654d-6dcb-4a39-8616-a3525ee6f9c8",
   "metadata": {
    "deletable": false,
    "nbgrader": {
     "cell_type": "code",
     "checksum": "e1b8d97d77f6c16c0ca5e7cbc817485d",
     "grade": true,
     "grade_id": "cell-da00623fe210a9ed",
     "locked": false,
     "points": 3,
     "schema_version": 3,
     "solution": true,
     "task": false
    },
    "tags": []
   },
   "outputs": [
    {
     "ename": "NotImplementedError",
     "evalue": "",
     "output_type": "error",
     "traceback": [
      "\u001b[1;31m---------------------------------------------------------------------------\u001b[0m",
      "\u001b[1;31mNotImplementedError\u001b[0m                       Traceback (most recent call last)",
      "Cell \u001b[1;32mIn[105], line 2\u001b[0m\n\u001b[0;32m      1\u001b[0m \u001b[38;5;66;03m# YOUR CODE HERE\u001b[39;00m\n\u001b[1;32m----> 2\u001b[0m \u001b[38;5;28;01mraise\u001b[39;00m \u001b[38;5;167;01mNotImplementedError\u001b[39;00m()\n",
      "\u001b[1;31mNotImplementedError\u001b[0m: "
     ]
    }
   ],
   "source": [
    "# YOUR CODE HERE\n",
    "raise NotImplementedError()"
   ]
  },
  {
   "cell_type": "markdown",
   "id": "7d874711-9b80-4091-9f1e-7542541ca392",
   "metadata": {
    "deletable": false,
    "editable": false,
    "nbgrader": {
     "cell_type": "markdown",
     "checksum": "eb8c78b3bb7288d87be779dc248ce71a",
     "grade": false,
     "grade_id": "cell-2d211f41f63c96f8",
     "locked": true,
     "schema_version": 3,
     "solution": false,
     "task": false
    },
    "tags": []
   },
   "source": [
    "### c)\n",
    "\n",
    "Załóżmy, że zmianna `pulse` zawiera pełną populację wyników ekperymentu. Wylosuj z niej i zapisz do zmiennej `sample` próbę losową zawierającą po 20 osób każdej płci wylosowanych bez zwracania."
   ]
  },
  {
   "cell_type": "code",
   "execution_count": null,
   "id": "b9935c3d-9b15-4a18-af7c-79f134adbddc",
   "metadata": {
    "deletable": false,
    "nbgrader": {
     "cell_type": "code",
     "checksum": "2e3b9cb4e477616c05900a1df2561d86",
     "grade": false,
     "grade_id": "cell-fd24200c1c04a1d0",
     "locked": false,
     "schema_version": 3,
     "solution": true,
     "task": false
    },
    "tags": []
   },
   "outputs": [],
   "source": [
    "# YOUR CODE HERE\n",
    "sampleM=pulse[pulse['Sex']=='Male'].sample(n=20,replace=False)\n",
    "sampleF=pulse[pulse['Sex']=='Female'].sample(n=20,replace=False)\n",
    "sample=pd.concat([sampleM,sampleF])\n",
    "sample"
   ]
  },
  {
   "cell_type": "code",
   "execution_count": null,
   "id": "ecd4befb-84c8-4985-9e64-32f62858c8a5",
   "metadata": {
    "deletable": false,
    "editable": false,
    "nbgrader": {
     "cell_type": "code",
     "checksum": "04ccc21d8a8d1fa4f66ee421c6566368",
     "grade": true,
     "grade_id": "cell-aa13981f3d95fd2d",
     "locked": true,
     "points": 2,
     "schema_version": 3,
     "solution": false,
     "task": false
    },
    "tags": []
   },
   "outputs": [],
   "source": [
    "# Komórka testowa\n",
    "assert type(sample) == pd.DataFrame\n"
   ]
  },
  {
   "cell_type": "markdown",
   "id": "55080b25-579b-43d3-964f-8e16a6eea104",
   "metadata": {
    "deletable": false,
    "editable": false,
    "nbgrader": {
     "cell_type": "markdown",
     "checksum": "34ce5ce16d7e6dd5b8394a6d0ee9c0b1",
     "grade": false,
     "grade_id": "cell-89f8cf6f4014b381",
     "locked": true,
     "schema_version": 3,
     "solution": false,
     "task": false
    },
    "tags": []
   },
   "source": [
    "### d)\n",
    "\n",
    "Korzystając z dedykowanej do tego funkcji pakietu scipy dokonaj estymacji przedziałowej współczynnika korelacji liniowej między tętnem aktywnym a pasywnym uczestników eksperymentu na poziomie istotności 1-alpha = 0.9.\n",
    "\n",
    "Wynik zapisz do zmiennej `r_ci` zawierającej listę lub krotkę z dolną i górną granicą przedziału ufności. Ustaw wartość argumentu funkcji odpowiadającego za ziarno generatora liczb losowych funkcji na 127."
   ]
  },
  {
   "cell_type": "code",
   "execution_count": 119,
   "id": "1b4e5e43-affd-407f-9cc6-d4eb9ab5c363",
   "metadata": {
    "deletable": false,
    "nbgrader": {
     "cell_type": "code",
     "checksum": "78f40c6027906ec7adb14be117447244",
     "grade": false,
     "grade_id": "cell-b6f52487824e8671",
     "locked": false,
     "schema_version": 3,
     "solution": true,
     "task": false
    },
    "tags": []
   },
   "outputs": [
    {
     "data": {
      "text/plain": [
       "(0.535618021435404, 0.6727561547766148)"
      ]
     },
     "execution_count": 119,
     "metadata": {},
     "output_type": "execute_result"
    }
   ],
   "source": [
    "# YOUR CODE HERE\n",
    "r=np.corrcoef(pulse['Rest'],pulse['Active'])[0,1]\n",
    "alpha=0.1\n",
    "N=len(pulse['Rest'])\n",
    "r_low=r-sp.stats.norm.ppf(1-alpha/2)*(1-r**2)/np.sqrt(N)\n",
    "r_high=r+sp.stats.norm.ppf(1-alpha/2)*(1-r**2)/np.sqrt(N)\n",
    "r_ci=(r_low,r_high)\n",
    "r_ci\n",
    "#raise NotImplementedError()"
   ]
  },
  {
   "cell_type": "code",
   "execution_count": 120,
   "id": "2dc24ca2-d6f8-47b2-b790-a2741cc2c6d1",
   "metadata": {
    "deletable": false,
    "editable": false,
    "nbgrader": {
     "cell_type": "code",
     "checksum": "50913673aa862438b445a5bf764a64ea",
     "grade": true,
     "grade_id": "cell-94f8e37e60f83338",
     "locked": true,
     "points": 3,
     "schema_version": 3,
     "solution": false,
     "task": false
    },
    "tags": []
   },
   "outputs": [],
   "source": [
    "# Komórka testowa\n",
    "assert type(r_ci)==tuple or type(r_ci)==list\n",
    "assert len(r_ci)==2\n",
    "assert isinstance(r_ci[0], float)\n",
    "assert isinstance(r_ci[1], float)\n"
   ]
  },
  {
   "cell_type": "markdown",
   "id": "46d91be5-def2-4da3-b834-bf03848f7d42",
   "metadata": {
    "deletable": false,
    "editable": false,
    "nbgrader": {
     "cell_type": "markdown",
     "checksum": "b122f5dfba2534da6ee39258dfd8126b",
     "grade": false,
     "grade_id": "cell-a26e10222f478e64",
     "locked": true,
     "schema_version": 3,
     "solution": false,
     "task": false
    },
    "tags": []
   },
   "source": [
    "### e)\n",
    "\n",
    "Korzystając z dedykowanej funkcji pakietu scipy zweryfikuj hipotezę, że tętna aktywne kobiet i mężczyzn biorących udział w eksperymencie mają taki sam rozkład statystyczny. W obliczeniach przyjmij poziom istotności 1 - alpha = 0.98.\n",
    "\n",
    "Zapisz obliczoną wartość pvalue do zmiennej `pvalue`, oraz przygotuj zmienną `H` zawierającą wynik testu statystycznego (0 - gdy wynik testu istotności nie daje podstaw do odrzucenia H0 na rzecz H1 na poziomie istotności 1-alpha, 1 - gdy następuje odrzucenie H0 na rzecz H1 na poziomie istotności 1-alpha)."
   ]
  },
  {
   "cell_type": "code",
   "execution_count": null,
   "id": "ec0bce6e-e0a7-4e6f-bbe4-fb32ad1fad05",
   "metadata": {
    "deletable": false,
    "nbgrader": {
     "cell_type": "code",
     "checksum": "e97121b9a7833f020edc9ecd609fcfac",
     "grade": false,
     "grade_id": "cell-b644105f89af5513",
     "locked": false,
     "schema_version": 3,
     "solution": true,
     "task": false
    },
    "tags": []
   },
   "outputs": [],
   "source": [
    "# YOUR CODE HERE\n",
    "pvalue=sp.stats.ks_2samp(pulse[pulse['Sex']=='Male']['Active'],pulse[pulse['Sex']\\\n",
    "                         =='Female']['Active']).pvalue\n",
    "alpha=0.02\n",
    "pvalue\n",
    "H=0\n",
    "if pvalue<=alpha:\n",
    "    H=1\n",
    "H\n",
    "#raise NotImplementedError()"
   ]
  },
  {
   "cell_type": "code",
   "execution_count": null,
   "id": "cc7e70ab-6d87-4f57-837d-11cb4b116056",
   "metadata": {
    "deletable": false,
    "editable": false,
    "nbgrader": {
     "cell_type": "code",
     "checksum": "f5b3667c0dbc30c17a0b525178de2fbf",
     "grade": true,
     "grade_id": "cell-2dd896b4ca1ac760",
     "locked": true,
     "points": 2,
     "schema_version": 3,
     "solution": false,
     "task": false
    },
    "tags": []
   },
   "outputs": [],
   "source": [
    "# Komórka testowa\n",
    "assert isinstance(pvalue, float)\n",
    "assert isinstance(H, float) or isinstance(H, int)\n"
   ]
  },
  {
   "cell_type": "code",
   "execution_count": null,
   "id": "9faaab39-3eaf-4ab5-8d10-d0127cbda672",
   "metadata": {},
   "outputs": [],
   "source": []
  }
 ],
 "metadata": {
  "kernelspec": {
   "display_name": "Python 3 (ipykernel)",
   "language": "python",
   "name": "python3"
  },
  "language_info": {
   "codemirror_mode": {
    "name": "ipython",
    "version": 3
   },
   "file_extension": ".py",
   "mimetype": "text/x-python",
   "name": "python",
   "nbconvert_exporter": "python",
   "pygments_lexer": "ipython3",
   "version": "3.12.2"
  }
 },
 "nbformat": 4,
 "nbformat_minor": 5
}
