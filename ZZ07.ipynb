{
 "cells": [
  {
   "cell_type": "markdown",
   "id": "9a41309b",
   "metadata": {
    "deletable": false,
    "editable": false,
    "nbgrader": {
     "cell_type": "markdown",
     "checksum": "ff0bc2c9546dc7416a62ab1f8e86fe5a",
     "grade": false,
     "grade_id": "cell-fcd2666579131b77",
     "locked": true,
     "schema_version": 3,
     "solution": false,
     "task": false
    },
    "tags": []
   },
   "source": [
    "# Statystyka matematyczna - ćwiczenia laboratoryjne 2023/2024\n",
    "\n",
    "Ten notatnik zalicza się do grupy zestawów zadań, na podstawie których odbywa się zaliczenie ćwiczeń i podlega zwrotowi do oceny w ustalonym na zajęciach terminie.\n",
    "\n",
    "Uwagi i wytyczne ogólne dotyczące uzupełniania notatnika:\n",
    "- Podczas wykonywania zadań należy korzystać wyłącznie z pakietów zaimportowanych na początku notatnika oraz z pakietów wchodzących w skład standardowej biblioteki Pythona, które można zaimportować samodzielnie we wskazanej komórce notatnika.\n",
    "- Swoje rozwiązania należy wprowadzać wyłącznie w miejce następujących fragmentów kodu:<br/> `# YOUR CODE HERE`<br/> `raise NotImplementedError()`<br/> \n",
    "a odpowiedzi tekstowe w komórkach oznaczonych hasłem:<br/> \n",
    "`YOUR ANSWER HERE`<br/> \n",
    "Nie należy w żaden sposób modyfikować pozostałych fragmentów kodu oraz innych elementów notatnika, w szczególności dodawać lub usuwać komórek oraz zmieniać nazwy pliku.\n",
    "- Otrzymywane wyniki i odpowiedzi mają być rezultatem wykonania napisanego kodu.\n",
    "- Zadanie należy wykonać w taki sposób, aby podczas wykonywania kodu nie zostały wyświetlone żadne ostrzeżenia.\n",
    "- Zawarte w notatniku automatyczne testy mają charakter poglądowy. Dotyczą one wybranych aspektów zadań i mają za zadanie wyłapać podstawowe błędy. Przejście wszystkich testów nie oznacza, że zadanie jest wykonane w całości poprawnie.\n",
    "\n",
    "Uwagi i wytyczne ogólne dotyczące wizualizacji wyników:\n",
    "- Wszystkie wykresy powinny być wykonane w jednolitym, przejrzystym i czytelnym stylu, posiadać odpowiednio dobrane proporcje i zakresy wartości osi.\n",
    "- Wykresy oraz ich osie powinny mieć nadane tytuły. Jeżeli w obrębie figury znajduje się więcej niż jeden wykres to figura również powinna mieć nadany tytuł. \n",
    "- Figury powinny mieć ustawione białe tło, tak, aby niezależnie od ustawień notatnika wszystkie elementy wykresów były dobrze widoczne (domyślnie tło jest przeźroczyste co może powodować problemy w notatnikach z ustawionym ciemnym tłem).\n",
    "- Rozmiar poziomy figur nie powinien przekraczać 20 cali.\n",
    "\n",
    "Przed odesłaniem zestawu zadań do oceny proszę uzupełnić komórkę z danymi autorów rozwiązania (nazwa zespołu oraz imiona, nazwiska i numery indeksów członków zespołu) oraz upewnić się, że notatnik działa zgodnie z oczekiwaniami. W tym celu należy skorzystać z opcji **Restart Kernel and Run All Cells...** dostępnej na górnej belce notatnika pod symbolem $\\blacktriangleright\\blacktriangleright$."
   ]
  },
  {
   "cell_type": "markdown",
   "id": "e076a281",
   "metadata": {},
   "source": [
    "Nazwa zespołu:\n",
    "Członkowie:"
   ]
  },
  {
   "cell_type": "markdown",
   "id": "6b4bb37d",
   "metadata": {
    "deletable": false,
    "editable": false,
    "nbgrader": {
     "cell_type": "markdown",
     "checksum": "eddc8826810e4a6f7bf68319da334bd9",
     "grade": false,
     "grade_id": "cell-109006d425e5cf83",
     "locked": true,
     "schema_version": 3,
     "solution": false,
     "task": false
    },
    "tags": []
   },
   "source": [
    "---"
   ]
  },
  {
   "cell_type": "markdown",
   "id": "df4be34d-21e6-452a-97aa-bf05de6b39e1",
   "metadata": {
    "deletable": false,
    "editable": false,
    "nbgrader": {
     "cell_type": "markdown",
     "checksum": "aff826f39b8a7d1a0d5b53ad8cd2013b",
     "grade": false,
     "grade_id": "cell-b146167e75f1aeb6",
     "locked": true,
     "schema_version": 3,
     "solution": false,
     "task": false
    },
    "tags": []
   },
   "source": [
    "# Zestaw zadań 7: Estymacja nieparametryczna"
   ]
  },
  {
   "cell_type": "code",
   "execution_count": 2,
   "id": "7c2d62fb-48b0-4991-be32-8f56ec67c10c",
   "metadata": {
    "deletable": false,
    "editable": false,
    "nbgrader": {
     "cell_type": "code",
     "checksum": "09248a1a052a7953a57f223393c41130",
     "grade": false,
     "grade_id": "cell-1b3908c839230e11",
     "locked": true,
     "schema_version": 3,
     "solution": false,
     "task": false
    },
    "tags": []
   },
   "outputs": [],
   "source": [
    "import numpy as np\n",
    "import pandas as pd\n",
    "import scipy as sp\n",
    "import matplotlib as mpl\n",
    "import matplotlib.pyplot as plt\n",
    "import seaborn as sns\n",
    "from sklearn.neighbors import KernelDensity"
   ]
  },
  {
   "cell_type": "code",
   "execution_count": 3,
   "id": "413a3f34-c671-4719-b16c-5e595179e626",
   "metadata": {},
   "outputs": [],
   "source": [
    "# Miejsce do importu pakietów wchodzących w skład standardowej biblioteki Pythona oraz ustawienie opcji wykorzystywanych pakietów"
   ]
  },
  {
   "cell_type": "markdown",
   "id": "b7e4c234-bed2-4f3e-bb99-1dca14598c03",
   "metadata": {
    "deletable": false,
    "editable": false,
    "nbgrader": {
     "cell_type": "markdown",
     "checksum": "e06ad9866f55cbddf29b2586ca6cbfdc",
     "grade": false,
     "grade_id": "cell-f0c53a7a02a0160c",
     "locked": true,
     "schema_version": 3,
     "solution": false,
     "task": false
    },
    "tags": []
   },
   "source": [
    "### Dane do zadań\n",
    "\n",
    "W celu wygenerowania danych wykonaj poniższą komórkę."
   ]
  },
  {
   "cell_type": "code",
   "execution_count": 4,
   "id": "7640ad8f-5750-45cd-a846-88e5f0b2b2e9",
   "metadata": {
    "deletable": false,
    "editable": false,
    "nbgrader": {
     "cell_type": "code",
     "checksum": "6452589b82abbb78f0a0298831f2c0cf",
     "grade": false,
     "grade_id": "cell-880538eb8c2d8aae",
     "locked": true,
     "schema_version": 3,
     "solution": false,
     "task": false
    },
    "tags": []
   },
   "outputs": [
    {
     "data": {
      "text/html": [
       "<div>\n",
       "<style scoped>\n",
       "    .dataframe tbody tr th:only-of-type {\n",
       "        vertical-align: middle;\n",
       "    }\n",
       "\n",
       "    .dataframe tbody tr th {\n",
       "        vertical-align: top;\n",
       "    }\n",
       "\n",
       "    .dataframe thead th {\n",
       "        text-align: right;\n",
       "    }\n",
       "</style>\n",
       "<table border=\"1\" class=\"dataframe\">\n",
       "  <thead>\n",
       "    <tr style=\"text-align: right;\">\n",
       "      <th></th>\n",
       "      <th>X</th>\n",
       "    </tr>\n",
       "  </thead>\n",
       "  <tbody>\n",
       "    <tr>\n",
       "      <th>0</th>\n",
       "      <td>4.338105</td>\n",
       "    </tr>\n",
       "    <tr>\n",
       "      <th>1</th>\n",
       "      <td>3.906813</td>\n",
       "    </tr>\n",
       "    <tr>\n",
       "      <th>2</th>\n",
       "      <td>4.006564</td>\n",
       "    </tr>\n",
       "    <tr>\n",
       "      <th>3</th>\n",
       "      <td>4.081503</td>\n",
       "    </tr>\n",
       "    <tr>\n",
       "      <th>4</th>\n",
       "      <td>3.842215</td>\n",
       "    </tr>\n",
       "  </tbody>\n",
       "</table>\n",
       "</div>"
      ],
      "text/plain": [
       "          X\n",
       "0  4.338105\n",
       "1  3.906813\n",
       "2  4.006564\n",
       "3  4.081503\n",
       "4  3.842215"
      ]
     },
     "execution_count": 4,
     "metadata": {},
     "output_type": "execute_result"
    }
   ],
   "source": [
    "# Dane do testów 1\n",
    "sample = pd.DataFrame(data=np.concatenate([sp.stats.norm.rvs(loc=4, scale=0.2, size=45, random_state=7), sp.stats.norm.rvs(loc=5.5, scale=0.4, size=85, random_state=2159)]), columns=[\"X\"])\n",
    "sample.head()"
   ]
  },
  {
   "cell_type": "markdown",
   "id": "b8e3cb44-b101-4407-91d0-00ff70386f85",
   "metadata": {
    "deletable": false,
    "editable": false,
    "nbgrader": {
     "cell_type": "markdown",
     "checksum": "826e9949291d7f1d1200a12e23918f04",
     "grade": false,
     "grade_id": "cell-0347a8a20455f100",
     "locked": true,
     "schema_version": 3,
     "solution": false,
     "task": false
    },
    "tags": []
   },
   "source": [
    "### Zadanie 1: Histogram [5 pkt]\n",
    "\n",
    "#### a) Przygotowanie wykresów\n",
    "\n",
    "Korzystając z funkcji `seaborn.histplot()`przygotuj histogramy częstości zestawu danych zawartego w zmiennej `sample`.\n",
    "\n",
    "Wykresy zestaw na pojedynczej figurze (2x3 pola na wykres). Przygotowując figurę kieruj się wytycznymi z początku notatnika. Podczas wykonywania kolejnych histogramów:\n",
    " - nie ustawiaj żadnych wartość określających podział na przedziały oraz granice przedziałów,\n",
    " - ustaw wyłącznie liczbę przedziałów na 20,\n",
    " - ustaw wyłącznie szerokość przedziałów na 0.3,\n",
    " - ustaw granice przedziałów od 2 do 8 z krokiem 0.05,\n",
    " - ustaw granice przedziałów od 2 do 8 z krokiem 0.15,\n",
    " - ustaw granice przedziałów od 2 do 8 z krokiem 0.4.\n",
    " \n",
    "Do każdego z wykresów dodaj wizualną reprezentację zestawu danych w postaci zbioru symboli (| lub +) zlokalizowanych poniżej histogramu. Ustaw identyczne zakresy osi dla wszystkich wykresów."
   ]
  },
  {
   "cell_type": "code",
   "execution_count": 5,
   "id": "1b8b7df2-b3c5-439c-a3b5-582e0f0d60e5",
   "metadata": {
    "deletable": false,
    "nbgrader": {
     "cell_type": "code",
     "checksum": "3843b3ad8c4678a55d0118885f61c6d7",
     "grade": true,
     "grade_id": "cell-2f04ca16d24e3369",
     "locked": false,
     "points": 5,
     "schema_version": 3,
     "solution": true,
     "task": false
    },
    "tags": []
   },
   "outputs": [
    {
     "data": {
      "image/png": "[encoded data removed]",
      "text/plain": [
       "<Figure size 640x480 with 6 Axes>"
      ]
     },
     "metadata": {},
     "output_type": "display_data"
    }
   ],
   "source": [
    "# YOUR CODE HERE\n",
    "fig,axes=plt.subplots(nrows=2,ncols=3)\n",
    "sns.histplot(data=sample,stat='probability',common_bins=True,ax=axes[0,0])\n",
    "sns.histplot(data=sample,stat='probability',common_bins=True,bins=20,ax=axes[0,1])\n",
    "sns.histplot(data=sample,stat='probability',common_bins=True,binwidth=0.3,ax=axes[0,2])\n",
    "sns.histplot(data=sample,stat='probability',common_bins=True,binrange=(2,8),binwidth=0.05,ax=axes[1,0])\n",
    "sns.histplot(data=sample,stat='probability',common_bins=True,binrange=(2,8),binwidth=0.15,ax=axes[1,1])\n",
    "sns.histplot(data=sample,stat='probability',common_bins=True,binrange=(2,8),binwidth=0.4,ax=axes[1,2])\n",
    "\n",
    "for ax in axes.flat:\n",
    "    ax.set_ylim(0, 0.25)\n",
    "    ax.set_xlim(3,7)\n",
    "plt.show()\n",
    "#raise NotImplementedError() cumulative zlicza wszystkie i dodaje kolejne\n",
    "#"
   ]
  },
  {
   "cell_type": "markdown",
   "id": "4c0d3e96-2206-4574-b03c-556b0c7a484b",
   "metadata": {
    "deletable": false,
    "editable": false,
    "nbgrader": {
     "cell_type": "markdown",
     "checksum": "b6ba8d4249a60f9cbfc7caa53b644ee0",
     "grade": false,
     "grade_id": "cell-40095947f4104aab",
     "locked": true,
     "schema_version": 3,
     "solution": false,
     "task": false
    },
    "tags": []
   },
   "source": [
    "### Zadanie 2: Estymacja funkcją jądrową [16 pkt]\n",
    "\n",
    "#### a) Estymacji funkcjami jądrowymi od podstaw\n",
    "\n",
    "Przygotuj funkcję `simple_kde_estimation()`, która będzie dokonywała estymacji nieparametrycznej metodą funkcji jądrowych z wykorzystaniem jądra w postaci rozkładu normalnego o odchyleniu normalnym $\\sigma$ zgodnie z informacjami zawartymi w docstring funkcji oraz schematem z załączonego do notatnika zestawu wzorów.\n",
    "\n",
    "Poza zwracaniem danych określonych w docstring funkcji powinna ona generować wykres zawierający wyestymowaną funkcję (wykres liniowy z wypełnionym polem pod krzywą) oraz dodaną wizualną reprezentacją zestawu danych w postaci zbioru symboli (| lub +) zlokalizowanych poniżej wykresu.\n",
    "\n",
    "Uwagi do wykonania zadania:\n",
    " - Punkty estymacji wygeneruj za pomocą funkcji `numpy.linspace()` lub `numpy.arange()`.\n",
    " - Wartości gęstości prawdopodobieństwa oblicz za pomocą odpowiedniej funkcji z modułu `scipy.stats.norm`.\n",
    " - Przygotowując figurę kieruj się wytycznymi z początku notatnika."
   ]
  },
  {
   "cell_type": "code",
   "execution_count": 15,
   "id": "f48be9e4-eb4f-458f-8cb9-ed9d8e39b8eb",
   "metadata": {
    "deletable": false,
    "nbgrader": {
     "cell_type": "code",
     "checksum": "c0f313959c035f4220baf0fbf571ed14",
     "grade": false,
     "grade_id": "cell-3c2b898a2d24e965",
     "locked": false,
     "schema_version": 3,
     "solution": true,
     "task": false
    },
    "tags": []
   },
   "outputs": [
    {
     "name": "stdout",
     "output_type": "stream",
     "text": [
      "[4.84588268e-31 1.81827086e-33 3.36011693e-33 6.00510910e-33\n",
      " 1.04064723e-32 1.75535675e-32 2.89758556e-32 4.71449961e-32\n",
      " 7.62999055e-32 1.24175503e-31 2.05714811e-31 3.51332619e-31\n",
      " 6.26166703e-31 1.17722719e-30 2.35498737e-30 5.04366084e-30\n",
      " 1.16058299e-29 2.87237406e-29 7.63650605e-29 2.17347322e-28\n",
      " 6.58641715e-28 2.10939853e-27 7.07381268e-27 2.45676008e-26\n",
      " 8.72718215e-26 3.12805446e-25 1.11512398e-24 3.89628304e-24\n",
      " 1.31512279e-23 4.22933533e-23 1.27958101e-22 3.60208042e-22\n",
      " 9.35052786e-22 2.22414504e-21 4.83294955e-21 9.60446621e-21\n",
      " 1.75680685e-20 2.99589160e-20 4.85843448e-20 7.68984733e-20\n",
      " 1.22258451e-19 2.00428005e-19 3.45331793e-19 6.32209425e-19\n",
      " 1.23611265e-18 2.58714742e-18 5.80284700e-18 1.39526604e-17\n",
      " 3.59373343e-17 9.89452760e-17 2.90171059e-16 9.01932177e-16\n",
      " 2.95333848e-15 1.01178195e-14 3.60025450e-14 1.32093406e-13\n",
      " 4.96250688e-13 1.89680582e-12 7.33513619e-12 2.85607723e-11\n",
      " 1.11515773e-10 4.35078829e-10 1.69062075e-09 6.52161408e-09\n",
      " 2.48875203e-08 9.35947561e-08 3.45388995e-07 1.24489821e-06\n",
      " 4.36108957e-06 1.47743502e-05 4.81617460e-05 1.50338463e-04\n",
      " 4.47313397e-04 1.26317804e-03 3.37231643e-03 8.48189296e-03\n",
      " 2.00383966e-02 4.43586712e-02 9.18365179e-02 1.77565604e-01\n",
      " 3.20290513e-01 5.38484856e-01 8.43008844e-01 1.22752681e+00\n",
      " 1.66036830e+00 2.08340663e+00 2.42254028e+00 2.60909682e+00\n",
      " 2.60397210e+00 2.41224311e+00 2.08007874e+00 1.67608733e+00\n",
      " 1.26780507e+00 9.04545301e-01 6.11538391e-01 3.93356627e-01\n",
      " 2.41515382e-01 1.41897042e-01 7.99136344e-02 4.31882503e-02]\n"
     ]
    }
   ],
   "source": [
    "def simple_kde_estimation(data, estimation_points, sigma):\n",
    "    \"\"\"\n",
    "    Parameters\n",
    "    -------\n",
    "    data: DataFrame\n",
    "        Tablica zawierająca domyślny indeks i pojedynczą kolumnę \"X\" z wartościami próby losowej.\n",
    "    estimation_points: int\n",
    "        Liczba punktów estymacji funkcji gęstości prawdopodobieństwa.\n",
    "    sigma: float\n",
    "        Odchylenie standardowe rozkładu normalnego wykorzystywanego jako jądro funkcji.\n",
    "    \n",
    "    Returns\n",
    "    -------\n",
    "    cdf: DataFrame\n",
    "        Tablica zawierająca następujące kolumny:\n",
    "        X - uszeregowane rosnąco punkty estymacji funkcji gęstości prawdopodobieństwa,\n",
    "        KDE - wyestymowane wartości funkcji gęstości prawdopodobieństwa.\n",
    "   \n",
    "    min=data.min()\n",
    "    max=data.max()\n",
    "    std=np.std(data,axis=0);\n",
    "    \n",
    "    cdf=pd.DataFrame(columns=[\"X\",\"KDE\"]);\n",
    "    # YOUR CODE HERE\n",
    "min=sample.min()\n",
    "max=sample.max()\n",
    "#std=np.std(sample,axis=0)\n",
    "std=0.2\n",
    "probki=np.linspace(min-3*std,max+3*std,100)\n",
    "kroki=np.diff(probki,axis=0)\n",
    "f=[]\n",
    "for x,y in zip(probki,range(0,(len(probki)-1))):\n",
    "    fi=sp.stats.norm.pdf(sample,loc=x,scale=std)\n",
    "    temp=np.sum(fi)\n",
    "    f.append(temp)\n",
    "f.sort()\n",
    "print(f)\n",
    "\"\"\"\n",
    "\n",
    "# Konwersja danych do tablicy numpy\n",
    "#data = np.asarray(data)\n",
    "# Obliczenie minimum i maksimum danych\n",
    "x_min = sample.min()\n",
    "x_max = sample.max()\n",
    "sigma=0.2\n",
    "estimation_points=100\n",
    "# Generowanie punktów estymacji\n",
    "points = np.linspace(x_min - 3 * sigma, x_max + 3 * sigma, estimation_points)\n",
    "points = points.ravel()\n",
    "# Obliczenie wartości funkcji jądrowej dla każdego punktu estymacji\n",
    "kde_values = np.zeros_like(points)\n",
    "for i, point in enumerate(points):\n",
    "    kde_values[i] = np.sum(sp.stats.norm.pdf(sample, loc=point, scale=sigma))\n",
    "    # Standaryzacja wartości funkcji jądrowej\n",
    "    d = (x_max - x_min) / (len(sample) - 1)\n",
    "    area = np.sum(kde_values) * (points[1] - points[0])\n",
    "    kde_values /= area\n",
    "print(kde_values)\n"
   ]
  },
  {
   "cell_type": "code",
   "execution_count": 7,
   "id": "422f75e9-0c57-4204-b458-67d65976dc4e",
   "metadata": {
    "deletable": false,
    "editable": false,
    "nbgrader": {
     "cell_type": "code",
     "checksum": "565cc1e82dca230bde7bc163c590c818",
     "grade": true,
     "grade_id": "cell-d27ea338caec7351",
     "locked": true,
     "points": 8,
     "schema_version": 3,
     "solution": false,
     "task": false
    },
    "tags": []
   },
   "outputs": [
    {
     "ename": "AssertionError",
     "evalue": "",
     "output_type": "error",
     "traceback": [
      "\u001b[1;31m---------------------------------------------------------------------------\u001b[0m",
      "\u001b[1;31mAssertionError\u001b[0m                            Traceback (most recent call last)",
      "Cell \u001b[1;32mIn[7], line 3\u001b[0m\n\u001b[0;32m      1\u001b[0m \u001b[38;5;66;03m# Komórka testowa\u001b[39;00m\n\u001b[0;32m      2\u001b[0m test_results_1 \u001b[38;5;241m=\u001b[39m simple_kde_estimation(sample, estimation_points\u001b[38;5;241m=\u001b[39m\u001b[38;5;241m100\u001b[39m, sigma\u001b[38;5;241m=\u001b[39m\u001b[38;5;241m0.2\u001b[39m)\n\u001b[1;32m----> 3\u001b[0m \u001b[38;5;28;01massert\u001b[39;00m \u001b[38;5;28mtype\u001b[39m(test_results_1) \u001b[38;5;241m==\u001b[39m pd\u001b[38;5;241m.\u001b[39mDataFrame\n\u001b[0;32m      4\u001b[0m \u001b[38;5;28;01massert\u001b[39;00m test_results_1\u001b[38;5;241m.\u001b[39mshape \u001b[38;5;241m==\u001b[39m (\u001b[38;5;241m100\u001b[39m, \u001b[38;5;241m2\u001b[39m)\n\u001b[0;32m      5\u001b[0m \u001b[38;5;28;01massert\u001b[39;00m \u001b[38;5;28mlist\u001b[39m(test_results_1\u001b[38;5;241m.\u001b[39mcolumns) \u001b[38;5;241m==\u001b[39m [\u001b[38;5;124m'\u001b[39m\u001b[38;5;124mX\u001b[39m\u001b[38;5;124m'\u001b[39m, \u001b[38;5;124m'\u001b[39m\u001b[38;5;124mKDE\u001b[39m\u001b[38;5;124m'\u001b[39m]\n",
      "\u001b[1;31mAssertionError\u001b[0m: "
     ]
    }
   ],
   "source": [
    "# Komórka testowa\n",
    "test_results_1 = simple_kde_estimation(sample, estimation_points=100, sigma=0.2)\n",
    "assert type(test_results_1) == pd.DataFrame\n",
    "assert test_results_1.shape == (100, 2)\n",
    "assert list(test_results_1.columns) == ['X', 'KDE']\n",
    "assert np.all(np.isclose(test_results_1.min().values, [2.94233698e+00, 3.32813073e-04]))\n",
    "assert np.all(np.isclose(test_results_1.max().values, [6.98176057, 0.54688772]))\n",
    "assert np.all(np.isclose(test_results_1.mean().values, [4.96204877, 0.24508447]))\n",
    "\n",
    "test_results_2 = simple_kde_estimation(sample, estimation_points=250, sigma=0.35)\n",
    "assert type(test_results_2) == pd.DataFrame\n",
    "assert test_results_2.shape == (250, 2)\n",
    "assert list(test_results_2.columns) == ['X', 'KDE']\n",
    "assert np.all(np.isclose(test_results_2.min().values, [2.49233698e+00, 2.69768435e-04]))\n",
    "assert np.all(np.isclose(test_results_2.max().values, [7.43176057, 0.47782523]))\n",
    "assert np.all(np.isclose(test_results_2.mean().values, [4.96204877, 0.20164296]))"
   ]
  },
  {
   "cell_type": "markdown",
   "id": "48cfeada-3e43-4919-802d-f7f4d616c3be",
   "metadata": {
    "deletable": false,
    "editable": false,
    "nbgrader": {
     "cell_type": "markdown",
     "checksum": "31b2f6b4c6390c0e99c383ba5be96104",
     "grade": false,
     "grade_id": "cell-4253b267e4432d77",
     "locked": true,
     "schema_version": 3,
     "solution": false,
     "task": false
    },
    "tags": []
   },
   "source": [
    "#### b) Dedykowane funkcje\n",
    "\n",
    "Korzystając z klasy `KernelDensity` wchodzącej w skład pakietu scikit-learn dokonaj estymymacji rozkładu zestawu danych zawartego w zmiennej `sample`.\n",
    "\n",
    "Wyniki estymacji przedstaw w postaci wykresów zawierających wyestymowaną funkcję (wykres liniowy z wypełnionym polem pod krzywą) oraz dodaną wizualną reprezentacją zestawu danych w postaci pionowych kresek zlokalizowanych poniżej wykresu.\n",
    "\n",
    "Wykresy zestaw na dwóch figurach (2x3 pola na wykres). Przygotowując figury kieruj się wytycznymi z początku notatnika. Podczas wykonywania wykresów:\n",
    " - Figura 1:\n",
    "     - na każdym z wykresów przedstaw wynik estymacji z wykorzystaniem innego jądra funkcji,\n",
    "     - ustaw wartość parametru odpowiadającego za szerokość jądra funkcji na 0.1,\n",
    "     - ustaw identyczne zakresy osi dla wszystkich wykresów.\n",
    " - Figura 2:\n",
    "     - na każdym z wykresów przedstaw wynik estymacji z wykorzystaniem innego jądra funkcji,\n",
    "     - ustaw wartość parametru odpowiadającego za szerokość jądra funkcji tak, aby wynik pracy funkcji dobrze oddawał charakter rozkładu populacji z której została pobrana próba losowa,\n",
    "     - ustaw identyczne zakresy osi dla wszystkich wykresów. "
   ]
  },
  {
   "cell_type": "code",
   "execution_count": null,
   "id": "0a4a563f-c785-4f4c-ba36-67658c9f1cd9",
   "metadata": {
    "deletable": false,
    "nbgrader": {
     "cell_type": "code",
     "checksum": "3fffd5e3bb8c3e299caa217081d222ae",
     "grade": true,
     "grade_id": "cell-59dc8614c1524baa",
     "locked": false,
     "points": 4,
     "schema_version": 3,
     "solution": true,
     "task": false
    },
    "tags": []
   },
   "outputs": [],
   "source": [
    "# Figura 1\n",
    "# YOUR CODE HERE\n",
    "raise NotImplementedError()"
   ]
  },
  {
   "cell_type": "code",
   "execution_count": null,
   "id": "b21f853e-9bc7-4d15-8294-849c03a88b9e",
   "metadata": {
    "deletable": false,
    "nbgrader": {
     "cell_type": "code",
     "checksum": "9c2bc981eee46997bf52051e9878341d",
     "grade": true,
     "grade_id": "cell-4d9f7f68c2f07250",
     "locked": false,
     "points": 4,
     "schema_version": 3,
     "solution": true,
     "task": false
    },
    "tags": []
   },
   "outputs": [],
   "source": [
    "# Figura 2\n",
    "# YOUR CODE HERE\n",
    "raise NotImplementedError()"
   ]
  },
  {
   "cell_type": "markdown",
   "id": "a9a63fd9-311d-4fb8-9bd1-c13ffe5203ed",
   "metadata": {
    "deletable": false,
    "editable": false,
    "nbgrader": {
     "cell_type": "markdown",
     "checksum": "16678e8a0b565fb006bd539b1acbf590",
     "grade": false,
     "grade_id": "cell-9a2e9e4f14ef778d",
     "locked": true,
     "schema_version": 3,
     "solution": false,
     "task": false
    },
    "tags": []
   },
   "source": [
    "### Zadanie 3: Dyskusja wyników [6 pkt]\n",
    "\n",
    "Przygotowane w poprzednich zadaniach wykresy są wizualną reprezentacją tego samego zestawu danych, dobór metody oraz jej parametrów sparawia jednak, że nie wyglądają one identycznie.\n",
    "\n",
    "Przedyskutuj plusy i minusy obu metod oraz odpowiedz na pytanie w jaki sposób dobór parametrów funkcji (liczba, szerokość i położenie granic przedziałów, wykorzystana wersja oraz szerokość jadra) wpływa na poprawność i czytelność wyniku."
   ]
  },
  {
   "cell_type": "markdown",
   "id": "d4f3a682-46df-4dd4-b5bd-cfe8899fbb74",
   "metadata": {
    "deletable": false,
    "nbgrader": {
     "cell_type": "markdown",
     "checksum": "926ecded285f21f9801eb0db5d4da6a5",
     "grade": true,
     "grade_id": "cell-76aef3e66c5566c5",
     "locked": false,
     "points": 6,
     "schema_version": 3,
     "solution": true,
     "task": false
    },
    "tags": []
   },
   "source": [
    "YOUR ANSWER HERE"
   ]
  },
  {
   "cell_type": "markdown",
   "id": "5d775d8f-43a3-48c1-ad71-98da3e8b9fa8",
   "metadata": {
    "deletable": false,
    "editable": false,
    "nbgrader": {
     "cell_type": "markdown",
     "checksum": "fc53d94ccbf018279ac2139858940555",
     "grade": false,
     "grade_id": "cell-f3fc2a00517d58c6",
     "locked": true,
     "schema_version": 3,
     "solution": false,
     "task": false
    },
    "tags": []
   },
   "source": [
    "### Zadanie 4: Estymacja na podstawie dystybuanty [8 pkt]\n",
    "\n",
    "Przygotuj funkcję `cdf_estimation()`, która będzie dokonywała estymacji dystrybuanty rozkładu w oparciu o dystrybuantę empiryczną oraz statystykę wyznaczaną z rozkładu Kołmogorowa-Smirnowa zgodnie z informacjami zawartymi w docstring funkcji oraz schematem z załączonego do notatnika zestawu wzorów.\n",
    "\n",
    "Poza zwracaniem danych określonych w docstring funkcji powinna ona generować wykres liniowy dystrybuanty empirycznej z zaznaczonym przedziałem ufności oraz tytułem figury `Przedział ufności dystrybuanty rozkładu na poziomie istotności 1-alpha=A`, gdzie wartość A jest uzupełnianie na podstawie wartości argumentu `alpha`.\n",
    "\n",
    "Uwagi do wykonania zadania:\n",
    " - Wartości statystyki testowej oblicz za pomocą odpowiedniej funkcji z modułu `scipy.stats.kstwo`."
   ]
  },
  {
   "cell_type": "code",
   "execution_count": null,
   "id": "e548bf01-ee1e-4280-9c3b-73e9c4dbbb87",
   "metadata": {
    "deletable": false,
    "nbgrader": {
     "cell_type": "code",
     "checksum": "4cb7d0fe00e3783529fa253c2f011437",
     "grade": false,
     "grade_id": "cell-7cd94acbb02d762d",
     "locked": false,
     "schema_version": 3,
     "solution": true,
     "task": false
    },
    "tags": []
   },
   "outputs": [],
   "source": [
    "def cdf_estimation(data, alpha):\n",
    "    \"\"\"\n",
    "    Parameters\n",
    "    -------\n",
    "    data: DataFrame\n",
    "        Tablica zawierająca domyślny indeks i pojedynczą kolumnę \"X\" z wartościami próby losowej.\n",
    "    alpha: float\n",
    "        Wartość określająca poziom istotności.\n",
    "    \n",
    "    Returns\n",
    "    -------\n",
    "    cdf: DataFrame\n",
    "        Tablica zawierająca następujące kolumny:\n",
    "        X - uszeregowane rosnąco wartości próby losowej,\n",
    "        F_d - wartości dystrybuanty empirycznej,\n",
    "        F_d_min - dolna granica przedziału ufności,\n",
    "        F_d_max - górna granica przedziału ufności.\n",
    "    \"\"\"\n",
    "    # YOUR CODE HERE\n",
    "    raise NotImplementedError()"
   ]
  },
  {
   "cell_type": "code",
   "execution_count": null,
   "id": "42fdced6-a895-4ac0-a333-1143670f4a2a",
   "metadata": {
    "deletable": false,
    "editable": false,
    "nbgrader": {
     "cell_type": "code",
     "checksum": "2ec99fbe6dfe3fa69a4c999300812362",
     "grade": true,
     "grade_id": "cell-859395deee53279c",
     "locked": true,
     "points": 8,
     "schema_version": 3,
     "solution": false,
     "task": false
    },
    "tags": []
   },
   "outputs": [],
   "source": [
    "# Komórka testowa\n",
    "test_results_3 = cdf_estimation(sample, 0.05)\n",
    "assert type(test_results_3) == pd.DataFrame\n",
    "assert test_results_3.shape == (130, 4)\n",
    "assert list(test_results_3.columns) == ['X', 'F_d', 'F_d_min', 'F_d_max']\n",
    "assert np.all(np.isclose(test_results_3.min().values, [3.54233698, 0.00769231, 0., 0.12544548]))\n",
    "assert np.all(np.isclose(test_results_3.max().values, [6.38176057, 1., 0.88224683, 1.]))\n",
    "assert np.all(np.isclose(test_results_3.mean().values, [4.9551826 , 0.50384615, 0.3925793 , 0.61420722]))\n",
    "\n",
    "test_results_4 = cdf_estimation(sample, 0.02)\n",
    "assert type(test_results_4) == pd.DataFrame\n",
    "assert test_results_4.shape == (130, 4)\n",
    "assert list(test_results_4.columns) == ['X', 'F_d', 'F_d_min', 'F_d_max']\n",
    "assert np.all(np.isclose(test_results_4.min().values, [3.54233698, 0.00769231, 0., 0.13935689]))\n",
    "assert np.all(np.isclose(test_results_4.max().values, [6.38176057, 1., 0.86833542, 1.]))\n",
    "assert np.all(np.isclose(test_results_4.mean().values, [4.9551826 , 0.50384615, 0.380346, 0.62633351]))"
   ]
  }
 ],
 "metadata": {
  "kernelspec": {
   "display_name": "Python 3 (ipykernel)",
   "language": "python",
   "name": "python3"
  },
  "language_info": {
   "codemirror_mode": {
    "name": "ipython",
    "version": 3
   },
   "file_extension": ".py",
   "mimetype": "text/x-python",
   "name": "python",
   "nbconvert_exporter": "python",
   "pygments_lexer": "ipython3",
   "version": "3.12.2"
  }
 },
 "nbformat": 4,
 "nbformat_minor": 5
}
