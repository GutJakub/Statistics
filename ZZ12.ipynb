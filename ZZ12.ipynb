{
 "cells": [
  {
   "cell_type": "markdown",
   "id": "1f78e04a",
   "metadata": {
    "deletable": false,
    "editable": false,
    "nbgrader": {
     "cell_type": "markdown",
     "checksum": "ff0bc2c9546dc7416a62ab1f8e86fe5a",
     "grade": false,
     "grade_id": "cell-fcd2666579131b77",
     "locked": true,
     "schema_version": 3,
     "solution": false,
     "task": false
    },
    "tags": []
   },
   "source": [
    "# Statystyka matematyczna - ćwiczenia laboratoryjne 2023/2024\n",
    "\n",
    "Ten notatnik zalicza się do grupy zestawów zadań, na podstawie których odbywa się zaliczenie ćwiczeń i podlega zwrotowi do oceny w ustalonym na zajęciach terminie.\n",
    "\n",
    "Uwagi i wytyczne ogólne dotyczące uzupełniania notatnika:\n",
    "- Podczas wykonywania zadań należy korzystać wyłącznie z pakietów zaimportowanych na początku notatnika oraz z pakietów wchodzących w skład standardowej biblioteki Pythona, które można zaimportować samodzielnie we wskazanej komórce notatnika.\n",
    "- Swoje rozwiązania należy wprowadzać wyłącznie w miejce następujących fragmentów kodu:<br/> `# YOUR CODE HERE`<br/> `raise NotImplementedError()`<br/> \n",
    "a odpowiedzi tekstowe w komórkach oznaczonych hasłem:<br/> \n",
    "`YOUR ANSWER HERE`<br/> \n",
    "Nie należy w żaden sposób modyfikować pozostałych fragmentów kodu oraz innych elementów notatnika, w szczególności dodawać lub usuwać komórek oraz zmieniać nazwy pliku.\n",
    "- Otrzymywane wyniki i odpowiedzi mają być rezultatem wykonania napisanego kodu.\n",
    "- Zadanie należy wykonać w taki sposób, aby podczas wykonywania kodu nie zostały wyświetlone żadne ostrzeżenia.\n",
    "- Zawarte w notatniku automatyczne testy mają charakter poglądowy. Dotyczą one wybranych aspektów zadań i mają za zadanie wyłapać podstawowe błędy. Przejście wszystkich testów nie oznacza, że zadanie jest wykonane w całości poprawnie.\n",
    "\n",
    "Uwagi i wytyczne ogólne dotyczące wizualizacji wyników:\n",
    "- Wszystkie wykresy powinny być wykonane w jednolitym, przejrzystym i czytelnym stylu, posiadać odpowiednio dobrane proporcje i zakresy wartości osi.\n",
    "- Wykresy oraz ich osie powinny mieć nadane tytuły. Jeżeli w obrębie figury znajduje się więcej niż jeden wykres to figura również powinna mieć nadany tytuł. \n",
    "- Figury powinny mieć ustawione białe tło, tak, aby niezależnie od ustawień notatnika wszystkie elementy wykresów były dobrze widoczne (domyślnie tło jest przeźroczyste co może powodować problemy w notatnikach z ustawionym ciemnym tłem).\n",
    "- Rozmiar poziomy figur nie powinien przekraczać 20 cali.\n",
    "\n",
    "Przed odesłaniem zestawu zadań do oceny proszę uzupełnić komórkę z danymi autorów rozwiązania (nazwa zespołu oraz imiona, nazwiska i numery indeksów członków zespołu) oraz upewnić się, że notatnik działa zgodnie z oczekiwaniami. W tym celu należy skorzystać z opcji **Restart Kernel and Run All Cells...** dostępnej na górnej belce notatnika pod symbolem $\\blacktriangleright\\blacktriangleright$."
   ]
  },
  {
   "cell_type": "markdown",
   "id": "39fac09c",
   "metadata": {},
   "source": [
    "Nazwa zespołu:\n",
    "Członkowie:"
   ]
  },
  {
   "cell_type": "markdown",
   "id": "4d814c8b",
   "metadata": {
    "deletable": false,
    "editable": false,
    "nbgrader": {
     "cell_type": "markdown",
     "checksum": "eddc8826810e4a6f7bf68319da334bd9",
     "grade": false,
     "grade_id": "cell-109006d425e5cf83",
     "locked": true,
     "schema_version": 3,
     "solution": false,
     "task": false
    },
    "tags": []
   },
   "source": [
    "---"
   ]
  },
  {
   "cell_type": "markdown",
   "id": "e64f067c-c7df-4b7a-bb7c-f25a98a0d3ad",
   "metadata": {
    "deletable": false,
    "editable": false,
    "nbgrader": {
     "cell_type": "markdown",
     "checksum": "9a196c67e6095c22b2a206b30d23b410",
     "grade": false,
     "grade_id": "cell-1652a660f1e59fd6",
     "locked": true,
     "schema_version": 3,
     "solution": false,
     "task": false
    },
    "tags": []
   },
   "source": [
    "# Zestaw zadań 12: Analiza wariancji"
   ]
  },
  {
   "cell_type": "code",
   "execution_count": 2,
   "id": "b8e33821-0d74-4349-836a-270011b3f861",
   "metadata": {
    "deletable": false,
    "editable": false,
    "nbgrader": {
     "cell_type": "code",
     "checksum": "d50dad28a51bd4e756e2842bfd8c9e5c",
     "grade": false,
     "grade_id": "cell-f5383648c5fad8f2",
     "locked": true,
     "schema_version": 3,
     "solution": false,
     "task": false
    },
    "tags": []
   },
   "outputs": [],
   "source": [
    "import numpy as np\n",
    "import pandas as pd\n",
    "import scipy as sp\n",
    "import matplotlib as mpl\n",
    "import matplotlib.pyplot as plt\n",
    "import seaborn as sns"
   ]
  },
  {
   "cell_type": "code",
   "execution_count": 3,
   "id": "751a1e92-0a57-4b56-b06b-1f4f0f7f0364",
   "metadata": {},
   "outputs": [],
   "source": [
    "# Miejsce do importu pakietów wchodzących w skład standardowej biblioteki Pythona oraz ustawienie opcji wykorzystywanych pakietów"
   ]
  },
  {
   "cell_type": "markdown",
   "id": "92176051-5b81-4c48-ba83-32e9793e82db",
   "metadata": {
    "deletable": false,
    "editable": false,
    "nbgrader": {
     "cell_type": "markdown",
     "checksum": "a945462821ba7c449e1c68d9710a1e17",
     "grade": false,
     "grade_id": "cell-1a9b4f5270893d4c",
     "locked": true,
     "schema_version": 3,
     "solution": false,
     "task": false
    },
    "tags": []
   },
   "source": [
    "### Funkcje do wykorzystania"
   ]
  },
  {
   "cell_type": "code",
   "execution_count": 4,
   "id": "d2231d9e-4ccb-4cde-a439-6a122de9bd91",
   "metadata": {
    "deletable": false,
    "editable": false,
    "nbgrader": {
     "cell_type": "code",
     "checksum": "52804578305ab64d5792ca1f7fd40731",
     "grade": false,
     "grade_id": "cell-ae31470c5289161a",
     "locked": true,
     "schema_version": 3,
     "solution": false,
     "task": false
    },
    "tags": []
   },
   "outputs": [],
   "source": [
    "def vizualize_test_result(pdf, statistic, rejection_region):\n",
    "    \"\"\"\n",
    "    Parameters\n",
    "    -------\n",
    "    pdf: pandas.DataFrame\n",
    "        Tablica zawierająca informacje niezbędne do wykreślenia funkcji gęstości prawdopodobieństwa wykorzystywanego w teście rozkładu\n",
    "        teoretycznego - index z wariantami zmiennej losowej i nadaną nazwą zmiennej (np. x) oraz pojedynczą kolumnę z wartościami\n",
    "        gęstościami prawdopodobieństwa wyliczonymi dla poszczególnych wariantów o nadanej nazwie bazującej na nazwie zmiennej (np. f(x)).\n",
    "    statistic: float\n",
    "        Wartość statystyki testowej wyliczonej na podstawie próby losowej.\n",
    "    rejection_region: list\n",
    "        Lista zawierająca trzy elementy pozwalające na określenie obszaru krytycznego w następującej kolejności:\n",
    "         - wartość dolnej granicy przedziału,\n",
    "         - wartość górnej granicy przedziału,\n",
    "         - \"inner\" lub \"outer\" w zależności od tego, czy ma być zakolorowana wewnętrzna, czy zewnętrzna część przedziału.\n",
    "    \"\"\"\n",
    "    pdf_name= pdf.columns[0]\n",
    "    \n",
    "    fig, axes = plt.subplots(1, 1, figsize=(8, 3), facecolor='white')\n",
    "\n",
    "    axes.plot(pdf.index, pdf[pdf_name], color=\"grey\")\n",
    "\n",
    "    if rejection_region[2]==\"inner\":\n",
    "        axes.fill_between(pdf.index, pdf[pdf_name], 0, where=((pdf.index > rejection_region[0]) & (pdf.index<rejection_region[1])), color='red', alpha=0.5)\n",
    "    elif rejection_region[2]==\"outer\":\n",
    "        axes.fill_between(pdf.index, pdf[pdf_name], 0, where=((pdf.index < rejection_region[0]) | (pdf.index>rejection_region[1])), color='red', alpha=0.5)\n",
    "    \n",
    "    axes.vlines(x=statistic, ymin=0, ymax=np.max(pdf[pdf_name]/3), color=\"blue\")\n",
    "    \n",
    "    axes.set_xlabel(pdf.index.name)\n",
    "    axes.set_ylabel(pdf_name)\n",
    "    \n",
    "def vizualize_HSD_test_result(HSD, HSD_alpha):\n",
    "    \"\"\"\n",
    "    Parameters\n",
    "    -------\n",
    "    HSD: DataFrame\n",
    "        Tablica zawierająca wartości statystyki HSD wyliczonych na podstawie poszczególnych par porównywanych prób losowych.\n",
    "        Nazwy kolumn i wierszy tablicy odpowiadają nazwom poszczególnych prób losowych.\n",
    "    HSD_alpha: float\n",
    "        Wartość statystyki HSD_alpha.    \n",
    "    \"\"\"\n",
    "    fig, axes = plt.subplots(1, 1, figsize=(6,6), facecolor='white')\n",
    "    axes = sns.heatmap(HSD, ax=axes, annot=True, annot_kws={\"size\": 10}, fmt=\".3f\", cmap=\"coolwarm\", center=HSD_alpha)\n",
    "    axes.set_xlabel(\"Próbki losowe\")\n",
    "    axes.set_ylabel(\"Próbki losowe\")"
   ]
  },
  {
   "cell_type": "markdown",
   "id": "68e4fe0a-b791-4fee-aac2-baef7ff10f84",
   "metadata": {
    "deletable": false,
    "editable": false,
    "nbgrader": {
     "cell_type": "markdown",
     "checksum": "0ff9df16a3a956747ba461892ef4881f",
     "grade": false,
     "grade_id": "cell-1b096cbdb2016394",
     "locked": true,
     "schema_version": 3,
     "solution": false,
     "task": false
    },
    "tags": []
   },
   "source": [
    "### Dane do zadań\n",
    "\n",
    "W celu wygenerowania danych wykorzystywanych w zawartych w notatniku zadaniach i komórkach testowych wykonaj poniższe komórki."
   ]
  },
  {
   "cell_type": "code",
   "execution_count": 5,
   "id": "280a9ec6-b167-4f2b-becd-1e8225b3ad3d",
   "metadata": {
    "deletable": false,
    "editable": false,
    "nbgrader": {
     "cell_type": "code",
     "checksum": "aa45f8c10a6889e4971ce410d0c39a1a",
     "grade": false,
     "grade_id": "cell-cbfe927fa1613a5c",
     "locked": true,
     "schema_version": 3,
     "solution": false,
     "task": false
    },
    "tags": []
   },
   "outputs": [
    {
     "data": {
      "text/html": [
       "<div>\n",
       "<style scoped>\n",
       "    .dataframe tbody tr th:only-of-type {\n",
       "        vertical-align: middle;\n",
       "    }\n",
       "\n",
       "    .dataframe tbody tr th {\n",
       "        vertical-align: top;\n",
       "    }\n",
       "\n",
       "    .dataframe thead th {\n",
       "        text-align: right;\n",
       "    }\n",
       "</style>\n",
       "<table border=\"1\" class=\"dataframe\">\n",
       "  <thead>\n",
       "    <tr style=\"text-align: right;\">\n",
       "      <th></th>\n",
       "      <th>A1</th>\n",
       "      <th>A2</th>\n",
       "      <th>A3</th>\n",
       "    </tr>\n",
       "  </thead>\n",
       "  <tbody>\n",
       "    <tr>\n",
       "      <th>0</th>\n",
       "      <td>1802</td>\n",
       "      <td>1664.0</td>\n",
       "      <td>1877.0</td>\n",
       "    </tr>\n",
       "    <tr>\n",
       "      <th>1</th>\n",
       "      <td>1992</td>\n",
       "      <td>1755.0</td>\n",
       "      <td>1710.0</td>\n",
       "    </tr>\n",
       "    <tr>\n",
       "      <th>2</th>\n",
       "      <td>1854</td>\n",
       "      <td>1823.0</td>\n",
       "      <td>1882.0</td>\n",
       "    </tr>\n",
       "    <tr>\n",
       "      <th>3</th>\n",
       "      <td>1880</td>\n",
       "      <td>1862.0</td>\n",
       "      <td>1720.0</td>\n",
       "    </tr>\n",
       "    <tr>\n",
       "      <th>4</th>\n",
       "      <td>1761</td>\n",
       "      <td>NaN</td>\n",
       "      <td>1950.0</td>\n",
       "    </tr>\n",
       "    <tr>\n",
       "      <th>5</th>\n",
       "      <td>1900</td>\n",
       "      <td>NaN</td>\n",
       "      <td>NaN</td>\n",
       "    </tr>\n",
       "  </tbody>\n",
       "</table>\n",
       "</div>"
      ],
      "text/plain": [
       "     A1      A2      A3\n",
       "0  1802  1664.0  1877.0\n",
       "1  1992  1755.0  1710.0\n",
       "2  1854  1823.0  1882.0\n",
       "3  1880  1862.0  1720.0\n",
       "4  1761     NaN  1950.0\n",
       "5  1900     NaN     NaN"
      ]
     },
     "execution_count": 5,
     "metadata": {},
     "output_type": "execute_result"
    }
   ],
   "source": [
    "# Dane do testów 1\n",
    "test_data_1 = pd.DataFrame(columns=[\"A1\", \"A2\", \"A3\"])\n",
    "test_data_1[\"A1\"] = [1802, 1992, 1854, 1880, 1761, 1900]\n",
    "test_data_1[\"A2\"] = [1664, 1755, 1823, 1862, np.nan, np.nan]\n",
    "test_data_1[\"A3\"] = [1877, 1710, 1882, 1720, 1950, np.nan]\n",
    "test_data_1"
   ]
  },
  {
   "cell_type": "code",
   "execution_count": 6,
   "id": "b92cce28-4347-4ccd-b6b0-d224f8283e49",
   "metadata": {
    "deletable": false,
    "editable": false,
    "nbgrader": {
     "cell_type": "code",
     "checksum": "d520d0ef461975188ec87b7f96761483",
     "grade": false,
     "grade_id": "cell-58e81890d7b88f7f",
     "locked": true,
     "schema_version": 3,
     "solution": false,
     "task": false
    },
    "tags": []
   },
   "outputs": [
    {
     "data": {
      "text/html": [
       "<div>\n",
       "<style scoped>\n",
       "    .dataframe tbody tr th:only-of-type {\n",
       "        vertical-align: middle;\n",
       "    }\n",
       "\n",
       "    .dataframe tbody tr th {\n",
       "        vertical-align: top;\n",
       "    }\n",
       "\n",
       "    .dataframe thead th {\n",
       "        text-align: right;\n",
       "    }\n",
       "</style>\n",
       "<table border=\"1\" class=\"dataframe\">\n",
       "  <thead>\n",
       "    <tr style=\"text-align: right;\">\n",
       "      <th></th>\n",
       "      <th>B1</th>\n",
       "      <th>B2</th>\n",
       "      <th>B3</th>\n",
       "    </tr>\n",
       "  </thead>\n",
       "  <tbody>\n",
       "    <tr>\n",
       "      <th>0</th>\n",
       "      <td>9</td>\n",
       "      <td>9</td>\n",
       "      <td>4</td>\n",
       "    </tr>\n",
       "    <tr>\n",
       "      <th>1</th>\n",
       "      <td>8</td>\n",
       "      <td>7</td>\n",
       "      <td>3</td>\n",
       "    </tr>\n",
       "    <tr>\n",
       "      <th>2</th>\n",
       "      <td>7</td>\n",
       "      <td>6</td>\n",
       "      <td>1</td>\n",
       "    </tr>\n",
       "    <tr>\n",
       "      <th>3</th>\n",
       "      <td>5</td>\n",
       "      <td>5</td>\n",
       "      <td>1</td>\n",
       "    </tr>\n",
       "  </tbody>\n",
       "</table>\n",
       "</div>"
      ],
      "text/plain": [
       "   B1  B2  B3\n",
       "0   9   9   4\n",
       "1   8   7   3\n",
       "2   7   6   1\n",
       "3   5   5   1"
      ]
     },
     "execution_count": 6,
     "metadata": {},
     "output_type": "execute_result"
    }
   ],
   "source": [
    "# Dane do testów 2\n",
    "test_data_2 = pd.DataFrame(columns=[\"B1\", \"B2\", \"B3\"])\n",
    "test_data_2[\"B1\"] = [9, 8, 7, 5]\n",
    "test_data_2[\"B2\"] = [9, 7, 6, 5]\n",
    "test_data_2[\"B3\"] = [4, 3, 1, 1]\n",
    "test_data_2"
   ]
  },
  {
   "cell_type": "code",
   "execution_count": 7,
   "id": "e98f1fe1-6fdb-4a80-9bf4-563ed7835947",
   "metadata": {
    "deletable": false,
    "editable": false,
    "nbgrader": {
     "cell_type": "code",
     "checksum": "837ba720bb454d3bb3e165a717b3c47a",
     "grade": false,
     "grade_id": "cell-db787373b6107a62",
     "locked": true,
     "schema_version": 3,
     "solution": false,
     "task": false
    },
    "tags": []
   },
   "outputs": [
    {
     "data": {
      "text/html": [
       "<div>\n",
       "<style scoped>\n",
       "    .dataframe tbody tr th:only-of-type {\n",
       "        vertical-align: middle;\n",
       "    }\n",
       "\n",
       "    .dataframe tbody tr th {\n",
       "        vertical-align: top;\n",
       "    }\n",
       "\n",
       "    .dataframe thead th {\n",
       "        text-align: right;\n",
       "    }\n",
       "</style>\n",
       "<table border=\"1\" class=\"dataframe\">\n",
       "  <thead>\n",
       "    <tr style=\"text-align: right;\">\n",
       "      <th></th>\n",
       "      <th>C1</th>\n",
       "      <th>C2</th>\n",
       "      <th>C3</th>\n",
       "      <th>C4</th>\n",
       "      <th>C5</th>\n",
       "      <th>C6</th>\n",
       "    </tr>\n",
       "  </thead>\n",
       "  <tbody>\n",
       "    <tr>\n",
       "      <th>0</th>\n",
       "      <td>0.444399</td>\n",
       "      <td>0.806100</td>\n",
       "      <td>2.207009</td>\n",
       "      <td>0.179143</td>\n",
       "      <td>-2.018446</td>\n",
       "      <td>-0.948586</td>\n",
       "    </tr>\n",
       "    <tr>\n",
       "      <th>1</th>\n",
       "      <td>-2.751942</td>\n",
       "      <td>-0.942722</td>\n",
       "      <td>-0.001221</td>\n",
       "      <td>3.345304</td>\n",
       "      <td>1.106018</td>\n",
       "      <td>1.250650</td>\n",
       "    </tr>\n",
       "    <tr>\n",
       "      <th>2</th>\n",
       "      <td>0.965852</td>\n",
       "      <td>-0.147755</td>\n",
       "      <td>0.140965</td>\n",
       "      <td>-0.142338</td>\n",
       "      <td>0.034468</td>\n",
       "      <td>0.053245</td>\n",
       "    </tr>\n",
       "    <tr>\n",
       "      <th>3</th>\n",
       "      <td>1.747967</td>\n",
       "      <td>-0.382373</td>\n",
       "      <td>-0.228505</td>\n",
       "      <td>0.300777</td>\n",
       "      <td>-2.649442</td>\n",
       "      <td>0.797719</td>\n",
       "    </tr>\n",
       "    <tr>\n",
       "      <th>4</th>\n",
       "      <td>1.585786</td>\n",
       "      <td>1.707110</td>\n",
       "      <td>-3.126494</td>\n",
       "      <td>0.724047</td>\n",
       "      <td>-1.257900</td>\n",
       "      <td>2.137653</td>\n",
       "    </tr>\n",
       "  </tbody>\n",
       "</table>\n",
       "</div>"
      ],
      "text/plain": [
       "         C1        C2        C3        C4        C5        C6\n",
       "0  0.444399  0.806100  2.207009  0.179143 -2.018446 -0.948586\n",
       "1 -2.751942 -0.942722 -0.001221  3.345304  1.106018  1.250650\n",
       "2  0.965852 -0.147755  0.140965 -0.142338  0.034468  0.053245\n",
       "3  1.747967 -0.382373 -0.228505  0.300777 -2.649442  0.797719\n",
       "4  1.585786  1.707110 -3.126494  0.724047 -1.257900  2.137653"
      ]
     },
     "execution_count": 7,
     "metadata": {},
     "output_type": "execute_result"
    }
   ],
   "source": [
    "# Dane do testów 3\n",
    "test_data_3 = pd.DataFrame(columns=[\"C1\", \"C2\", \"C3\", \"C4\", \"C5\", \"C6\"])\n",
    "test_data_3[\"C1\"] = np.hstack([sp.stats.norm.rvs(0.03, 1.5, 38, random_state=17), np.full(12, np.NaN)])\n",
    "test_data_3[\"C2\"] = np.hstack([sp.stats.norm.rvs(0.42, 1.5, 45, random_state=43), np.full(5, np.NaN)])\n",
    "test_data_3[\"C3\"] = np.hstack([sp.stats.norm.rvs(-0.12, 1.5, 42, random_state=14), np.full(8, np.NaN)])\n",
    "test_data_3[\"C4\"] = sp.stats.norm.rvs(0.06, 1.5, 50, random_state=18)\n",
    "test_data_3[\"C5\"] = np.hstack([sp.stats.norm.rvs(-0.39, 1.5, 43, random_state=123), np.full(7, np.NaN)])\n",
    "test_data_3[\"C6\"] = np.hstack([sp.stats.norm.rvs(0.12, 1.5, 39, random_state=13), np.full(11, np.NaN)])\n",
    "test_data_3.head()"
   ]
  },
  {
   "cell_type": "markdown",
   "id": "77d32d9c-1f72-4c99-ba99-ffaa27120535",
   "metadata": {
    "deletable": false,
    "editable": false,
    "nbgrader": {
     "cell_type": "markdown",
     "checksum": "0b8209cdce5c37dad9a18a693588ca41",
     "grade": false,
     "grade_id": "cell-9cffd69509fe094a",
     "locked": true,
     "schema_version": 3,
     "solution": false,
     "task": false
    },
    "tags": []
   },
   "source": [
    "### Zadanie 1: Jednoczynnikowa analiza wariancji [7 pkt]\n",
    "\n",
    "Przygotuj funkcję `one_way_anova()`, która będzie weryfikować hipotezę o równości wartości przeciętnych i wyświetlać wynik testu statystycznego zgodnie z wytycznymi zawartymi w treści zadania oraz w docstring funkcji.\n",
    "\n",
    "Poza zwracaniem zmiennych wymienionych w docsting funkcji, które są potrzebne do przeprowadzenia automatycznych testów funkcji powinna wykorzystywać udostępnioną na początku notatnika funkcję `vizualize_test_result()` do generowania wykresu zawierającego:\n",
    "- funkcję gęstości prawdopodobieństwa rozkładu teoretycznego wykorzystywanego w teście w zakresie od wartości, dla której dystrybuanta tego rozkładu przyjmuje wartość 0.0001 do wartości, dla której dystrybuanta tego rozkładu przyjmuje wartość 0.9999,\n",
    "- zaznaczony wyróżniającym się kolorem fragmentem pola pod krzywą odpowiadający wyznaczonemu w teście obszarowi krytycznemu,\n",
    "- wyróżniającą się kolorem pionowę linię wskazującą obliczoną wartość statystyki.\n",
    "\n",
    "Uwaga! Celem zadanie jest zapoznanie się ze schematem metody i samodzielne napisanie funkcji od podstaw. W związku z tym podczas rozwiązywania zadania nie należy korzystać z gotowych funkcji przeprowadzających analizę wariancji."
   ]
  },
  {
   "cell_type": "code",
   "execution_count": 8,
   "id": "f7e3cda9-bba2-4e9b-8913-edc957d2ca44",
   "metadata": {
    "deletable": false,
    "nbgrader": {
     "cell_type": "code",
     "checksum": "3b5cfb21af3d9745787a1cffe6d79b7c",
     "grade": false,
     "grade_id": "cell-bdc348d82783f767",
     "locked": false,
     "schema_version": 3,
     "solution": true,
     "task": false
    },
    "tags": []
   },
   "outputs": [
    {
     "data": {
      "text/plain": [
       "(1.127072228543553, 3.8852938346523946, 0)"
      ]
     },
     "execution_count": 8,
     "metadata": {},
     "output_type": "execute_result"
    }
   ],
   "source": [
    "def one_way_anova(data, alpha):\n",
    "    \"\"\"\n",
    "    data: DataFrame\n",
    "        Tablica zawierająca domyślny indeks i dowolnie nazwane kolumny (nazwy prób losowych) z wynikami prób losowych. Znajdujące się w tablicy wartości NaN nie są wynikami wchodzącymi w skład prób losowych,\n",
    "        a jedynie uzupełniają puste miejsca w tablicy powstałe na skutek różnej liczebności poszczególnych prób.\n",
    "    alpha: float\n",
    "        Wartość określająca poziom istotności.\n",
    "    \n",
    "    Returns\n",
    "    -------\n",
    "    F: float\n",
    "        Wyliczona na podstawie próby losowej wartość statystyki F.\n",
    "    F_alpha: float\n",
    "        Wartość statystyki F_alpha.\n",
    "    H: int\n",
    "        Wynik testu statystycznego, przyjmuje wartość:\n",
    "        0 - gdy wynik testu istotności nie daje podstaw do odrzucenia H0 na rzecz H1 na poziomie istotności 1-alpha,\n",
    "        1 - gdy następuje odrzucenie H0 na rzecz H1 na poziomie istotności 1-alpha.\n",
    "    \"\"\"\n",
    "    F=[]\n",
    "    F1=[]\n",
    "    for i in range(0,len(data.columns)):\n",
    "        n=data.iloc[:,i].count()\n",
    "        temp=n*( ( np.mean(data.iloc[:,i])-np.mean(data) )**2)\n",
    "        F.append(temp)\n",
    "        for j in range(0,n):\n",
    "            temp1=(data.iloc[j,i]-np.mean(data.iloc[:,i]) )**2\n",
    "            F1.append(temp1)\n",
    "    f1=np.sum(F)/(len(data.columns)-1)\n",
    "    f2=np.nansum(F1)/(data.count().sum()-len(data.columns))\n",
    "    F_w=f1/f2\n",
    "#wstawiamy dwa mianowiniki do rozkładu\n",
    "#pierwszy to df between pomiedzy grupami i caloscia\n",
    "# DRUGI to df within posrodku grup i do wszystkich wartosci w danej grupie\n",
    "    rozklad=sp.stats.f(len(data.columns)-1,(data.count().sum()-len(data.columns)))\n",
    "    F_alpha=rozklad.ppf(1-alpha) # wzrost \n",
    "    H=0\n",
    "    if F_w>=F_alpha:\n",
    "        H=1\n",
    "    return F_w,F_alpha,H\n",
    "one_way_anova(test_data_1, 0.05)\n",
    "    # YOUR CODE HERE\n",
    "#raise NotImplementedError()"
   ]
  },
  {
   "cell_type": "code",
   "execution_count": 9,
   "id": "e562b391-11ed-484a-bf44-6ef418795f22",
   "metadata": {
    "deletable": false,
    "editable": false,
    "nbgrader": {
     "cell_type": "code",
     "checksum": "db4056bf2e63aaabd5b6bc6d7e422272",
     "grade": true,
     "grade_id": "cell-921e7008afe5da28",
     "locked": true,
     "points": 7,
     "schema_version": 3,
     "solution": false,
     "task": false
    },
    "tags": []
   },
   "outputs": [],
   "source": [
    "### Komórka testowa\n",
    "assert np.all(np.isclose(one_way_anova(test_data_1, 0.05), (1.127072228543553, 3.8852938346523946, 0)))\n",
    "assert np.all(np.isclose(one_way_anova(test_data_2, 0.05), (11.25773195876289, 4.256494729093748, 1)))\n",
    "assert np.all(np.isclose(one_way_anova(test_data_3, 0.02), (4.79388401864753, 2.7336800410268243, 1)))"
   ]
  },
  {
   "cell_type": "markdown",
   "id": "0a7d4ab6-0a36-4582-a536-a452524345ec",
   "metadata": {
    "deletable": false,
    "editable": false,
    "nbgrader": {
     "cell_type": "markdown",
     "checksum": "0c7902d117a476529c72969cb7b4a07c",
     "grade": false,
     "grade_id": "cell-fac20582fdc4fe02",
     "locked": true,
     "schema_version": 3,
     "solution": false,
     "task": false
    },
    "tags": []
   },
   "source": [
    "### Zadanie 2: Test HSD Tukeya [8 pkt]\n",
    "\n",
    "Przygotuj funkcję `tukey_HSD_test()`, która będzie przeprowadzać test HSD Tukeya dla wszystkich par prób losowych w analizowanym zestawie danych i wyświetlać wynik testu statystycznego zgodnie z wytycznymi zawartymi w treści zadania oraz w docstring funkcji.\n",
    "\n",
    "Poza zwracaniem zmiennych wymienionych w docsting funkcji, które są potrzebne do przeprowadzenia automatycznych testów funkcji powinna wykorzystywać udostępnioną na początku notatnika funkcję `vizualize_HSD_test_result()` do generowania wykresu zawierającego:\n",
    " - wykres heatmap wyników testu ze skalą kolorów ustaqioną na coolwarm wycentrowaną na wartości statystyki HSD_alpha (odcienie ciepłe dla pól o wartości współczynnika HSD większej od HSD_alpha, odcienie zimne dla pól o wartości współczynnika HSD mniejszej od HSD_alpha).\n",
    "\n",
    "Uwaga! Celem zadanie jest zapoznanie się ze schematem metody i samodzielne funkcji napisanie od podstaw. W związku z tym podczas rozwiązywania zadania nie należy korzystać z gotowych funkcji przeprowadzających testu HSD Tukeya. W celu otrzymania wartości parametru `HSD_alpha` należy skorzystać z funkcji modułu `sp.stats.studentized_range`."
   ]
  },
  {
   "cell_type": "code",
   "execution_count": 111,
   "id": "40f0fe1a-7129-465f-8491-d515f1ad8e2a",
   "metadata": {
    "deletable": false,
    "nbgrader": {
     "cell_type": "code",
     "checksum": "59dbd463d08a9860e40d1af5cc87c9df",
     "grade": false,
     "grade_id": "cell-66bfdaa0b06532ad",
     "locked": false,
     "schema_version": 3,
     "solution": true,
     "task": false
    },
    "tags": []
   },
   "outputs": [
    {
     "data": {
      "text/html": [
       "<div>\n",
       "<style scoped>\n",
       "    .dataframe tbody tr th:only-of-type {\n",
       "        vertical-align: middle;\n",
       "    }\n",
       "\n",
       "    .dataframe tbody tr th {\n",
       "        vertical-align: top;\n",
       "    }\n",
       "\n",
       "    .dataframe thead th {\n",
       "        text-align: right;\n",
       "    }\n",
       "</style>\n",
       "<table border=\"1\" class=\"dataframe\">\n",
       "  <thead>\n",
       "    <tr style=\"text-align: right;\">\n",
       "      <th></th>\n",
       "      <th>C1</th>\n",
       "      <th>C2</th>\n",
       "      <th>C3</th>\n",
       "      <th>C4</th>\n",
       "      <th>C5</th>\n",
       "      <th>C6</th>\n",
       "    </tr>\n",
       "  </thead>\n",
       "  <tbody>\n",
       "    <tr>\n",
       "      <th>C1</th>\n",
       "      <td>0.000000</td>\n",
       "      <td>2.323988</td>\n",
       "      <td>2.049257</td>\n",
       "      <td>1.140922</td>\n",
       "      <td>3.359598</td>\n",
       "      <td>0.584349</td>\n",
       "    </tr>\n",
       "    <tr>\n",
       "      <th>C2</th>\n",
       "      <td>2.323988</td>\n",
       "      <td>0.000000</td>\n",
       "      <td>4.524851</td>\n",
       "      <td>1.296799</td>\n",
       "      <td>5.908442</td>\n",
       "      <td>1.731487</td>\n",
       "    </tr>\n",
       "    <tr>\n",
       "      <th>C3</th>\n",
       "      <td>2.049257</td>\n",
       "      <td>4.524851</td>\n",
       "      <td>0.000000</td>\n",
       "      <td>3.365103</td>\n",
       "      <td>1.333064</td>\n",
       "      <td>2.662164</td>\n",
       "    </tr>\n",
       "    <tr>\n",
       "      <th>C4</th>\n",
       "      <td>1.140922</td>\n",
       "      <td>1.296799</td>\n",
       "      <td>3.365103</td>\n",
       "      <td>0.000000</td>\n",
       "      <td>4.777100</td>\n",
       "      <td>0.525854</td>\n",
       "    </tr>\n",
       "    <tr>\n",
       "      <th>C5</th>\n",
       "      <td>3.359598</td>\n",
       "      <td>5.908442</td>\n",
       "      <td>1.333064</td>\n",
       "      <td>4.777100</td>\n",
       "      <td>0.000000</td>\n",
       "      <td>3.985055</td>\n",
       "    </tr>\n",
       "    <tr>\n",
       "      <th>C6</th>\n",
       "      <td>0.584349</td>\n",
       "      <td>1.731487</td>\n",
       "      <td>2.662164</td>\n",
       "      <td>0.525854</td>\n",
       "      <td>3.985055</td>\n",
       "      <td>0.000000</td>\n",
       "    </tr>\n",
       "  </tbody>\n",
       "</table>\n",
       "</div>"
      ],
      "text/plain": [
       "          C1        C2        C3        C4        C5        C6\n",
       "C1  0.000000  2.323988  2.049257  1.140922  3.359598  0.584349\n",
       "C2  2.323988  0.000000  4.524851  1.296799  5.908442  1.731487\n",
       "C3  2.049257  4.524851  0.000000  3.365103  1.333064  2.662164\n",
       "C4  1.140922  1.296799  3.365103  0.000000  4.777100  0.525854\n",
       "C5  3.359598  5.908442  1.333064  4.777100  0.000000  3.985055\n",
       "C6  0.584349  1.731487  2.662164  0.525854  3.985055  0.000000"
      ]
     },
     "execution_count": 111,
     "metadata": {},
     "output_type": "execute_result"
    }
   ],
   "source": [
    "def tukey_HSD_test(data, alpha):\n",
    "    \"\"\"\n",
    "    data: DataFrame\n",
    "        Tablica zawierająca domyślny indeks i dowolnie nazwane kolumny (nazwy prób losowych) z wynikami prób losowych.\n",
    "        Znajdujące się w tablicy wartości NaN nie są wynikami wchodzącymi w skład prób losowych,\n",
    "        a jedynie uzupełniają puste miejsca w tablicy powstałe na skutek różnej liczebności poszczególnych prób.\n",
    "    alpha: float\n",
    "        Wartość określająca poziom istotności.\n",
    "    \n",
    "    Returns\n",
    "    -------\n",
    "    HSD: DataFrame\n",
    "        Tablica zawierająca wartości statystyki HSD wyliczonych na podstawie poszczególnych par porównywanych prób losowych.\n",
    "        Nazwy kolumn i wierszy tablicy odpowiadają nazwom poszczególnych prób losowych.\n",
    "    HSD_alpha: float\n",
    "        Wartość statystyki HSD_alpha.\n",
    "    H: DataFrame\n",
    "        Tablica zawierająca wartości int określające wynik testu dla poszczególnych par porównywanych prób losowych:\n",
    "        0 - gdy wynik testu istotności nie daje podstaw do odrzucenia H0 na rzecz H1 na poziomie istotności 1-alpha,\n",
    "        1 - gdy następuje odrzucenie H0 na rzecz H1 na poziomie istotności 1-alpha.\n",
    "        Nazwy kolumn i wierszy tablicy odpowiadają nazwom poszczególnych prób losowych.\n",
    "    \"\"\" \n",
    "    #data=data.fillna(\n",
    "    k=len(data.columns)\n",
    "    n=data.count().sum()\n",
    "#0.8210180623973727 coś koło tego ma być Sx\n",
    "    suma=0\n",
    "    zera=np.zeros((k,k))\n",
    "    ones=np.ones((k,k))\n",
    "    zerka=np.zeros((k,k))\n",
    "    X=pd.DataFrame(zera)\n",
    "    mian=pd.DataFrame(ones)\n",
    "    H=pd.DataFrame(zerka,columns=data.columns,index=data.columns)\n",
    "    for i in range(k):\n",
    "        suma=suma+np.sum( (data.iloc[:,i]-np.mean(data.iloc[:,i]))**2)\n",
    "        for j in range(k):\n",
    "            temp=np.abs(np.mean(data.iloc[:,i].dropna())-np.mean(data.iloc[:,j].dropna()))\n",
    "            X.iloc[i,j]=temp\n",
    "            X.iloc[j,i]=temp\n",
    "            NA=len(data.iloc[:,i].dropna())\n",
    "            NB=len(data.iloc[:,j].dropna())\n",
    "            mian.iloc[i,j]=(1/NA)+(1/NB)\n",
    "            mian.iloc[j,i]=(1/NA)+(1/NB)\n",
    "    SX=np.sqrt( (  ( (1/(n-k))*suma )/2)*mian)\n",
    "    #print(X)\n",
    "    HSD=pd.DataFrame(X/SX)\n",
    "    HSD.columns,HSD.index=data.columns,data.columns\n",
    "    HSD_alpha=sp.stats.studentized_range.ppf(1-alpha,k,n-k)\n",
    "    H[HSD.values>=HSD_alpha]=1\n",
    "    return HSD,HSD_alpha,H\n",
    "HSD, HSD_alpha, H = tukey_HSD_test(test_data_3, 0.02)\n",
    "HSD"
   ]
  },
  {
   "cell_type": "code",
   "execution_count": 112,
   "id": "5a3aedaa-c1b1-453d-b516-961fa4cd3df4",
   "metadata": {
    "deletable": false,
    "editable": false,
    "nbgrader": {
     "cell_type": "code",
     "checksum": "cd4f0f36479f30f5c09bd9a299c480ec",
     "grade": true,
     "grade_id": "cell-d5564e02c4c8fbeb",
     "locked": true,
     "points": 8,
     "schema_version": 3,
     "solution": false,
     "task": false
    },
    "tags": []
   },
   "outputs": [],
   "source": [
    "### Komórka testowa\n",
    "\n",
    "HSD, HSD_alpha, H = tukey_HSD_test(test_data_2, 0.05)\n",
    "# Test 1 Kształt tablicy\n",
    "assert HSD.shape == (3, 3)\n",
    "# Test 2 Kolumny i indeks\n",
    "assert len(set(list(HSD.columns)) & set(['B1', 'B2', 'B3'])) == 3\n",
    "assert len(set(list(HSD.index)) & set(['B1', 'B2', 'B3'])) == 3\n",
    "assert len(set(list(H.columns)) & set(['B1', 'B2', 'B3'])) == 3\n",
    "assert len(set(list(H.index)) & set(['B1', 'B2', 'B3'])) == 3\n",
    "# Test 3 Wartości \n",
    "assert np.all(np.isclose(HSD.values , np.array([[0., 0.6092077, 6.09207699], [0.6092077, 0., 5.48286929], [6.09207699, 5.48286929, 0.]])))\n",
    "assert np.isclose(HSD_alpha, 3.948492203457512)\n",
    "assert np.all(np.isclose(H.values , np.array([[0, 0, 1], [0, 0, 1], [1, 1, 0]])))\n",
    "\n",
    "HSD, HSD_alpha, H = tukey_HSD_test(test_data_3, 0.02)\n",
    "# Test 1 Kształt tablicy\n",
    "assert HSD.shape == (6, 6)\n",
    "# Test 2 Kolumny i indeks\n",
    "assert len(set(list(HSD.columns)) & set([\"C1\", \"C2\", \"C3\", \"C4\", \"C5\", \"C6\"])) == 6\n",
    "assert len(set(list(HSD.index)) & set([\"C1\", \"C2\", \"C3\", \"C4\", \"C5\", \"C6\"])) == 6\n",
    "# Test 3 Wartości \n",
    "assert np.all(np.isclose(HSD.values , np.array([[0.       , 2.32398801, 2.04925654, 1.14092171, 3.35959821, 0.58434888],\n",
    "                                               [2.32398801, 0.        , 4.52485149, 1.29679893, 5.90844249, 1.73148729],\n",
    "                                               [2.04925654, 4.52485149, 0.        , 3.36510324, 1.33306438, 2.66216438],\n",
    "                                               [1.14092171, 1.29679893, 3.36510324, 0.        , 4.77709994, 0.52585424],\n",
    "                                               [3.35959821, 5.90844249, 1.33306438, 4.77709994, 0.        , 3.98505536],\n",
    "                                               [0.58434888, 1.73148729, 2.66216438, 0.52585424, 3.98505536, 0.        ]])))\n",
    "assert np.isclose(HSD_alpha, 4.50539007862777)\n",
    "assert np.all(np.isclose(H.values , np.array([[0, 0, 0, 0, 0, 0], [0, 0, 1, 0, 1, 0],\n",
    "                                               [0, 1, 0, 0, 0, 0], [0, 0, 0, 0, 1, 0],\n",
    "                                               [0, 1, 0, 1, 0, 0], [0, 0, 0, 0, 0, 0]])))"
   ]
  },
  {
   "cell_type": "markdown",
   "id": "284e0478-4bf3-47b1-b4bf-a7a3ca60302f",
   "metadata": {
    "deletable": false,
    "editable": false,
    "nbgrader": {
     "cell_type": "markdown",
     "checksum": "a4fc7154fa2a76374263f64ab2a1e34b",
     "grade": false,
     "grade_id": "cell-12d3375e5e2fc9c5",
     "locked": true,
     "schema_version": 3,
     "solution": false,
     "task": false
    },
    "tags": []
   },
   "source": [
    "### Zadanie 3: Wykorzystanie dedykowanych funkcji [5 pkt]\n",
    "\n",
    "#### a)\n",
    "Korzystając z funkcji `sp.stats.f_oneway()` zweryfikuj hipotezę o równości wartości średnich zmiennych zawartych w zmiennej `test_data_2`. W obliczeniach przyjmij poziom istotności 1 - alpha = 0.95.\n",
    "\n",
    "Zapisz obliczoną wartość pvalue do zmiennej `pvalue_1`, oraz przygotuj zmienną `H_1` zawierającą wynik testu statystycznego (0 - gdy wynik testu istotności nie daje podstaw do odrzucenia H0 na rzecz H1 na poziomie istotności 1-alpha, 1 - gdy następuje odrzucenie H0 na rzecz H1 na poziomie istotności 1-alpha).\n",
    "\n",
    "Uwagi do wykonania zadania:\n",
    " - ustaw następującą wartość argumentu funkcji wykonującej test statystyczny odpowiedzialnego za radzenie sobie z wartościami nan: `nan_policy=\"omit\"`."
   ]
  },
  {
   "cell_type": "code",
   "execution_count": 125,
   "id": "c8328edb-df0d-4e95-84b8-28b43273242c",
   "metadata": {
    "deletable": false,
    "nbgrader": {
     "cell_type": "code",
     "checksum": "1e7989846e495785e32c62cc4b7c186d",
     "grade": false,
     "grade_id": "cell-c36fa5ceea66c2ab",
     "locked": false,
     "schema_version": 3,
     "solution": true,
     "task": false
    },
    "tags": []
   },
   "outputs": [],
   "source": [
    "# YOUR CODE HERE\n",
    "pvalue_1=sp.stats.f_oneway(*[test_data_2[col] for col in test_data_2.columns]).pvalue\n",
    "H_1=0\n",
    "if pvalue_1<=0.05:\n",
    "    H_1=1\n",
    "#raise NotImplementedError()"
   ]
  },
  {
   "cell_type": "code",
   "execution_count": 126,
   "id": "57bf1a2f-5a3a-42b9-a7fe-e6df6e91a928",
   "metadata": {
    "deletable": false,
    "editable": false,
    "nbgrader": {
     "cell_type": "code",
     "checksum": "78f666b4b6bcd988b7e935f219a548eb",
     "grade": true,
     "grade_id": "cell-45653b18eb62c15d",
     "locked": true,
     "points": 2,
     "schema_version": 3,
     "solution": false,
     "task": false
    },
    "tags": []
   },
   "outputs": [],
   "source": [
    "# Komórka testowa\n",
    "assert np.isclose(pvalue_1, 0.003554140748362928)\n",
    "assert H_1 == 1"
   ]
  },
  {
   "cell_type": "markdown",
   "id": "ad44deba-bcdd-48f7-9e24-987737ab8780",
   "metadata": {
    "deletable": false,
    "editable": false,
    "nbgrader": {
     "cell_type": "markdown",
     "checksum": "d808ad1e34f5d914b5b078cc7768eb42",
     "grade": false,
     "grade_id": "cell-e4458bda737d23ae",
     "locked": true,
     "schema_version": 3,
     "solution": false,
     "task": false
    },
    "tags": []
   },
   "source": [
    "#### b)\n",
    "Korzystając z funkcji `sp.stats.tukey_hsd()` zweryfikuj hipotezę o równości wartości średnich poszczególnych par zmiennych zawartych w zmiennej `test_data_2`. W obliczeniach przyjmij poziom istotności 1 - alpha = 0.95.\n",
    "\n",
    "Zapisz obliczone wartości pvalue do zmiennej `pvalue_2` (będzie to macierz), oraz przygotuj zmienną `H_2` zawierającą wynik testów statystycznych (macierz zawierająca: 0 - gdy wynik testu istotności nie daje podstaw do odrzucenia H0 na rzecz H1 na poziomie istotności 1-alpha, 1 - gdy następuje odrzucenie H0 na rzecz H1 na poziomie istotności 1-alpha).\n",
    "\n",
    "Uwagi do wykonania zadania:\n",
    " - funkcja `sp.stats.tukey_hsd()` wymaga wcześniejszego usunięcia z danych wartości NaN."
   ]
  },
  {
   "cell_type": "code",
   "execution_count": 145,
   "id": "a0586411-b6ea-407c-93d6-c41613e78553",
   "metadata": {
    "deletable": false,
    "nbgrader": {
     "cell_type": "code",
     "checksum": "46f87e823b0bdd39101b4da024d3b000",
     "grade": false,
     "grade_id": "cell-f96c6d148b754ac6",
     "locked": false,
     "schema_version": 3,
     "solution": true,
     "task": false
    },
    "tags": []
   },
   "outputs": [
    {
     "data": {
      "text/plain": [
       "array([[0., 0., 1.],\n",
       "       [0., 0., 1.],\n",
       "       [1., 1., 0.]])"
      ]
     },
     "execution_count": 145,
     "metadata": {},
     "output_type": "execute_result"
    }
   ],
   "source": [
    "# YOUR CODE HERE\n",
    "pvalue_2=pd.DataFrame(sp.stats.tukey_hsd(*[test_data_2[col] for col in test_data_2.columns]).pvalue)\n",
    "k=len(pvalue_2)\n",
    "H_2=np.zeros((k,k))\n",
    "H_2[pvalue_2<=0.05]=1\n",
    "H_2\n",
    "#raise NotImplementedError()"
   ]
  },
  {
   "cell_type": "code",
   "execution_count": 146,
   "id": "a1939ee6-919b-4f9f-aca6-886a9bc11dd3",
   "metadata": {
    "deletable": false,
    "editable": false,
    "nbgrader": {
     "cell_type": "code",
     "checksum": "0198708462a5bc3af2b3808df29fb9ac",
     "grade": true,
     "grade_id": "cell-39dbc778fdca18da",
     "locked": true,
     "points": 3,
     "schema_version": 3,
     "solution": false,
     "task": false
    },
    "tags": []
   },
   "outputs": [],
   "source": [
    "# Komórka testowa\n",
    "assert np.all(np.isclose(pvalue_2, np.array([[1.,         0.90382813, 0.00501795],\n",
    "                                             [0.90382813, 1.,         0.0094373 ],\n",
    "                                             [0.00501795, 0.0094373,  1.        ]])))\n",
    "assert np.all(np.isclose(H_2, np.array([[0, 0, 1],\n",
    "                                        [0, 0, 1],\n",
    "                                        [1, 1, 0]])))"
   ]
  },
  {
   "cell_type": "code",
   "execution_count": null,
   "id": "65c433a2-3070-4ba4-9d27-34b06dcd87c2",
   "metadata": {},
   "outputs": [],
   "source": []
  }
 ],
 "metadata": {
  "kernelspec": {
   "display_name": "Python 3 (ipykernel)",
   "language": "python",
   "name": "python3"
  },
  "language_info": {
   "codemirror_mode": {
    "name": "ipython",
    "version": 3
   },
   "file_extension": ".py",
   "mimetype": "text/x-python",
   "name": "python",
   "nbconvert_exporter": "python",
   "pygments_lexer": "ipython3",
   "version": "3.12.2"
  }
 },
 "nbformat": 4,
 "nbformat_minor": 5
}
