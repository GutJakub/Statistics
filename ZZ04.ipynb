{
 "cells": [
  {
   "cell_type": "markdown",
   "id": "01490631",
   "metadata": {
    "deletable": false,
    "editable": false,
    "nbgrader": {
     "cell_type": "markdown",
     "checksum": "ff0bc2c9546dc7416a62ab1f8e86fe5a",
     "grade": false,
     "grade_id": "cell-fcd2666579131b77",
     "locked": true,
     "schema_version": 3,
     "solution": false,
     "task": false
    },
    "tags": []
   },
   "source": [
    "# Statystyka matematyczna - ćwiczenia laboratoryjne 2023/2024\n",
    "\n",
    "Ten notatnik zalicza się do grupy zestawów zadań, na podstawie których odbywa się zaliczenie ćwiczeń i podlega zwrotowi do oceny w ustalonym na zajęciach terminie.\n",
    "\n",
    "Uwagi i wytyczne ogólne dotyczące uzupełniania notatnika:\n",
    "- Podczas wykonywania zadań należy korzystać wyłącznie z pakietów zaimportowanych na początku notatnika oraz z pakietów wchodzących w skład standardowej biblioteki Pythona, które można zaimportować samodzielnie we wskazanej komórce notatnika.\n",
    "- Swoje rozwiązania należy wprowadzać wyłącznie w miejce następujących fragmentów kodu:<br/> `# YOUR CODE HERE`<br/> `raise NotImplementedError()`<br/> \n",
    "a odpowiedzi tekstowe w komórkach oznaczonych hasłem:<br/> \n",
    "`YOUR ANSWER HERE`<br/> \n",
    "Nie należy w żaden sposób modyfikować pozostałych fragmentów kodu oraz innych elementów notatnika, w szczególności dodawać lub usuwać komórek oraz zmieniać nazwy pliku.\n",
    "- Otrzymywane wyniki i odpowiedzi mają być rezultatem wykonania napisanego kodu.\n",
    "- Zadanie należy wykonać w taki sposób, aby podczas wykonywania kodu nie zostały wyświetlone żadne ostrzeżenia.\n",
    "- Zawarte w notatniku automatyczne testy mają charakter poglądowy. Dotyczą one wybranych aspektów zadań i mają za zadanie wyłapać podstawowe błędy. Przejście wszystkich testów nie oznacza, że zadanie jest wykonane w całości poprawnie.\n",
    "\n",
    "Uwagi i wytyczne ogólne dotyczące wizualizacji wyników:\n",
    "- Wszystkie wykresy powinny być wykonane w jednolitym, przejrzystym i czytelnym stylu, posiadać odpowiednio dobrane proporcje i zakresy wartości osi.\n",
    "- Wykresy oraz ich osie powinny mieć nadane tytuły. Jeżeli w obrębie figury znajduje się więcej niż jeden wykres to figura również powinna mieć nadany tytuł. \n",
    "- Figury powinny mieć ustawione białe tło, tak, aby niezależnie od ustawień notatnika wszystkie elementy wykresów były dobrze widoczne (domyślnie tło jest przeźroczyste co może powodować problemy w notatnikach z ustawionym ciemnym tłem).\n",
    "- Rozmiar poziomy figur nie powinien przekraczać 20 cali.\n",
    "\n",
    "Przed odesłaniem zestawu zadań do oceny proszę uzupełnić komórkę z danymi autorów rozwiązania (nazwa zespołu oraz imiona, nazwiska i numery indeksów członków zespołu) oraz upewnić się, że notatnik działa zgodnie z oczekiwaniami. W tym celu należy skorzystać z opcji **Restart Kernel and Run All Cells...** dostępnej na górnej belce notatnika pod symbolem $\\blacktriangleright\\blacktriangleright$."
   ]
  },
  {
   "cell_type": "markdown",
   "id": "bf334853",
   "metadata": {},
   "source": [
    "Nazwa zespołu:\n",
    "Członkowie:"
   ]
  },
  {
   "cell_type": "markdown",
   "id": "69d721b4",
   "metadata": {
    "deletable": false,
    "editable": false,
    "nbgrader": {
     "cell_type": "markdown",
     "checksum": "eddc8826810e4a6f7bf68319da334bd9",
     "grade": false,
     "grade_id": "cell-109006d425e5cf83",
     "locked": true,
     "schema_version": 3,
     "solution": false,
     "task": false
    },
    "tags": []
   },
   "source": [
    "---"
   ]
  },
  {
   "cell_type": "markdown",
   "id": "ce91c3dd-8b7f-4009-b9aa-a57dc72b415f",
   "metadata": {
    "deletable": false,
    "editable": false,
    "nbgrader": {
     "cell_type": "markdown",
     "checksum": "01eb8395d1f1a00777cfad005c5d7f0b",
     "grade": false,
     "grade_id": "cell-66cdab3e82ab6956",
     "locked": true,
     "schema_version": 3,
     "solution": false,
     "task": false
    },
    "tags": []
   },
   "source": [
    "# Zestaw zadań 4: Elementy eksploracyjnej analizy danych"
   ]
  },
  {
   "cell_type": "code",
   "execution_count": 6,
   "id": "f81e040a-8c0b-4294-abe0-46d1f04d99da",
   "metadata": {
    "deletable": false,
    "editable": false,
    "nbgrader": {
     "cell_type": "code",
     "checksum": "f9856757dc09d675bfa259f7d70de907",
     "grade": false,
     "grade_id": "cell-9bb62978a3e3e065",
     "locked": true,
     "schema_version": 3,
     "solution": false,
     "task": false
    },
    "tags": []
   },
   "outputs": [],
   "source": [
    "import numpy as np\n",
    "import pandas as pd\n",
    "import scipy as sp\n",
    "import matplotlib as mpl\n",
    "import matplotlib.pyplot as plt\n",
    "import seaborn as sns"
   ]
  },
  {
   "cell_type": "code",
   "execution_count": 7,
   "id": "6b4a47ce-c777-4167-8e68-4568cfcaa6cd",
   "metadata": {
    "tags": []
   },
   "outputs": [],
   "source": [
    "# Miejsce do importu pakietów wchodzących w skład standardowej biblioteki Pythona oraz ustawienie opcji wykorzystywanych pakietów"
   ]
  },
  {
   "cell_type": "markdown",
   "id": "51afbc65-2cde-4f85-ae81-fad0be4f7014",
   "metadata": {
    "deletable": false,
    "editable": false,
    "nbgrader": {
     "cell_type": "markdown",
     "checksum": "f597f22b62f3f0662267b74008792373",
     "grade": false,
     "grade_id": "cell-cf2856879cf7b43c",
     "locked": true,
     "schema_version": 3,
     "solution": false,
     "task": false
    },
    "tags": []
   },
   "source": [
    "### Dane do zadań\n",
    "\n",
    "Plik wine_data.csv zawiera wyniki pomiarów kilku wybranych parametrów win pochodzących z tego samego rejonu Włoch, ale wyprodukowanych z trzech różnych odmian (ang. cultivar) winogron:\n",
    "\n",
    " - Alcohol (Alkohol) - procentowa zawartości alkoholu w winie.\n",
    " - Malic acid (kwas jabłkowy) - rodzaj kwasu obecnego w winogronach i innych owocach.\n",
    " - Ash (popiół) - reprezentuje pozostałości po fermentacji winogron, obejmujące składniki mineralne, takie jak potas i wapń.\n",
    " - Flavanoids (flawonoidy) - rodzaj związku fenolowego.\n",
    " - Color intensity (intensywność koloru) - mierzy jak głęboki lub intensywny jest kolor.\n",
    " - OD280/OD315 (absorbancja przy 280/315 nm wina rozcieńczonego) - miara absorpcji światła przy określonych długościach fal.\n",
    "\n",
    "W celu wczytania danych do notatnika umieść plik w tym samym folderze, w którym znajduje się notatnik.\n",
    "\n",
    "Źródło danych: Aeberhard S., Forina M. Leardi R.; Wine; DOI: 10.24432/C5PC7J; https://archive.ics.uci.edu/dataset/109/wine"
   ]
  },
  {
   "cell_type": "code",
   "execution_count": 8,
   "id": "23c83757-8303-4516-a467-2ce8e1e04208",
   "metadata": {
    "deletable": false,
    "editable": false,
    "nbgrader": {
     "cell_type": "code",
     "checksum": "acea637aa255c625056951c0a8e5ef18",
     "grade": false,
     "grade_id": "cell-7f011ced94766937",
     "locked": true,
     "schema_version": 3,
     "solution": false,
     "task": false
    },
    "tags": []
   },
   "outputs": [
    {
     "data": {
      "text/html": [
       "<div>\n",
       "<style scoped>\n",
       "    .dataframe tbody tr th:only-of-type {\n",
       "        vertical-align: middle;\n",
       "    }\n",
       "\n",
       "    .dataframe tbody tr th {\n",
       "        vertical-align: top;\n",
       "    }\n",
       "\n",
       "    .dataframe thead th {\n",
       "        text-align: right;\n",
       "    }\n",
       "</style>\n",
       "<table border=\"1\" class=\"dataframe\">\n",
       "  <thead>\n",
       "    <tr style=\"text-align: right;\">\n",
       "      <th></th>\n",
       "      <th>Cultivar</th>\n",
       "      <th>Alcohol</th>\n",
       "      <th>Malic acid</th>\n",
       "      <th>Ash</th>\n",
       "      <th>Flavanoids</th>\n",
       "      <th>Color intensity</th>\n",
       "      <th>OD280/OD315</th>\n",
       "    </tr>\n",
       "  </thead>\n",
       "  <tbody>\n",
       "    <tr>\n",
       "      <th>0</th>\n",
       "      <td>2</td>\n",
       "      <td>11.81</td>\n",
       "      <td>2.12</td>\n",
       "      <td>2.74</td>\n",
       "      <td>0.99</td>\n",
       "      <td>2.50</td>\n",
       "      <td>2.26</td>\n",
       "    </tr>\n",
       "    <tr>\n",
       "      <th>1</th>\n",
       "      <td>3</td>\n",
       "      <td>13.40</td>\n",
       "      <td>4.60</td>\n",
       "      <td>2.86</td>\n",
       "      <td>0.96</td>\n",
       "      <td>8.50</td>\n",
       "      <td>1.92</td>\n",
       "    </tr>\n",
       "    <tr>\n",
       "      <th>2</th>\n",
       "      <td>1</td>\n",
       "      <td>13.56</td>\n",
       "      <td>1.71</td>\n",
       "      <td>2.31</td>\n",
       "      <td>3.29</td>\n",
       "      <td>6.13</td>\n",
       "      <td>3.38</td>\n",
       "    </tr>\n",
       "    <tr>\n",
       "      <th>3</th>\n",
       "      <td>3</td>\n",
       "      <td>13.73</td>\n",
       "      <td>4.36</td>\n",
       "      <td>2.26</td>\n",
       "      <td>0.47</td>\n",
       "      <td>6.62</td>\n",
       "      <td>1.75</td>\n",
       "    </tr>\n",
       "    <tr>\n",
       "      <th>4</th>\n",
       "      <td>2</td>\n",
       "      <td>12.17</td>\n",
       "      <td>1.45</td>\n",
       "      <td>2.53</td>\n",
       "      <td>1.75</td>\n",
       "      <td>2.95</td>\n",
       "      <td>2.23</td>\n",
       "    </tr>\n",
       "    <tr>\n",
       "      <th>5</th>\n",
       "      <td>3</td>\n",
       "      <td>14.13</td>\n",
       "      <td>4.10</td>\n",
       "      <td>2.74</td>\n",
       "      <td>0.76</td>\n",
       "      <td>9.20</td>\n",
       "      <td>1.60</td>\n",
       "    </tr>\n",
       "    <tr>\n",
       "      <th>6</th>\n",
       "      <td>1</td>\n",
       "      <td>13.68</td>\n",
       "      <td>1.83</td>\n",
       "      <td>2.36</td>\n",
       "      <td>2.69</td>\n",
       "      <td>3.84</td>\n",
       "      <td>2.87</td>\n",
       "    </tr>\n",
       "    <tr>\n",
       "      <th>7</th>\n",
       "      <td>3</td>\n",
       "      <td>13.40</td>\n",
       "      <td>3.91</td>\n",
       "      <td>2.48</td>\n",
       "      <td>0.75</td>\n",
       "      <td>7.30</td>\n",
       "      <td>1.56</td>\n",
       "    </tr>\n",
       "    <tr>\n",
       "      <th>8</th>\n",
       "      <td>1</td>\n",
       "      <td>13.86</td>\n",
       "      <td>1.35</td>\n",
       "      <td>2.27</td>\n",
       "      <td>3.15</td>\n",
       "      <td>7.22</td>\n",
       "      <td>3.55</td>\n",
       "    </tr>\n",
       "    <tr>\n",
       "      <th>9</th>\n",
       "      <td>2</td>\n",
       "      <td>12.33</td>\n",
       "      <td>1.10</td>\n",
       "      <td>2.28</td>\n",
       "      <td>1.09</td>\n",
       "      <td>3.27</td>\n",
       "      <td>1.67</td>\n",
       "    </tr>\n",
       "  </tbody>\n",
       "</table>\n",
       "</div>"
      ],
      "text/plain": [
       "   Cultivar  Alcohol  Malic acid   Ash  Flavanoids  Color intensity  \\\n",
       "0         2    11.81        2.12  2.74        0.99             2.50   \n",
       "1         3    13.40        4.60  2.86        0.96             8.50   \n",
       "2         1    13.56        1.71  2.31        3.29             6.13   \n",
       "3         3    13.73        4.36  2.26        0.47             6.62   \n",
       "4         2    12.17        1.45  2.53        1.75             2.95   \n",
       "5         3    14.13        4.10  2.74        0.76             9.20   \n",
       "6         1    13.68        1.83  2.36        2.69             3.84   \n",
       "7         3    13.40        3.91  2.48        0.75             7.30   \n",
       "8         1    13.86        1.35  2.27        3.15             7.22   \n",
       "9         2    12.33        1.10  2.28        1.09             3.27   \n",
       "\n",
       "   OD280/OD315  \n",
       "0         2.26  \n",
       "1         1.92  \n",
       "2         3.38  \n",
       "3         1.75  \n",
       "4         2.23  \n",
       "5         1.60  \n",
       "6         2.87  \n",
       "7         1.56  \n",
       "8         3.55  \n",
       "9         1.67  "
      ]
     },
     "execution_count": 8,
     "metadata": {},
     "output_type": "execute_result"
    }
   ],
   "source": [
    "data = pd.read_csv(\"wine_data.csv\", delimiter=\",\", index_col=0)\n",
    "data.head(10)"
   ]
  },
  {
   "cell_type": "markdown",
   "id": "dc0d1374-69c7-471d-81dc-9601754e0df8",
   "metadata": {
    "deletable": false,
    "editable": false,
    "nbgrader": {
     "cell_type": "markdown",
     "checksum": "52806d3c73d9803cd0d31d06fd613a18",
     "grade": false,
     "grade_id": "cell-b35daecd71f86c4e",
     "locked": true,
     "schema_version": 3,
     "solution": false,
     "task": false
    },
    "tags": []
   },
   "source": [
    "### Zadanie 1: Wybrane typy wykresów [4 pkt]\n",
    "\n",
    "Korzystając z funkcji `seaborn.boxplot()`, `seaborn.violinplot()`, `seaborn.stripplot()` i `seaborn.swarmplot()` przygotuj wykresy wybranego przez siebie parametru (oś Y) z podziałem na poszczególne odmiany winogron (oś X).\n",
    "\n",
    "Wykresy (po jednym każdego typu) zestaw na pojedynczej figurze (2x2 pola na wykres). Przygotowując figurę kieruj się wytycznymi z początku notatnika. Dodatkowo ustaw:\n",
    " - dla wykresu boxplot:\n",
    "     - inny od domyślnego kolor wykresu oraz widoczny znacznik wartości średniej,\n",
    " - dla wykresu violinplot:\n",
    "     - inny od domyślnego kolor wykresu,\n",
    " - dla wykresu stripplot:\n",
    "     - inne od domyślnych rozmiar, kolor i przeźroczystość punktów (dobierz parametry tak, aby wykres był jak najbardziej przejrzysty),\n",
    " - dla wykresu swarmplot:\n",
    "     - inne od domyślnych rozmiar i kolor punktów (dobierz rozmiar tak, aby na wykresie zmieścił się komplet punktów).\n"
   ]
  },
  {
   "cell_type": "code",
   "execution_count": 9,
   "id": "0f6c2ded-b3b2-493d-9546-e2be5afa1a7a",
   "metadata": {
    "deletable": false,
    "nbgrader": {
     "cell_type": "code",
     "checksum": "f8ac96cfdde337e3a66fe6e96a287552",
     "grade": true,
     "grade_id": "cell-ebde10f34fc69a92",
     "locked": false,
     "points": 4,
     "schema_version": 3,
     "solution": true,
     "task": false
    },
    "tags": []
   },
   "outputs": [
    {
     "data": {
      "text/plain": [
       "<Axes: xlabel='Cultivar', ylabel='Flavanoids'>"
      ]
     },
     "execution_count": 9,
     "metadata": {},
     "output_type": "execute_result"
    },
    {
     "data": {
      "image/png": "[encoded data removed]",
      "text/plain": [
       "<Figure size 1000x500 with 4 Axes>"
      ]
     },
     "metadata": {},
     "output_type": "display_data"
    }
   ],
   "source": [
    "# YOUR CODE HERE\n",
    "#data to DataFrame\n",
    "data.iloc[:,0].values\n",
    "fig, axes = plt.subplots(2,2,figsize=(10,5))\n",
    "# ZAWARTOSC ALKOHOLU DLA POSZCZEGÓLNYCH GRUP I WARTOSC SREDNIA (kolor czerowny)\n",
    "sns.boxplot(data=data,x=data.iloc[:,0].values,y=data.iloc[:,1],showmeans=True, color=\"red\",ax=axes[0,0])\n",
    "#VIOLINPLOT\n",
    "# Rozlozenie koloru i gestosc w danym kolorze \n",
    "sns.violinplot(data=data,x=data.iloc[:,0].values,y=data.iloc[:,5],color=\"pink\",ax=axes[0,1])\n",
    "#STRIPLOT\n",
    "#zawartosc bialka\n",
    "sns.stripplot(data=data,x=data.iloc[:,0],y=data.iloc[:,6],ax=axes[1,0],size=3,alpha=0.7,\\\n",
    "             jitter=0.05)\n",
    "#SWARMPLOT\n",
    "sns.swarmplot(data=data,x=data.iloc[:,0],y=data.iloc[:,4],ax=axes[1,1],size=4,color=\"lightblue\")\n",
    "#raise NotImplementedError()"
   ]
  },
  {
   "cell_type": "markdown",
   "id": "d6b3f926-caaf-4b9a-8bb2-ecfe31c05435",
   "metadata": {
    "deletable": false,
    "editable": false,
    "nbgrader": {
     "cell_type": "markdown",
     "checksum": "ebaed070f298270fe95cd85af97ed0af",
     "grade": false,
     "grade_id": "cell-06e3f18e2abddc78",
     "locked": true,
     "schema_version": 3,
     "solution": false,
     "task": false
    },
    "tags": []
   },
   "source": [
    "### Zadanie 2: Przygotowanie wykresów do analizy danych ze względu na jedną cechę [6 pkt]\n",
    "\n",
    "#### a) Wykresy boxplot lub violinplot\n",
    "Korzystając z funkcji `seaborn.boxplot()` lub `seaborn.violinplot()` (wybierz preferowany przez siebie typ wykresu) przygotuj wykresy wszystkich parametrów (oś Y) z podziałem na poszczególne odmiany winogron (oś X).\n",
    "\n",
    "Wykresy zestaw na pojedynczej figurze (2x3 pola na wykres). Przygotowując figurę kieruj się wytycznymi z początku notatnika (nie musisz jednak ustawiać tytułów poszczególnych wykresów). Dodatkowo ustaw:\n",
    " - identyczną dla wszystkich wykresów i inną od domyślnej skalę kolorów (każda odmiana ma przypisany inny kolor wykresu),\n",
    " - brak widocznej legendy na wykresach,\n",
    " - widoczny znacznik wartości średniej."
   ]
  },
  {
   "cell_type": "code",
   "execution_count": 10,
   "id": "55a6a387-f2f7-4b54-bbf4-87c5db21c9ca",
   "metadata": {
    "deletable": false,
    "nbgrader": {
     "cell_type": "code",
     "checksum": "8e172dbc1ba2f7f82e64099e0c2d2c23",
     "grade": true,
     "grade_id": "cell-e377d50d946867aa",
     "locked": false,
     "points": 3,
     "schema_version": 3,
     "solution": true,
     "task": false
    },
    "tags": []
   },
   "outputs": [
    {
     "ename": "NotImplementedError",
     "evalue": "",
     "output_type": "error",
     "traceback": [
      "\u001b[1;31m---------------------------------------------------------------------------\u001b[0m",
      "\u001b[1;31mNotImplementedError\u001b[0m                       Traceback (most recent call last)",
      "Cell \u001b[1;32mIn[10], line 2\u001b[0m\n\u001b[0;32m      1\u001b[0m \u001b[38;5;66;03m# YOUR CODE HERE\u001b[39;00m\n\u001b[1;32m----> 2\u001b[0m \u001b[38;5;28;01mraise\u001b[39;00m \u001b[38;5;167;01mNotImplementedError\u001b[39;00m()\n",
      "\u001b[1;31mNotImplementedError\u001b[0m: "
     ]
    }
   ],
   "source": [
    "# YOUR CODE HERE\n",
    "raise NotImplementedError()"
   ]
  },
  {
   "cell_type": "markdown",
   "id": "573bfdb6-6e85-40e0-a905-334465074b66",
   "metadata": {
    "deletable": false,
    "editable": false,
    "nbgrader": {
     "cell_type": "markdown",
     "checksum": "4e94f01bebf945a881b588ebfd4bc6c4",
     "grade": false,
     "grade_id": "cell-1f99e39cece41659",
     "locked": true,
     "schema_version": 3,
     "solution": false,
     "task": false
    },
    "tags": []
   },
   "source": [
    "#### b) Wykresy stripplot lub swarmplot\n",
    "\n",
    "Korzystając z funkcji `seaborn.stripplot()` lub `seaborn.swarmplot()` (wybierz preferowany przez siebie typ wykresu) przygotuj wykresy wszystkich parametrów (oś Y) z podziałem na poszczególne odmiany winogron (oś X).\n",
    "\n",
    "Wykresy zestaw na pojedynczej figurze (2x3 pola na wykres). Przygotowując figurę kieruj się wytycznymi z początku notatnika (nie musisz jednak ustawiać tytułów poszczególnych wykresów). Dodatkowo ustaw:\n",
    " - identyczną dla wszystkich wykresów i inną od domyślnej skalę kolorów (każda odmiana ma przypisany inny kolor wykresu),\n",
    " - brak widocznej legendy na wykresach,\n",
    " - inne od domyślnych rozmiar i przeźroczystość punktów."
   ]
  },
  {
   "cell_type": "code",
   "execution_count": null,
   "id": "f9683ae7-d832-41a5-af40-3e212fb18c02",
   "metadata": {
    "deletable": false,
    "nbgrader": {
     "cell_type": "code",
     "checksum": "0720cf63178696e5d0e572d33632802c",
     "grade": true,
     "grade_id": "cell-2fb796db30427b07",
     "locked": false,
     "points": 3,
     "schema_version": 3,
     "solution": true,
     "task": false
    },
    "tags": []
   },
   "outputs": [],
   "source": [
    "# YOUR CODE HERE\n",
    "raise NotImplementedError()"
   ]
  },
  {
   "cell_type": "markdown",
   "id": "411a7a6c-9b2b-4dc6-b260-19bc29b3325b",
   "metadata": {
    "deletable": false,
    "editable": false,
    "nbgrader": {
     "cell_type": "markdown",
     "checksum": "9e8b53c1521b879d757322c70e421f07",
     "grade": false,
     "grade_id": "cell-14d81ae63669fe68",
     "locked": true,
     "schema_version": 3,
     "solution": false,
     "task": false
    },
    "tags": []
   },
   "source": [
    "### Zadanie 4: Podstawowe statystyki opisowe [3 pkt]\n",
    "\n",
    "Koszystając z funkcji `pandas.Dataframe.descrtibe()` przygotuj tablicę `statistics` z podstawowymi statystykami opisowymi rozkładów poszczególnych parametrów.\n",
    "Następnie korzystając z odpowiednich funkcji pakietu scipy.stats (https://docs.scipy.org/doc/scipy/reference/stats.html#summary-statistics) dodaj na końcu tablicy wiersze o nazwach \"skew\" i \"kurt\" z obliczonymi wartościami skośności i kurtozy rozkładów poszczególnych parametrów."
   ]
  },
  {
   "cell_type": "code",
   "execution_count": null,
   "id": "62157952-8bfb-4075-b7e3-d50ce7438326",
   "metadata": {
    "deletable": false,
    "nbgrader": {
     "cell_type": "code",
     "checksum": "855a3f915effe4afa7567866f25753c8",
     "grade": false,
     "grade_id": "cell-7713d2cc8a0a18d4",
     "locked": false,
     "schema_version": 3,
     "solution": true,
     "task": false
    },
    "tags": []
   },
   "outputs": [],
   "source": [
    "# YOUR CODE HERE\n",
    "raise NotImplementedError()"
   ]
  },
  {
   "cell_type": "code",
   "execution_count": null,
   "id": "414ae149-fe74-4805-a74b-5ac8755b878a",
   "metadata": {
    "deletable": false,
    "editable": false,
    "nbgrader": {
     "cell_type": "code",
     "checksum": "f5d21ef73ae300bacd973b4eedfa23e2",
     "grade": true,
     "grade_id": "cell-36ce8d30cd819a72",
     "locked": true,
     "points": 3,
     "schema_version": 3,
     "solution": false,
     "task": false
    },
    "tags": []
   },
   "outputs": [],
   "source": [
    "# Komórka testowa\n",
    "assert type(statistics) == pd.DataFrame\n",
    "assert statistics.shape == (10, 7)\n",
    "assert np.all(statistics.columns == ['Cultivar', 'Alcohol', 'Malic acid', 'Ash', 'Flavanoids', 'Color intensity', 'OD280/OD315'])\n",
    "assert np.all(statistics.index == ['count', 'mean', 'std', 'min', '25%', '50%', '75%', 'max', 'skew','kurt'])\n",
    "assert np.all(np.isclose(np.sum(statistics.values, axis=0), [189.50032053, 255.84913695, 195.8317122 , 193.26173022, 191.79889282, 214.96499357, 193.08481056]))\n",
    "assert np.all(np.isclose(np.sum(statistics.values, axis=1), [1246., 29.34073033, 7.00548662, 17.02, 23.5375, 28.88, 34.5625, 48.94, 1.49282653, -2.48744664]))"
   ]
  },
  {
   "cell_type": "markdown",
   "id": "c99fde39-e592-4147-a506-d7fe56f21bf1",
   "metadata": {
    "deletable": false,
    "editable": false,
    "nbgrader": {
     "cell_type": "markdown",
     "checksum": "7278550a5abc6e61e51218b90d2a0d24",
     "grade": false,
     "grade_id": "cell-39aae482782c70ad",
     "locked": true,
     "schema_version": 3,
     "solution": false,
     "task": false
    },
    "tags": []
   },
   "source": [
    "### Zadanie 5: Korelacja liniowa [7 pkt]\n",
    "\n",
    "#### a) Manualne obliczanie korelacji liniowej\n",
    "Korzystając ze wzorów manualnie oblicz współczynnik korelacji liniowej `r` parametrów OD280/OD315 (oś X) i Flavanoids (oś Y)."
   ]
  },
  {
   "cell_type": "code",
   "execution_count": null,
   "id": "e43e13c9-7b3a-4b58-8a9c-814291fe8872",
   "metadata": {
    "deletable": false,
    "nbgrader": {
     "cell_type": "code",
     "checksum": "7bd0187458134bb4b9e11987e96e0030",
     "grade": false,
     "grade_id": "cell-2354b6ed2f6380eb",
     "locked": false,
     "schema_version": 3,
     "solution": true,
     "task": false
    },
    "tags": []
   },
   "outputs": [],
   "source": [
    "# Współczynnik korelacji liniowej\n",
    "# YOUR CODE HERE\n",
    "Xm=np.mean(data.iloc[:,6]) \n",
    "Ym=np.mean(data.iloc[:,4])\n",
    "r=0\n",
    "temp=0\n",
    "temp1=0\n",
    "temp2=0\n",
    "temp=sum((data.iloc[:,6]-Xm)*(data.iloc[:,4]-Ym))\n",
    "#temp1=np.sqrt(sum(data.iloc[:,6]-Xm)**2)\n",
    "#temp2=np.sqrt(sum(data.iloc[:,4]-Ym)**2)\n",
    "for x,y in zip(data.iloc[:,6],data.iloc[:,4]):    \n",
    "    temp1+=(x-Xm)**2\n",
    "    temp2+=(y-Ym)**2\n",
    "temp1=np.sqrt(temp1)\n",
    "temp2=np.sqrt(temp2)\n",
    "print(temp2)\n",
    "print(temp1)\n",
    "r=temp/(temp1*temp2)\n",
    "print(r)\n",
    "#raise NotImplementedError()"
   ]
  },
  {
   "cell_type": "code",
   "execution_count": null,
   "id": "44c62404-742b-4682-9803-23454c9b6673",
   "metadata": {
    "deletable": false,
    "editable": false,
    "nbgrader": {
     "cell_type": "code",
     "checksum": "b480c360cdfc16af7880090fae230474",
     "grade": true,
     "grade_id": "cell-f4e528cc08bcb638",
     "locked": true,
     "points": 2,
     "schema_version": 3,
     "solution": false,
     "task": false
    },
    "tags": []
   },
   "outputs": [],
   "source": [
    "# Komórka testowa\n",
    "assert np.isclose(r, 0.7871939018669515)"
   ]
  },
  {
   "cell_type": "markdown",
   "id": "aed9c632-04e7-47c0-b8b5-3477f171917a",
   "metadata": {
    "deletable": false,
    "editable": false,
    "nbgrader": {
     "cell_type": "markdown",
     "checksum": "d566af0f9108dc7cde5aa96e79855f3a",
     "grade": false,
     "grade_id": "cell-4c4d8785b494167f",
     "locked": true,
     "schema_version": 3,
     "solution": false,
     "task": false
    },
    "tags": []
   },
   "source": [
    "#### b) Obliczanie korelacji liniowej z wykorzystaniem dedykowanych funkcji\n",
    "\n",
    "Korzystając ze funkcji `pandas.DataFrame.corr()` przygotuj tablice współczynników korelacji liniowej `r_table` wszystkich możliwych par analizowanych parametrów."
   ]
  },
  {
   "cell_type": "code",
   "execution_count": null,
   "id": "72cdd96d-c872-4c6b-ab71-268a262f7a17",
   "metadata": {
    "deletable": false,
    "nbgrader": {
     "cell_type": "code",
     "checksum": "35cf935767fd44e16647c4b563444d2d",
     "grade": false,
     "grade_id": "cell-50c0b35bd854d116",
     "locked": false,
     "schema_version": 3,
     "solution": true,
     "task": false
    },
    "tags": []
   },
   "outputs": [],
   "source": [
    "# Współczynniki korelacji liniowej\n",
    "# YOUR CODE HERE\n",
    "r_table=data.corr(method=\"pearson\")\n",
    "r_table\n",
    "#raise NotImplementedError()"
   ]
  },
  {
   "cell_type": "code",
   "execution_count": null,
   "id": "01c6211c-303e-4375-974f-ae84a366a668",
   "metadata": {
    "deletable": false,
    "editable": false,
    "nbgrader": {
     "cell_type": "code",
     "checksum": "c2c0cc989fe4b10c35f061e0a0dfa700",
     "grade": true,
     "grade_id": "cell-217234f5cf85dc19",
     "locked": true,
     "points": 1,
     "schema_version": 3,
     "solution": false,
     "task": false
    },
    "tags": []
   },
   "outputs": [],
   "source": [
    "# Komórka testowa\n",
    "assert type(r_table) == pd.DataFrame\n",
    "assert r_table.shape == (7, 7)\n",
    "assert list(r_table.columns) == list(r_table.index)\n",
    "assert np.all(r_table.values>=-1)\n",
    "assert np.all(r_table.values<=1)\n",
    "assert np.all(r_table.mean(axis=0) == r_table.mean(axis=1))"
   ]
  },
  {
   "cell_type": "markdown",
   "id": "217293ab-500e-49b0-9b26-4ef43c4aec33",
   "metadata": {
    "deletable": false,
    "editable": false,
    "nbgrader": {
     "cell_type": "markdown",
     "checksum": "fb5a5925cafb6586d9febb991b82adbf",
     "grade": false,
     "grade_id": "cell-425baf7afce30e9d",
     "locked": true,
     "schema_version": 3,
     "solution": false,
     "task": false
    },
    "tags": []
   },
   "source": [
    "#### c) Wizualizacja współczynników korelacji\n",
    "\n",
    "Wykorzystaj funkcję `seaborn.heatmap()` do zwizualizowania obliczonych wartości współczynników korelacji liniowej i współczynników determinacji liniowej.\n",
    "\n",
    "Przygotowując figurę kieruj się wytycznymi z początku notatnika. Dodatkowo ustaw:\n",
    " - inną od domyślnej skalę kolorów,\n",
    " - widoczne na wykresie wartości współczynników."
   ]
  },
  {
   "cell_type": "code",
   "execution_count": null,
   "id": "942af9ec-036c-4e1e-989a-f86019694eff",
   "metadata": {
    "deletable": false,
    "nbgrader": {
     "cell_type": "code",
     "checksum": "4129ec09592a9d19f2b323c9e2f33a35",
     "grade": true,
     "grade_id": "cell-13bec66ea3f76782",
     "locked": false,
     "points": 2,
     "schema_version": 3,
     "solution": true,
     "task": false
    },
    "tags": []
   },
   "outputs": [],
   "source": [
    "# YOUR CODE HERE\n",
    "#r1_table=(r_table)**2\n",
    "#fig, axes = plt.subplots(2,2,figsize=(10,5))\n",
    "fig,axes = plt.subplots(1,1,figsize=(10,5)) \n",
    "sns.heatmap(data=r_table,cmap=\"Blues\",annot=True)\n",
    "#raise NotImplementedError()"
   ]
  },
  {
   "cell_type": "markdown",
   "id": "6ee4ef97-8e41-4c54-8b05-52f0b77f652c",
   "metadata": {
    "deletable": false,
    "editable": false,
    "nbgrader": {
     "cell_type": "markdown",
     "checksum": "a897e6bb75ff9142da49b0ab14946405",
     "grade": false,
     "grade_id": "cell-97f078268738a813",
     "locked": true,
     "schema_version": 3,
     "solution": false,
     "task": false
    },
    "tags": []
   },
   "source": [
    "#### d) Wykresy korelacyjne\n",
    "\n",
    "Korzystając z funkcji `seaborn.pairplot()` przygotuj wykresy korelacyjne zestawiające ze sobą poszczególne parametry (osie X, Y) z podziałem na poszczególne odmiany winogron (rozróżnione kolorem) i ustaw:\n",
    " - inną od domyślnej skalę kolorów (każda odmiana ma przypisany inny kolor wykresu),\n",
    " - inne od domyślnych własności punktów (kształt, wielkość, przeźroczystość) dobrane tak, aby wykres był jak najbardziej czytelny."
   ]
  },
  {
   "cell_type": "code",
   "execution_count": null,
   "id": "8a0fe9a7-8997-4a5b-be3a-ec88b51ac7a5",
   "metadata": {
    "deletable": false,
    "nbgrader": {
     "cell_type": "code",
     "checksum": "3c27f9dcf6e60e40246c7ebc9e3eb93b",
     "grade": true,
     "grade_id": "cell-4ff262da599f0f48",
     "locked": false,
     "points": 2,
     "schema_version": 3,
     "solution": true,
     "task": false
    },
    "tags": []
   },
   "outputs": [],
   "source": [
    "# YOUR CODE HERE\n",
    "data.iloc[:,0].values\n",
    "paleta=sns.color_palette(\"husl\",3)\n",
    "#diag kind wykres gestosci na przekatnej\n",
    "#markers ksztalty \n",
    "sns.pairplot(data=data,hue=\"Cultivar\",palette=paleta,diag_kind=\"kde\",height=4,markers=[\"o\",\"s\",\"^\"],plot_kws={'alpha':0.7,'s':100})\n",
    "#raise NotImplementedError()"
   ]
  },
  {
   "cell_type": "markdown",
   "id": "ad039b0e-dfea-4b8e-813c-ffa8e9f64bf3",
   "metadata": {
    "deletable": false,
    "editable": false,
    "nbgrader": {
     "cell_type": "markdown",
     "checksum": "e5901c53b576c61ee83c68961c4a4c7a",
     "grade": false,
     "grade_id": "cell-078d99406bad6be0",
     "locked": true,
     "schema_version": 3,
     "solution": false,
     "task": false
    },
    "tags": []
   },
   "source": [
    "### Zadanie 6: Regresja liniowa [10 pkt]\n",
    "\n",
    "#### a) Manualne obliczanie współczynników równania regresji liniowej\n",
    "\n",
    "Korzystając z metody najmniejszych kwadratów manualnie oblicz współczynniki równania regresji liniowej `a_1` i `b_1` parametru OD280/OD315 (oś Y) od Flavanoids (oś X)."
   ]
  },
  {
   "cell_type": "code",
   "execution_count": null,
   "id": "659336f1-f420-4894-a11c-06b3ceb246d7",
   "metadata": {
    "deletable": false,
    "nbgrader": {
     "cell_type": "code",
     "checksum": "428318c14495acfc0574489816048e2b",
     "grade": false,
     "grade_id": "cell-00a420a15809ab16",
     "locked": false,
     "schema_version": 3,
     "solution": true,
     "task": false
    },
    "tags": []
   },
   "outputs": [],
   "source": [
    "# YOUR CODE HERE\n",
    "raise NotImplementedError()"
   ]
  },
  {
   "cell_type": "code",
   "execution_count": null,
   "id": "b06c405a-9ab9-4959-b943-af15a244226f",
   "metadata": {
    "deletable": false,
    "editable": false,
    "nbgrader": {
     "cell_type": "code",
     "checksum": "5325a4b369f4cee212b85506c95cb356",
     "grade": true,
     "grade_id": "cell-a54974d6aa7f2d67",
     "locked": true,
     "points": 2,
     "schema_version": 3,
     "solution": false,
     "task": false
    },
    "tags": []
   },
   "outputs": [],
   "source": [
    "# Komórka testowa\n",
    "assert np.isclose(a_1, 1.107473331774143)\n",
    "assert np.isclose(b_1, -0.8631022610964245)"
   ]
  },
  {
   "cell_type": "markdown",
   "id": "2ff45f98-efc5-4a60-8e9c-4d49a1ddbd94",
   "metadata": {
    "deletable": false,
    "editable": false,
    "nbgrader": {
     "cell_type": "markdown",
     "checksum": "dcec8946074252479bc84bba1c6c8f4c",
     "grade": false,
     "grade_id": "cell-36ec3689a713f539",
     "locked": true,
     "schema_version": 3,
     "solution": false,
     "task": false
    },
    "tags": []
   },
   "source": [
    "#### b) Obliczanie współczynników równania regresji liniowej z wykorzystaniem dedykowanych funkcji\n",
    "\n",
    "Korzystając z funkcji `scipy.stats.linregress()` oblicz współczynniki równania regresji liniowej `a_2` i `b_2` parametru OD280/OD315 (oś Y) od Flavanoids (oś X)."
   ]
  },
  {
   "cell_type": "code",
   "execution_count": null,
   "id": "35453714-11a8-406e-9610-caeb0ffcde64",
   "metadata": {
    "deletable": false,
    "nbgrader": {
     "cell_type": "code",
     "checksum": "48256c7d257c19aaa5c93aa82b544bb7",
     "grade": false,
     "grade_id": "cell-4fe8a47bee6860e2",
     "locked": false,
     "schema_version": 3,
     "solution": true,
     "task": false
    },
    "tags": []
   },
   "outputs": [],
   "source": [
    "# YOUR CODE HERE\n",
    "a_2=sp.stats.linregress(data['OD280/OD315'],y=data['Flavanoids']).slope\n",
    "b_2=sp.stats.linregress(data['OD280/OD315'],y=data['Flavanoids']).intercept\n",
    "#raise NotImplementedError()"
   ]
  },
  {
   "cell_type": "code",
   "execution_count": null,
   "id": "b4d07e11-eb50-4f96-b7b7-2fe86a76cfaa",
   "metadata": {
    "deletable": false,
    "editable": false,
    "nbgrader": {
     "cell_type": "code",
     "checksum": "f409dd03d92b636d27010c8b205a853a",
     "grade": true,
     "grade_id": "cell-d06388e891802edd",
     "locked": true,
     "points": 2,
     "schema_version": 3,
     "solution": false,
     "task": false
    },
    "tags": []
   },
   "outputs": [],
   "source": [
    "# Komórka testowa\n",
    "assert np.isclose(a_2, 1.1074733317741432)\n",
    "assert np.isclose(b_2, -0.863102261096425)"
   ]
  },
  {
   "cell_type": "markdown",
   "id": "c4a7823d-6531-4e4e-9634-6d3579c99db9",
   "metadata": {
    "deletable": false,
    "editable": false,
    "nbgrader": {
     "cell_type": "markdown",
     "checksum": "7f1ab92bea60ca6b19a299a5a5182d6f",
     "grade": false,
     "grade_id": "cell-3c498a24162532b2",
     "locked": true,
     "schema_version": 3,
     "solution": false,
     "task": false
    },
    "tags": []
   },
   "source": [
    "#### c) Porównanie wyników z wizualizacją\n",
    "\n",
    "Funkcja `seaborn.regplot()` pozwala na wykonanie wykresu korelacyjnego, jednak nie zwraca wyliczonych współczynników regresji. W celu przetestowania identyczności obu rozwiązań wykonaj wykres z wykorzystaniem funkcji `seaborn.regplot()` i korzystając z funkcji `matplotlib.pyplot.plot()` lub `seaborn.lineplot()` nałóż na niego przerywaną linię wyznaczoną na podstawie wyliczonych wcześniej współczynników równania regresji liniowej parametru OD280/OD315 (oś Y) od Flavanoids (oś X).\n",
    "\n",
    "Przygotowując figurę kieruj się wytycznymi z początku notatnika"
   ]
  },
  {
   "cell_type": "code",
   "execution_count": null,
   "id": "724950b8-ae69-4f06-a372-0bd968975812",
   "metadata": {
    "deletable": false,
    "nbgrader": {
     "cell_type": "code",
     "checksum": "966e4874501fad92e1dba0a0708b693c",
     "grade": true,
     "grade_id": "cell-115ec2375f0e1f95",
     "locked": false,
     "points": 2,
     "schema_version": 3,
     "solution": true,
     "task": false
    },
    "tags": []
   },
   "outputs": [],
   "source": [
    "# YOUR CODE HERE\n",
    "sns.regplot(x=data['OD280/OD315'],y=data['Flavanoids'])\n",
    "plt.plot(data['Flavanoids'],a_2*data['Flavanoids']+b_2,'--')\n",
    "#dir(sns.regplot())\n",
    "#raise NotImplementedError()"
   ]
  },
  {
   "cell_type": "markdown",
   "id": "aedcc954-3669-475d-ba48-25d4b46a302f",
   "metadata": {
    "deletable": false,
    "editable": false,
    "nbgrader": {
     "cell_type": "markdown",
     "checksum": "3df7156c33da4f2fa0795c7cbcdd81ae",
     "grade": false,
     "grade_id": "cell-c34eef6ebc17b057",
     "locked": true,
     "schema_version": 3,
     "solution": false,
     "task": false
    },
    "tags": []
   },
   "source": [
    "#### d) Wykresy korelacyjne z prostą regresji\n",
    "\n",
    "Korzystając z funkcji `seaborn.pairplot()` przygotuj wykresy korelacyjne z prostą regresji zestawiające ze sobą poszczególne parametry (osie X, Y) dla kompletu danych oraz z podziałem na poszczególne odmiany winogron (rozróżnione kolorem) i ustaw:\n",
    " - dla wykresu z całością danych inny od domyślnego kolor, a dla wykresu z podziałem na odmiany inną od domyślnej skalę kolorów (każda odmiana ma przypisany inny kolor wykresu),\n",
    " - inne od domyślnych własności punktów (kształt, wielkość, przeźroczystość) dobrane tak, aby wykres był jak najbardziej czytelny.\n",
    " - prosta regresji wyświetlana bez przedziału ufności.\n",
    " - na przekątnej siatki wykresów wyświetlały się wykresy typu kde."
   ]
  },
  {
   "cell_type": "code",
   "execution_count": null,
   "id": "2f3b122c-e227-47a7-a1c2-b950fd965b4f",
   "metadata": {
    "deletable": false,
    "nbgrader": {
     "cell_type": "code",
     "checksum": "d3f283cf3870b394498ec5eb0083ffb7",
     "grade": true,
     "grade_id": "cell-b34984afa34b7bd4",
     "locked": false,
     "points": 2,
     "schema_version": 3,
     "solution": true,
     "task": false
    },
    "tags": []
   },
   "outputs": [],
   "source": [
    "# Całość danych\n",
    "# YOUR CODE HERE\n",
    "sns.set(style=\"ticks\")\n",
    "# Wykresy korelacyjne z prostą regresji\n",
    "sns.pairplot(data, kind=\"reg\", diag_kind=\"kde\", markers='o', hue='Cultivar', palette=sns.color_palette('husl',3), plot_kws={'scatter_kws': {'s': 50, 'alpha': 0.7}, 'line_kws': {'linewidth': 3 },\"ci\":None})\n",
    "\n",
    "#raise NotImplementedError()"
   ]
  },
  {
   "cell_type": "code",
   "execution_count": null,
   "id": "f574c5cf-a8fb-46c4-894a-7783c7bb0cf8",
   "metadata": {
    "deletable": false,
    "nbgrader": {
     "cell_type": "code",
     "checksum": "d85778d7da5b5938e4d2634b8327803e",
     "grade": true,
     "grade_id": "cell-4e41d3ef2933064b",
     "locked": false,
     "points": 2,
     "schema_version": 3,
     "solution": true,
     "task": false
    },
    "tags": []
   },
   "outputs": [],
   "source": [
    "# Z podziałem na odmiany\n",
    "# YOUR CODE HERE\n",
    "raise NotImplementedError()"
   ]
  }
 ],
 "metadata": {
  "kernelspec": {
   "display_name": "Python 3 (ipykernel)",
   "language": "python",
   "name": "python3"
  },
  "language_info": {
   "codemirror_mode": {
    "name": "ipython",
    "version": 3
   },
   "file_extension": ".py",
   "mimetype": "text/x-python",
   "name": "python",
   "nbconvert_exporter": "python",
   "pygments_lexer": "ipython3",
   "version": "3.12.2"
  }
 },
 "nbformat": 4,
 "nbformat_minor": 5
}
