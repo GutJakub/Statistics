{
 "cells": [
  {
   "cell_type": "markdown",
   "id": "f7339f20",
   "metadata": {
    "deletable": false,
    "editable": false,
    "nbgrader": {
     "cell_type": "markdown",
     "checksum": "ff0bc2c9546dc7416a62ab1f8e86fe5a",
     "grade": false,
     "grade_id": "cell-fcd2666579131b77",
     "locked": true,
     "schema_version": 3,
     "solution": false,
     "task": false
    },
    "tags": []
   },
   "source": [
    "# Statystyka matematyczna - ćwiczenia laboratoryjne 2023/2024\n",
    "\n",
    "Ten notatnik zalicza się do grupy zestawów zadań, na podstawie których odbywa się zaliczenie ćwiczeń i podlega zwrotowi do oceny w ustalonym na zajęciach terminie.\n",
    "\n",
    "Uwagi i wytyczne ogólne dotyczące uzupełniania notatnika:\n",
    "- Podczas wykonywania zadań należy korzystać wyłącznie z pakietów zaimportowanych na początku notatnika oraz z pakietów wchodzących w skład standardowej biblioteki Pythona, które można zaimportować samodzielnie we wskazanej komórce notatnika.\n",
    "- Swoje rozwiązania należy wprowadzać wyłącznie w miejce następujących fragmentów kodu:<br/> `# YOUR CODE HERE`<br/> `raise NotImplementedError()`<br/> \n",
    "a odpowiedzi tekstowe w komórkach oznaczonych hasłem:<br/> \n",
    "`YOUR ANSWER HERE`<br/> \n",
    "Nie należy w żaden sposób modyfikować pozostałych fragmentów kodu oraz innych elementów notatnika, w szczególności dodawać lub usuwać komórek oraz zmieniać nazwy pliku.\n",
    "- Otrzymywane wyniki i odpowiedzi mają być rezultatem wykonania napisanego kodu.\n",
    "- Zadanie należy wykonać w taki sposób, aby podczas wykonywania kodu nie zostały wyświetlone żadne ostrzeżenia.\n",
    "- Zawarte w notatniku automatyczne testy mają charakter poglądowy. Dotyczą one wybranych aspektów zadań i mają za zadanie wyłapać podstawowe błędy. Przejście wszystkich testów nie oznacza, że zadanie jest wykonane w całości poprawnie.\n",
    "\n",
    "Uwagi i wytyczne ogólne dotyczące wizualizacji wyników:\n",
    "- Wszystkie wykresy powinny być wykonane w jednolitym, przejrzystym i czytelnym stylu, posiadać odpowiednio dobrane proporcje i zakresy wartości osi.\n",
    "- Wykresy oraz ich osie powinny mieć nadane tytuły. Jeżeli w obrębie figury znajduje się więcej niż jeden wykres to figura również powinna mieć nadany tytuł. \n",
    "- Figury powinny mieć ustawione białe tło, tak, aby niezależnie od ustawień notatnika wszystkie elementy wykresów były dobrze widoczne (domyślnie tło jest przeźroczyste co może powodować problemy w notatnikach z ustawionym ciemnym tłem).\n",
    "- Rozmiar poziomy figur nie powinien przekraczać 20 cali.\n",
    "\n",
    "Przed odesłaniem zestawu zadań do oceny proszę uzupełnić komórkę z danymi autorów rozwiązania (nazwa zespołu oraz imiona, nazwiska i numery indeksów członków zespołu) oraz upewnić się, że notatnik działa zgodnie z oczekiwaniami. W tym celu należy skorzystać z opcji **Restart Kernel and Run All Cells...** dostępnej na górnej belce notatnika pod symbolem $\\blacktriangleright\\blacktriangleright$."
   ]
  },
  {
   "cell_type": "markdown",
   "id": "52a89f23",
   "metadata": {},
   "source": [
    "Nazwa zespołu:\n",
    "Członkowie:"
   ]
  },
  {
   "cell_type": "markdown",
   "id": "7bb389d4",
   "metadata": {
    "deletable": false,
    "editable": false,
    "nbgrader": {
     "cell_type": "markdown",
     "checksum": "eddc8826810e4a6f7bf68319da334bd9",
     "grade": false,
     "grade_id": "cell-109006d425e5cf83",
     "locked": true,
     "schema_version": 3,
     "solution": false,
     "task": false
    },
    "tags": []
   },
   "source": [
    "---"
   ]
  },
  {
   "cell_type": "markdown",
   "id": "382d32c8-e544-41fe-874e-24890c5e2862",
   "metadata": {
    "deletable": false,
    "editable": false,
    "nbgrader": {
     "cell_type": "markdown",
     "checksum": "8f1337d921583b021763880fcb1634bf",
     "grade": false,
     "grade_id": "cell-316d27f4b45de7b7",
     "locked": true,
     "schema_version": 3,
     "solution": false,
     "task": false
    },
    "tags": []
   },
   "source": [
    "# Zestaw zadań 9: Weryfikacja hipotez statystycznych - testy parametryczne"
   ]
  },
  {
   "cell_type": "code",
   "execution_count": 3,
   "id": "391c514b-1c65-4498-bfef-204edf112c40",
   "metadata": {
    "deletable": false,
    "editable": false,
    "nbgrader": {
     "cell_type": "code",
     "checksum": "0f2d3dcc36b430d812ed257d781e8899",
     "grade": false,
     "grade_id": "cell-31010273a59a21db",
     "locked": true,
     "schema_version": 3,
     "solution": false,
     "task": false
    },
    "tags": []
   },
   "outputs": [],
   "source": [
    "import numpy as np\n",
    "import pandas as pd\n",
    "import scipy as sp\n",
    "import matplotlib as mpl\n",
    "import matplotlib.pyplot as plt\n",
    "import seaborn as sns"
   ]
  },
  {
   "cell_type": "code",
   "execution_count": 4,
   "id": "be7cae01-767c-4453-b460-4d0994c5e99d",
   "metadata": {},
   "outputs": [],
   "source": [
    "# Miejsce do importu pakietów wchodzących w skład standardowej biblioteki Pythona oraz ustawienie opcji wykorzystywanych pakietów"
   ]
  },
  {
   "cell_type": "markdown",
   "id": "02edfc5a-d1dd-4aaf-8d4a-5ccf6e9b408c",
   "metadata": {
    "deletable": false,
    "editable": false,
    "nbgrader": {
     "cell_type": "markdown",
     "checksum": "789d9d84c5bba6e6ea5619ff296587fb",
     "grade": false,
     "grade_id": "cell-d73b745224b84300",
     "locked": true,
     "schema_version": 3,
     "solution": false,
     "task": false
    },
    "tags": []
   },
   "source": [
    "### Funkcje do wykorzystania"
   ]
  },
  {
   "cell_type": "code",
   "execution_count": 5,
   "id": "5cf31602-a0b5-467f-8cd6-cd75b8fe7b2b",
   "metadata": {
    "deletable": false,
    "editable": false,
    "nbgrader": {
     "cell_type": "code",
     "checksum": "dfa27f090257dc2e83a25a81b9e9842a",
     "grade": false,
     "grade_id": "cell-5b408029f7037853",
     "locked": true,
     "schema_version": 3,
     "solution": false,
     "task": false
    },
    "tags": []
   },
   "outputs": [],
   "source": [
    "def vizualize_test_result(pdf, statistic, rejection_region):\n",
    "    \"\"\"\n",
    "    Parameters\n",
    "    -------\n",
    "    pdf: pandas.DataFrame\n",
    "        Tablica zawierająca informacje niezbędne do wykreślenia funkcji gęstości prawdopodobieństwa wykorzystywanego w teście rozkładu\n",
    "        teoretycznego - index z wariantami zmiennej losowej i nadaną nazwą zmiennej (np. x) oraz pojedynczą kolumnę z wartościami\n",
    "        gęstościami prawdopodobieństwa wyliczonymi dla poszczególnych wariantów o nadanej nazwie bazującej na nazwie zmiennej (np. f(x)).\n",
    "    statistic: float\n",
    "        Wartość statystyki testowej wyliczonej na podstawie próby losowej.\n",
    "    rejection_region: list\n",
    "        Lista zawierająca trzy elementy pozwalające na określenie obszaru krytycznego w następującej kolejności:\n",
    "         - wartość dolnej granicy przedziału,\n",
    "         - wartość górnej granicy przedziału,\n",
    "         - \"inner\" lub \"outer\" w zależności od tego, czy ma być zakolorowana wewnętrzna, czy zewnętrzna część przedziału.\n",
    "    \"\"\"\n",
    "    pdf_name= pdf.columns[0]\n",
    "    \n",
    "    fig, axes = plt.subplots(1, 1, figsize=(8, 3), facecolor='white')\n",
    "\n",
    "    axes.plot(pdf.index, pdf[pdf_name], color=\"grey\")\n",
    "\n",
    "    if rejection_region[2]==\"inner\":\n",
    "        axes.fill_between(pdf.index, pdf[pdf_name], 0, where=((pdf.index > rejection_region[0]) & (pdf.index<rejection_region[1])), color='red', alpha=0.5)\n",
    "    elif rejection_region[2]==\"outer\":\n",
    "        axes.fill_between(pdf.index, pdf[pdf_name], 0, where=((pdf.index < rejection_region[0]) | (pdf.index>rejection_region[1])), color='red', alpha=0.5)\n",
    "    \n",
    "    axes.vlines(x=statistic, ymin=0, ymax=np.max(pdf[\"pdf\"]/3), color=\"blue\")\n",
    "    \n",
    "    axes.set_xlabel(pdf.index.name)\n",
    "    axes.set_ylabel(pdf_name)"
   ]
  },
  {
   "cell_type": "markdown",
   "id": "fae35bbe-4a61-4e42-8b51-457957274b02",
   "metadata": {
    "deletable": false,
    "editable": false,
    "nbgrader": {
     "cell_type": "markdown",
     "checksum": "b9994020534f1248478c112553b53a22",
     "grade": false,
     "grade_id": "cell-ac814ce79e0be7cb",
     "locked": true,
     "schema_version": 3,
     "solution": false,
     "task": false
    },
    "tags": []
   },
   "source": [
    "### Dane do zadań 1-3\n",
    "\n",
    "W celu wygenerowania danych wykorzystywanych w zawartych w notatniku komórkach testowych wykonaj obie poniższe komórki."
   ]
  },
  {
   "cell_type": "code",
   "execution_count": 6,
   "id": "4939460e-063d-4ce2-a5dc-379232e87486",
   "metadata": {
    "deletable": false,
    "editable": false,
    "nbgrader": {
     "cell_type": "code",
     "checksum": "def5d503e2b93eb53978c0305a220065",
     "grade": false,
     "grade_id": "cell-59cd2f258a10ed49",
     "locked": true,
     "schema_version": 3,
     "solution": false,
     "task": false
    },
    "tags": []
   },
   "outputs": [
    {
     "data": {
      "text/html": [
       "<div>\n",
       "<style scoped>\n",
       "    .dataframe tbody tr th:only-of-type {\n",
       "        vertical-align: middle;\n",
       "    }\n",
       "\n",
       "    .dataframe tbody tr th {\n",
       "        vertical-align: top;\n",
       "    }\n",
       "\n",
       "    .dataframe thead th {\n",
       "        text-align: right;\n",
       "    }\n",
       "</style>\n",
       "<table border=\"1\" class=\"dataframe\">\n",
       "  <thead>\n",
       "    <tr style=\"text-align: right;\">\n",
       "      <th></th>\n",
       "      <th>X</th>\n",
       "    </tr>\n",
       "  </thead>\n",
       "  <tbody>\n",
       "    <tr>\n",
       "      <th>0</th>\n",
       "      <td>5.338105</td>\n",
       "    </tr>\n",
       "    <tr>\n",
       "      <th>1</th>\n",
       "      <td>4.906813</td>\n",
       "    </tr>\n",
       "    <tr>\n",
       "      <th>2</th>\n",
       "      <td>5.006564</td>\n",
       "    </tr>\n",
       "    <tr>\n",
       "      <th>3</th>\n",
       "      <td>5.081503</td>\n",
       "    </tr>\n",
       "    <tr>\n",
       "      <th>4</th>\n",
       "      <td>4.842215</td>\n",
       "    </tr>\n",
       "  </tbody>\n",
       "</table>\n",
       "</div>"
      ],
      "text/plain": [
       "          X\n",
       "0  5.338105\n",
       "1  4.906813\n",
       "2  5.006564\n",
       "3  5.081503\n",
       "4  4.842215"
      ]
     },
     "execution_count": 6,
     "metadata": {},
     "output_type": "execute_result"
    }
   ],
   "source": [
    "test_data_1 = pd.DataFrame(data=sp.stats.norm.rvs(loc=5, scale=0.2, size=15, random_state=7), columns=[\"X\"])\n",
    "test_data_1.head()"
   ]
  },
  {
   "cell_type": "code",
   "execution_count": 7,
   "id": "49d1a654-f254-4f24-903e-a7743b6dfae9",
   "metadata": {
    "deletable": false,
    "editable": false,
    "nbgrader": {
     "cell_type": "code",
     "checksum": "446acb9b701d7e4d6e0c739bc1c952bc",
     "grade": false,
     "grade_id": "cell-caffbd342342256e",
     "locked": true,
     "schema_version": 3,
     "solution": false,
     "task": false
    },
    "tags": []
   },
   "outputs": [
    {
     "data": {
      "text/html": [
       "<div>\n",
       "<style scoped>\n",
       "    .dataframe tbody tr th:only-of-type {\n",
       "        vertical-align: middle;\n",
       "    }\n",
       "\n",
       "    .dataframe tbody tr th {\n",
       "        vertical-align: top;\n",
       "    }\n",
       "\n",
       "    .dataframe thead th {\n",
       "        text-align: right;\n",
       "    }\n",
       "</style>\n",
       "<table border=\"1\" class=\"dataframe\">\n",
       "  <thead>\n",
       "    <tr style=\"text-align: right;\">\n",
       "      <th></th>\n",
       "      <th>X</th>\n",
       "    </tr>\n",
       "  </thead>\n",
       "  <tbody>\n",
       "    <tr>\n",
       "      <th>0</th>\n",
       "      <td>False</td>\n",
       "    </tr>\n",
       "    <tr>\n",
       "      <th>1</th>\n",
       "      <td>False</td>\n",
       "    </tr>\n",
       "    <tr>\n",
       "      <th>2</th>\n",
       "      <td>False</td>\n",
       "    </tr>\n",
       "    <tr>\n",
       "      <th>3</th>\n",
       "      <td>False</td>\n",
       "    </tr>\n",
       "    <tr>\n",
       "      <th>4</th>\n",
       "      <td>True</td>\n",
       "    </tr>\n",
       "  </tbody>\n",
       "</table>\n",
       "</div>"
      ],
      "text/plain": [
       "       X\n",
       "0  False\n",
       "1  False\n",
       "2  False\n",
       "3  False\n",
       "4   True"
      ]
     },
     "execution_count": 7,
     "metadata": {},
     "output_type": "execute_result"
    }
   ],
   "source": [
    "test_data_2 = pd.DataFrame(data=sp.stats.norm.rvs(loc=-0.15, scale=0.2, size=100, random_state=12)>0, columns=[\"X\"])\n",
    "test_data_2.head()"
   ]
  },
  {
   "cell_type": "markdown",
   "id": "22462f61-4d54-4dea-8a05-5cdc04ac3d26",
   "metadata": {
    "deletable": false,
    "editable": false,
    "nbgrader": {
     "cell_type": "markdown",
     "checksum": "d95b2916d131ed4c34ff1c9ea63353b0",
     "grade": false,
     "grade_id": "cell-1fcd43f69e6e6ba2",
     "locked": true,
     "schema_version": 3,
     "solution": false,
     "task": false
    },
    "tags": []
   },
   "source": [
    "### Zadanie 1: Weryfikacja hipotezy o wartości przeciętnej [7 pkt]\n",
    "\n",
    "Przygotuj funkcję `mean_NHST()`, która będzie weryfikować hipotezę o wartości przeciętnej i wyświetlać wynik testu statystycznego zgodnie z wytycznymi zawartymi w dołączonym do notatnika zestawie wzorów, w treści zadania oraz w docstring funkcji.\n",
    "\n",
    "Poza zwracaniem zmiennych wymienionych w docsting funkcji, które są potrzebne do przeprowadzenia automatycznych testów funkcji powinna wykorzystywać udostępnioną na początku notatnika funkcję `vizualize_test_result()` do generowania wykresu zawierającego:\n",
    "- funkcję gęstości prawdopodobieństwa rozkładu teoretycznego wykorzystywanego w teście w zakresie od wartości, dla której dystrybuanta tego rozkładu przyjmuje wartość 0.0001 do wartości, dla której dystrybuanta tego rozkładu przyjmuje wartość 0.9999,\n",
    "- zaznaczony wyróżniającym się kolorem fragmentem pola pod krzywą odpowiadający wyznaczonemu w teście obszarowi krytycznemu,\n",
    "- wyróżniającą się kolorem pionowę linię wskazującą obliczoną wartość statystyki."
   ]
  },
  {
   "cell_type": "code",
   "execution_count": 8,
   "id": "56f1c656-c75f-435b-b3d1-264883c597ff",
   "metadata": {
    "deletable": false,
    "nbgrader": {
     "cell_type": "code",
     "checksum": "019a68ae62697f19becfc139de6978f1",
     "grade": false,
     "grade_id": "cell-edf64cc6951e2255",
     "locked": false,
     "schema_version": 3,
     "solution": true,
     "task": false
    },
    "tags": []
   },
   "outputs": [
    {
     "data": {
      "text/plain": [
       "(-1.9346677837081263, -1.7613101357748564, 1)"
      ]
     },
     "execution_count": 8,
     "metadata": {},
     "output_type": "execute_result"
    }
   ],
   "source": [
    "def mean_NHST(data, H0, H1, alpha):\n",
    "    \"\"\"\n",
    "    Parameters\n",
    "    -------\n",
    "    data: DataFrame\n",
    "        Tablica zawierająca domyślny indeks i kolumnę \"X\" wynikami próby losowej.\n",
    "    H0: float\n",
    "        Wartość przeciętna przyjęta jako hipoteza zerowa.\n",
    "    H1: str\n",
    "        Postać hipotezy alternatywnej, przyjmuje wartości:\n",
    "        - two-sided: wartość przeciętna jest różna od wartości przyjętej w H0,\n",
    "        - less: wartość przeciętna jest mniejsza od wartości przyjętej w H0,\n",
    "        - greater: wartość przeciętna jest większa od wartości przyjętej w H0.\n",
    "    alpha: float\n",
    "        Wartość określająca poziom istotności.\n",
    "    \n",
    "    Returns\n",
    "    -------\n",
    "    t: float\n",
    "        Wyliczona na podstawie próby losowej wartość statystyki t.\n",
    "    t_alpha: float\n",
    "        Wartość statystyki t_alpha.\n",
    "    H: int\n",
    "        Wynik testu statystycznego, przyjmuje wartość:\n",
    "        0 - gdy wynik testu istotności nie daje podstaw do odrzucenia H0 na rzecz H1 na poziomie istotności 1-alpha,\n",
    "        1 - gdy następuje odrzucenie H0 na rzecz H1 na poziomie istotności 1-alpha.\n",
    "    \"\"\"\n",
    "    type(H1)\n",
    "    H=0\n",
    "    x=data.mean()\n",
    "    L=len(data)\n",
    "    std=np.std(data,axis=0)\n",
    "    u=((x-H0)/std)*np.sqrt(L-1)\n",
    "    u=float(u.iloc[0])\n",
    "    if H1 == \"two-sided\": \n",
    "        t_alpha=sp.stats.t.ppf(1-alpha/2,L-1)\n",
    "        if abs(u)>=t_alpha:\n",
    "            H=1\n",
    "    elif H1 == \"less\":\n",
    "        t_alpha = sp.stats.t.ppf(alpha,L-1)\n",
    "        if u<=t_alpha:\n",
    "            H=1\n",
    "    elif H1 == \"greater\":\n",
    "        t_alpha=sp.stats.t.ppf(1-alpha,L-1)\n",
    "        if u>=t_alpha:\n",
    "            H=1\n",
    "    return u,t_alpha,H\n",
    "mean_NHST(test_data_1, 5.08, \"less\", 0.05)\n",
    "# YOUR CODE HERE\n",
    "#raise NotImplementedError()"
   ]
  },
  {
   "cell_type": "code",
   "execution_count": 9,
   "id": "b0721b99-f8b7-496d-b172-4d1f37a051b7",
   "metadata": {
    "deletable": false,
    "editable": false,
    "nbgrader": {
     "cell_type": "code",
     "checksum": "2142384814faaf003ec91b0d47b2af63",
     "grade": true,
     "grade_id": "cell-94c646736f969133",
     "locked": true,
     "points": 7,
     "schema_version": 3,
     "solution": false,
     "task": false
    },
    "tags": []
   },
   "outputs": [],
   "source": [
    "### Komórka testowa\n",
    "assert np.all(np.isclose(mean_NHST(test_data_1, 5.08, \"two-sided\", 0.05), (-1.9346677837081263, 2.1447866879169273, 0)))\n",
    "assert np.all(np.isclose(mean_NHST(test_data_1, 5.08, \"less\", 0.05), (-1.9346677837081263, -1.7613101357748564, 1)))\n",
    "assert np.all(np.isclose(mean_NHST(test_data_1, 5.08, \"greater\", 0.05), (-1.9346677837081263, 1.7613101357748562, 0)))\n",
    "\n",
    "assert np.all(np.isclose(mean_NHST(test_data_1, 4.92, \"two-sided\", 0.1), (1.8994107469740968, 1.7613101357748562, 1)))\n",
    "assert np.all(np.isclose(mean_NHST(test_data_1, 4.92, \"less\", 0.1), (1.8994107469740968, -1.3450303744546486, 0)))\n",
    "assert np.all(np.isclose(mean_NHST(test_data_1, 4.92, \"greater\", 0.1), (1.8994107469740968, 1.345030374454649, 1)))"
   ]
  },
  {
   "cell_type": "markdown",
   "id": "e19d24c1-d525-4158-b31d-8939acf7d681",
   "metadata": {
    "deletable": false,
    "editable": false,
    "nbgrader": {
     "cell_type": "markdown",
     "checksum": "cd8fad958d3600e5d4c0c0a712e96fad",
     "grade": false,
     "grade_id": "cell-9f8ff1ffa17805b2",
     "locked": true,
     "schema_version": 3,
     "solution": false,
     "task": false
    },
    "tags": []
   },
   "source": [
    "### Zadanie 2: Weryfikacja hipotezy o wariancji [8 pkt]\n",
    "\n",
    "Przygotuj funkcję `variance_NHST()`, która będzie weryfikować hipotezę o wartości wariancji i wyświetlać wynik testu statystycznego zgodnie z wytycznymi zawartymi w dołączonym do notatnika zestawie wzorów, w treści zadania oraz w docstring funkcji.\n",
    "\n",
    "Poza zwracaniem zmiennych wymienionych w docsting funkcji, które są potrzebne do przeprowadzenia automatycznych testów funkcji powinna wykorzystywać udostępnioną na początku notatnika funkcję `vizualize_test_result()` do generowania wykresu zawierającego:\n",
    "- funkcję gęstości prawdopodobieństwa rozkładu teoretycznego wykorzystywanego w teście w zakresie od wartości, dla której dystrybuanta tego rozkładu przyjmuje wartość 0.0001 do wartości, dla której dystrybuanta tego rozkładu przyjmuje wartość 0.9999,\n",
    "- zaznaczony wyróżniającym się kolorem fragmentem pola pod krzywą odpowiadający wyznaczonemu w teście obszarowi krytycznemu,\n",
    "- wyróżniającą się kolorem pionowę linię wskazującą obliczoną wartość statystyki."
   ]
  },
  {
   "cell_type": "code",
   "execution_count": 10,
   "id": "e9aba12f-4da4-4331-ba5a-98af1db16c58",
   "metadata": {
    "deletable": false,
    "nbgrader": {
     "cell_type": "code",
     "checksum": "f62fdd533e4e92c3b269c94faaac9e20",
     "grade": false,
     "grade_id": "cell-f8660b34518fc763",
     "locked": false,
     "schema_version": 3,
     "solution": true,
     "task": false
    },
    "tags": []
   },
   "outputs": [],
   "source": [
    "def variance_NHST(data, H0, H1, alpha):\n",
    "    \"\"\"\n",
    "    Parameters\n",
    "    -------\n",
    "    data: DataFrame\n",
    "        Tablica zawierająca domyślny indeks i kolumnę \"X\" wynikami próby losowej.\n",
    "    H0: float\n",
    "        Wariancji przyjęta jako hipoteza zerowa.\n",
    "    H1: str\n",
    "        Postać hipotezy alternatywnej, przyjmuje wartości:\n",
    "        - two-sided: wariancja jest różna od wartości przyjętej w H0,\n",
    "        - less: wariancja jest mniejsza od wartości przyjętej w H0,\n",
    "        - greater: wariancja jest większa od wartości przyjętej w H0.\n",
    "    alpha: float\n",
    "        Wartość określająca poziom istotności.\n",
    "    \n",
    "    Returns\n",
    "    -------\n",
    "    chi2: float\n",
    "        Wyliczona na podstawie próby losowej wartość statystyki chi2.\n",
    "    chi2_alpha: float or list\n",
    "        Wartość statystyki chi2_alpha lub lista z dwoma wartościami chi2_alpha_1 i chi2_alpha_2\n",
    "    H: int\n",
    "        Wynik testu statystycznego, przyjmuje wartość:\n",
    "        0 - gdy wynik testu istotności nie daje podstaw do odrzucenia H0 na rzecz H1 na poziomie istotności 1-alpha,\n",
    "        1 - gdy następuje odrzucenie H0 na rzecz H1 na poziomie istotności 1-alpha.\n",
    "    \"\"\"\n",
    "    L=len(data)\n",
    "    var=np.var(test_data_1,axis=0)\n",
    "    chi2=L*var/H0\n",
    "    chi2=float(chi2.iloc[0])\n",
    "    H=0\n",
    "    if H1 == \"two-sided\": \n",
    "        chi2_alpha=[sp.stats.chi2.ppf(alpha/2,L-1),sp.stats.chi2.ppf(1-alpha/2,L-1)]\n",
    "        if chi2_alpha[0]>=chi2 or chi2_alpha[1]<=chi2:\n",
    "            H=1\n",
    "    elif H1 == \"less\":\n",
    "        chi2_alpha=sp.stats.chi2.ppf(alpha,L-1)\n",
    "        if chi2<=chi2_alpha:\n",
    "            H=1\n",
    "    elif H1 == \"greater\":\n",
    "        chi2_alpha=sp.stats.chi2.ppf(1-alpha,L-1)\n",
    "        if chi2>=chi2_alpha:\n",
    "            H=1\n",
    "    return chi2,chi2_alpha,H\n",
    "    # YOUR CODE HERE\n",
    "#raise NotImplementedError()"
   ]
  },
  {
   "cell_type": "code",
   "execution_count": 11,
   "id": "aef94371-b3b6-4758-84f0-4162604866e7",
   "metadata": {
    "deletable": false,
    "editable": false,
    "nbgrader": {
     "cell_type": "code",
     "checksum": "6ffda1cd08fac7b07f0166583092344f",
     "grade": true,
     "grade_id": "cell-065f3bb28457a689",
     "locked": true,
     "points": 8,
     "schema_version": 3,
     "solution": false,
     "task": false
    },
    "tags": []
   },
   "outputs": [],
   "source": [
    "### Komórka testowa\n",
    "results = variance_NHST(test_data_1, 0.1, \"two-sided\", 0.05)\n",
    "assert np.all(np.isclose((results[0], results[1][0], results[1][1], results[2]), (3.657103504858619, 5.628726103039731, 26.11894804503737, 1)))\n",
    "assert np.all(np.isclose(variance_NHST(test_data_1, 0.1, \"less\", 0.05), (3.657103504858619, 6.570631383789345, 1)))\n",
    "assert np.all(np.isclose(variance_NHST(test_data_1, 0.1, \"greater\", 0.05), (3.657103504858619, 23.684791304840576, 0)))\n",
    "\n",
    "results = variance_NHST(test_data_1, 0.013, \"two-sided\", 0.02)\n",
    "assert np.all(np.isclose((results[0], results[1][0], results[1][1], results[2]), (28.13156542198938, 4.660425062657768, 29.141237740672796, 0)))\n",
    "assert np.all(np.isclose(variance_NHST(test_data_1, 0.013, \"less\", 0.02), (28.13156542198938, 5.368197419889671, 0)))\n",
    "assert np.all(np.isclose(variance_NHST(test_data_1, 0.013, \"greater\", 0.02), (28.13156542198938, 26.872764642314312, 1)))"
   ]
  },
  {
   "cell_type": "markdown",
   "id": "33da6eb6-de2e-412c-a750-8c38953a74d6",
   "metadata": {
    "deletable": false,
    "editable": false,
    "nbgrader": {
     "cell_type": "markdown",
     "checksum": "a86bfe55aad4f0fcbb370656eae4f3f5",
     "grade": false,
     "grade_id": "cell-188a8e80f3ce848f",
     "locked": true,
     "schema_version": 3,
     "solution": false,
     "task": false
    },
    "tags": []
   },
   "source": [
    "### Zadanie 3: Weryfikacja hipotezy o wskaźniku struktury (proporcji) [7 pkt]\n",
    "\n",
    "Przygotuj funkcję `proportion_NHST()`, która będzie weryfikować hipotezę o wartości wskaźnika struktury (proporcji) i wyświetlać wynik testu statystycznego zgodnie z wytycznymi zawartymi w dołączonym do notatnika zestawie wzorów, w treści zadania oraz w docstring funkcji.\n",
    "\n",
    "Poza zwracaniem zmiennych wymienionych w docsting funkcji, które są potrzebne do przeprowadzenia automatycznych testów funkcji powinna wykorzystywać udostępnioną na początku notatnika funkcję `vizualize_test_result()` do generowania wykresu zawierającego:\n",
    "- funkcję gęstości prawdopodobieństwa rozkładu teoretycznego wykorzystywanego w teście w zakresie od wartości, dla której dystrybuanta tego rozkładu przyjmuje wartość 0.0001 do wartości, dla której dystrybuanta tego rozkładu przyjmuje wartość 0.9999,\n",
    "- zaznaczony wyróżniającym się kolorem fragmentem pola pod krzywą odpowiadający wyznaczonemu w teście obszarowi krytycznemu,\n",
    "- wyróżniającą się kolorem pionowę linię wskazującą obliczoną wartość statystyki."
   ]
  },
  {
   "cell_type": "code",
   "execution_count": 43,
   "id": "f05762cc-f1ba-4380-b44b-fa8537094d9c",
   "metadata": {
    "deletable": false,
    "nbgrader": {
     "cell_type": "code",
     "checksum": "6de975d822ad8a84d972bdb32eb09fa6",
     "grade": false,
     "grade_id": "cell-b96aad4b9c50c1cc",
     "locked": false,
     "schema_version": 3,
     "solution": true,
     "task": false
    },
    "tags": []
   },
   "outputs": [],
   "source": [
    "def proportion_NHST(data, H0, H1, alpha):\n",
    "    \"\"\"\n",
    "    Parameters\n",
    "    -------\n",
    "    data: DataFrame\n",
    "        Tablica zawierająca domyślny indeks i kolumnę \"X\" wynikami próby losowej (True, False).\n",
    "    H0: float\n",
    "        Wartość wskaźnika struktury przyjęta jako hipoteza zerowa.\n",
    "    H1: str\n",
    "        Postać hipotezy alternatywnej, przyjmuje wartości:\n",
    "        - two-sided: wartość wskaźnika struktury jest różna od wartości przyjętej w H0,\n",
    "        - less: wartość wskaźnika struktury jest mniejsza od wartości przyjętej w H0,\n",
    "        - greater: wartość wskaźnika struktury jest większa od wartości przyjętej w H0.\n",
    "    alpha: float\n",
    "        Wartość określająca poziom istotności.\n",
    "    \n",
    "    Returns\n",
    "    -------\n",
    "    u: float\n",
    "        Wyliczona na podstawie próby losowej wartość statystyki u.\n",
    "    u_alpha: float\n",
    "        Wartość statystyki u_alpha.\n",
    "    H: int\n",
    "        Wynik testu statystycznego, przyjmuje wartość:\n",
    "        0 - gdy wynik testu istotności nie daje podstaw do odrzucenia H0 na rzecz H1 na poziomie istotności 1-alpha,\n",
    "        1 - gdy następuje odrzucenie H0 na rzecz H1 na poziomie istotności 1-alpha.\n",
    "    \"\"\"\n",
    "    # YOUR CODE HERE\n",
    "#p to stosunek liczbyt sukcesów to całkowitej liczby próbek\n",
    "    H=0\n",
    "    suc=data.values.sum() # liczba True sukcesów\n",
    "    L=len(data)\n",
    "    p=suc/L\n",
    "    u=(p-H0)/np.sqrt( (H0*(1-H0))/L)\n",
    "    if H1==\"two-sided\":\n",
    "        u_alpha=sp.stats.norm.ppf(1-alpha/2)\n",
    "        if abs(u)>=u_alpha:\n",
    "            H=1\n",
    "    if H1==\"less\":\n",
    "        u_alpha=sp.stats.norm.ppf(alpha)\n",
    "        if u<=u_alpha:\n",
    "            H=1\n",
    "    if H1==\"greater\":\n",
    "        u_alpha=sp.stats.norm.ppf(1-alpha)\n",
    "        if u>=u_alpha:\n",
    "            H=1\n",
    "    return u,u_alpha,H\n",
    "    #raise NotImplementedError()"
   ]
  },
  {
   "cell_type": "code",
   "execution_count": 44,
   "id": "0c8b709e-5a76-44ae-bc61-351b7899ca4b",
   "metadata": {
    "deletable": false,
    "editable": false,
    "nbgrader": {
     "cell_type": "code",
     "checksum": "4f09b7b28a8ef6eec7b38583f11235e9",
     "grade": true,
     "grade_id": "cell-db2796420fe20fbb",
     "locked": true,
     "points": 7,
     "schema_version": 3,
     "solution": false,
     "task": false
    },
    "tags": []
   },
   "outputs": [],
   "source": [
    "### Komórka testowa\n",
    "assert np.all(np.isclose(proportion_NHST(test_data_2, 0.25, \"two-sided\", 0.1), (-1.3856406460551018, 1.6448536269514722, 0)))\n",
    "assert np.all(np.isclose(proportion_NHST(test_data_2, 0.25, \"less\", 0.1), (-1.3856406460551018, -1.2815515655446004, 1)))\n",
    "assert np.all(np.isclose(proportion_NHST(test_data_2, 0.25, \"greater\", 0.1), (-1.3856406460551018, 1.2815515655446004, 0)))\n",
    "\n",
    "assert np.all(np.isclose(proportion_NHST(test_data_2, 0.1, \"two-sided\", 0.01), (2.9999999999999996, 2.5758293035489004, 1)))\n",
    "assert np.all(np.isclose(proportion_NHST(test_data_2, 0.1, \"less\", 0.01), (2.9999999999999996, -2.3263478740408408, 0)))\n",
    "assert np.all(np.isclose(proportion_NHST(test_data_2, 0.1, \"greater\", 0.01), (2.9999999999999996, 2.3263478740408408, 1)))"
   ]
  },
  {
   "cell_type": "markdown",
   "id": "4c2c7540-f6fd-44d5-bf19-c426f57be252",
   "metadata": {
    "deletable": false,
    "editable": false,
    "nbgrader": {
     "cell_type": "markdown",
     "checksum": "4230c77f9e5a9a27f9ee2a6391ed85df",
     "grade": false,
     "grade_id": "cell-e15b203db2d71310",
     "locked": true,
     "schema_version": 3,
     "solution": false,
     "task": false
    },
    "tags": []
   },
   "source": [
    "### Zadanie 4: Weryfikacja hipotez z wykorzystaniem dedykowanych funkcji [6 pkt]\n",
    "\n",
    "#### a) Rzut monetą\n",
    "Zmienna `coin_toss_sample` zawiera wyniki 50 rzutów monetą. Korzystając z funkcji `scipy.stats.binomtest()` zweryfikuj hipotezę, że moneta jest uczciwa (prawdopodobieństwo wyrzucenia orła i reszki jest równe). W obliczeniach przyjmij poziom istotności 1 - alpha = 0.95.\n",
    "\n",
    "Zapisz obliczoną wartość pvalue do zmiennej `pvalue_1`, oraz przygotuj zmienną `H_1` zawierającą wynik testu statystycznego (0 - gdy wynik testu istotności nie daje podstaw do odrzucenia H0 na rzecz H1 na poziomie istotności 1-alpha, 1 - gdy następuje odrzucenie H0 na rzecz H1 na poziomie istotności 1-alpha)."
   ]
  },
  {
   "cell_type": "code",
   "execution_count": 46,
   "id": "0b696cdb-f82d-4563-8163-0720eea4020c",
   "metadata": {
    "deletable": false,
    "editable": false,
    "nbgrader": {
     "cell_type": "code",
     "checksum": "9518cd7a06535881a1a674d33dffb0a5",
     "grade": false,
     "grade_id": "cell-f43518316789b389",
     "locked": true,
     "schema_version": 3,
     "solution": false,
     "task": false
    },
    "tags": []
   },
   "outputs": [],
   "source": [
    "coin_toss_sample = ['O', 'R', 'O', 'O', 'R', 'R', 'O', 'R', 'O', 'O',\n",
    "                    'O', 'O', 'O', 'R', 'O', 'R', 'O', 'O', 'O', 'R',\n",
    "                    'R', 'R', 'O', 'O', 'R', 'O', 'R', 'O', 'O', 'O',\n",
    "                    'R', 'O', 'R', 'O', 'R', 'O', 'O', 'O', 'R', 'O',\n",
    "                    'O', 'O', 'O', 'O', 'R', 'O', 'R', 'O', 'O', 'O']"
   ]
  },
  {
   "cell_type": "code",
   "execution_count": 134,
   "id": "ff543f0e-8c8e-4a83-876f-c8bf87e29abb",
   "metadata": {
    "deletable": false,
    "nbgrader": {
     "cell_type": "code",
     "checksum": "f89e160cae436a8d7f52c7d38d639800",
     "grade": false,
     "grade_id": "cell-eb14a780c0fb9093",
     "locked": false,
     "schema_version": 3,
     "solution": true,
     "task": false
    },
    "tags": []
   },
   "outputs": [
    {
     "data": {
      "text/plain": [
       "1"
      ]
     },
     "execution_count": 134,
     "metadata": {},
     "output_type": "execute_result"
    }
   ],
   "source": [
    "# YOUR CODE HERE\n",
    "N=len(coin_toss_sample)\n",
    "vec=np.array(coin_toss_sample)\n",
    "k=(vec[:]=='O').sum()\n",
    "pvalue_1=sp.stats.binomtest(k,N,p=0.5).pvalue\n",
    "pvalue_1\n",
    "alpha=0.05\n",
    "H_1=0\n",
    "p=sp.stats.binomtest(k,N,p=0.5).statistic\n",
    "p0=0.5\n",
    "u=(p-p0)/np.sqrt( (p0*(1-p0))/N)\n",
    "bs=sp.stats.norm.ppf(1-alpha/2)\n",
    "ls=sp.stats.norm.ppf(alpha)\n",
    "rs=sp.stats.norm.ppf(1-alpha)\n",
    "if abs(u)>=bs or u<=ls or u>=rs: \n",
    "    H_1=1\n",
    "H_1\n",
    "#raise NotImplementedError()"
   ]
  },
  {
   "cell_type": "code",
   "execution_count": 135,
   "id": "1c6d83e6-f430-4731-a995-842387bc7cc4",
   "metadata": {
    "deletable": false,
    "editable": false,
    "nbgrader": {
     "cell_type": "code",
     "checksum": "ed6904f622269cfd2e242a63319e51d1",
     "grade": true,
     "grade_id": "cell-1bb3abb4571d0593",
     "locked": true,
     "points": 2,
     "schema_version": 3,
     "solution": false,
     "task": false
    },
    "tags": []
   },
   "outputs": [],
   "source": [
    "### Komórka testowa\n",
    "assert np.isclose(pvalue_1, 0.032839137564268484)\n",
    "assert H_1 == 1"
   ]
  },
  {
   "cell_type": "markdown",
   "id": "585f4f26-a00e-4750-9c2c-fc8f35e26338",
   "metadata": {
    "deletable": false,
    "editable": false,
    "nbgrader": {
     "cell_type": "markdown",
     "checksum": "9dddb5a10df2b6160ebe6c68598cdcfc",
     "grade": false,
     "grade_id": "cell-eaffe2d1f19973d9",
     "locked": true,
     "schema_version": 3,
     "solution": false,
     "task": false
    },
    "tags": []
   },
   "source": [
    "#### b) Średnia waga elementów schodzących z linii produkcyjnych\n",
    "\n",
    "Zmienne `weights_1` oraz `weights_2` zawierają wagi elementów (podane w gramach) losowo zdjętych z dwóch linii produkcyjnych."
   ]
  },
  {
   "cell_type": "code",
   "execution_count": 136,
   "id": "a0c4c272-a4fc-4c03-bbc2-d5d330425613",
   "metadata": {},
   "outputs": [],
   "source": [
    "weights_1 = [525, 485, 515, 510, 496, 512, 521, 524, 501, 517, 498, 503, 499, 477, 493, 487, 512, 505, 483, 507] \n",
    "weights_2 = [523, 515, 519, 524, 498, 508, 502, 509, 513, 521, 516, 519, 497, 521, 498, 518, 526, 497, 494, 506]"
   ]
  },
  {
   "cell_type": "markdown",
   "id": "01add5ad-72e1-45ab-ba72-1399ece02dba",
   "metadata": {},
   "source": [
    "Korzystając z funkcji `scipy.stats.ttest_1samp()` zweryfikuj hipotezę, że średnia waga elementów schodzących z pierwszej linii produkcyjnej jest równa 0.5kg względem hipotezy alternatywnej, że średnia waga elementów schodzących z pierwszej linii produkcyjnej jest wyższa od 0.5kg. W obliczeniach przyjmij poziom istotności 1 - alpha = 0.9.\n",
    "\n",
    "Zapisz obliczoną wartość pvalue do zmiennej `pvalue_2`, oraz przygotuj zmienną `H_2` zawierającą wynik testu statystycznego (0 - gdy wynik testu istotności nie daje podstaw do odrzucenia H0 na rzecz H1 na poziomie istotności 1-alpha, 1 - gdy następuje odrzucenie H0 na rzecz H1 na poziomie istotności 1-alpha)."
   ]
  },
  {
   "cell_type": "code",
   "execution_count": 137,
   "id": "553a2615-6690-48d8-bea7-2f76806f640e",
   "metadata": {
    "deletable": false,
    "nbgrader": {
     "cell_type": "code",
     "checksum": "e8e1aa5072216892f5732fe38e6f59eb",
     "grade": false,
     "grade_id": "cell-df038005c65a8018",
     "locked": false,
     "schema_version": 3,
     "solution": true,
     "task": false
    },
    "tags": []
   },
   "outputs": [
    {
     "data": {
      "text/plain": [
       "0"
      ]
     },
     "execution_count": 137,
     "metadata": {},
     "output_type": "execute_result"
    }
   ],
   "source": [
    "# YOUR CODE HERE\n",
    "alpha=0.1\n",
    "pvalue_2=sp.stats.ttest_1samp(weights_1,500,alternative=\"greater\").pvalue\n",
    "H_2=0\n",
    "x=np.mean(weights_1)\n",
    "m=500\n",
    "std=np.std(weights_1,ddof=1)\n",
    "L=len(weights_1)\n",
    "t=sp.stats.ttest_1samp(weights_1,500,alternative=\"greater\").statistic\n",
    "bs=sp.stats.t.ppf(1-alpha/2,L-1)\n",
    "ls=sp.stats.t.ppf(alpha,L-1)\n",
    "rs=sp.stats.t.ppf(1-alpha,L-1)\n",
    "if abs(t)>=bs or t<=ls or t>=rs: \n",
    "    H_2=1\n",
    "H_2\n",
    "\n",
    "#raise NotImplementedError()"
   ]
  },
  {
   "cell_type": "code",
   "execution_count": 138,
   "id": "0ea9c2f8-759b-4788-acc2-5f6905b52346",
   "metadata": {
    "deletable": false,
    "editable": false,
    "nbgrader": {
     "cell_type": "code",
     "checksum": "5a0f1611e347c41f1e3cb34e8a18491e",
     "grade": true,
     "grade_id": "cell-5df01ee99795ce87",
     "locked": true,
     "points": 2,
     "schema_version": 3,
     "solution": false,
     "task": false
    },
    "tags": []
   },
   "outputs": [],
   "source": [
    "### Komórka testowa\n",
    "assert np.isclose(pvalue_2, 0.13688813254569193)\n",
    "assert H_2 == 0"
   ]
  },
  {
   "cell_type": "markdown",
   "id": "082b6a8a-e704-482d-8e70-f9c65eb744bf",
   "metadata": {
    "deletable": false,
    "editable": false,
    "nbgrader": {
     "cell_type": "markdown",
     "checksum": "31d74925db0f2c2f94693c1aa8cc62a5",
     "grade": false,
     "grade_id": "cell-fd75a34873afef59",
     "locked": true,
     "schema_version": 3,
     "solution": false,
     "task": false
    },
    "tags": []
   },
   "source": [
    "Korzystając z funkcji `scipy.stats.ttest_rel()` zweryfikuj hipotezę, że średnie wagi elementów schodzących z obu linii produkcyjnych są identyczne, względem hipotezy alternatywnej, że średnia waga elementów schodzących z drugiej linii produkcyjnej jest wyższa niż z pierwszej linii. W obliczeniach przyjmij poziom istotności 1 - alpha = 0.98.\n",
    "\n",
    "Zapisz obliczoną wartość pvalue do zmiennej `pvalue_3`, oraz przygotuj zmienną `H_3` zawierającą wynik testu statystycznego (0 - gdy wynik testu istotności nie daje podstaw do odrzucenia H0 na rzecz H1 na poziomie istotności 1-alpha, 1 - gdy następuje odrzucenie H0 na rzecz H1 na poziomie istotności 1-alpha)."
   ]
  },
  {
   "cell_type": "code",
   "execution_count": 170,
   "id": "466f7142-e008-4344-9db8-713b266efdc3",
   "metadata": {
    "deletable": false,
    "nbgrader": {
     "cell_type": "code",
     "checksum": "b71c5b5272a0f6d552c69fbf60efb60d",
     "grade": false,
     "grade_id": "cell-bcc355d41539ab13",
     "locked": false,
     "schema_version": 3,
     "solution": true,
     "task": false
    },
    "tags": []
   },
   "outputs": [
    {
     "data": {
      "text/plain": [
       "1"
      ]
     },
     "execution_count": 170,
     "metadata": {},
     "output_type": "execute_result"
    }
   ],
   "source": [
    "# YOUR CODE HERE\n",
    "pvalue_3=sp.stats.ttest_rel(weights_2,weights_1,alternative=\"greater\").pvalue\n",
    "#help(sp.stats.ttest_rel)\n",
    "L=len(weights_2)+len(weights_1)\n",
    "H_3=0\n",
    "alpha=0.02\n",
    "t=sp.stats.ttest_rel(weights_2,weights_1,alternative=\"greater\").statistic\n",
    "bs=sp.stats.t.ppf(1-alpha/2,L-1)\n",
    "ls=sp.stats.t.ppf(alpha,L-1)\n",
    "rs=sp.stats.t.ppf(1-alpha,L-1)\n",
    "if abs(t)>=bs or t<=ls or t>=rs:\n",
    "    H_3=1\n",
    "H_3\n",
    "#raise NotImplementedError()"
   ]
  },
  {
   "cell_type": "code",
   "execution_count": 171,
   "id": "e43fba62-0987-49af-b33b-794b3f424a4f",
   "metadata": {
    "deletable": false,
    "editable": false,
    "nbgrader": {
     "cell_type": "code",
     "checksum": "a98ed077bc99cb07a4abd033849cfaae",
     "grade": true,
     "grade_id": "cell-379a82b46c59e5fb",
     "locked": true,
     "points": 2,
     "schema_version": 3,
     "solution": false,
     "task": false
    },
    "tags": []
   },
   "outputs": [],
   "source": [
    "### Komórka testowa\n",
    "assert np.isclose(pvalue_3, 0.019512297706307014)\n",
    "assert H_3 == 1"
   ]
  },
  {
   "cell_type": "code",
   "execution_count": null,
   "id": "f3faa02e-20c4-4cc8-bf45-eecb512f18d9",
   "metadata": {},
   "outputs": [],
   "source": []
  }
 ],
 "metadata": {
  "kernelspec": {
   "display_name": "Python 3 (ipykernel)",
   "language": "python",
   "name": "python3"
  },
  "language_info": {
   "codemirror_mode": {
    "name": "ipython",
    "version": 3
   },
   "file_extension": ".py",
   "mimetype": "text/x-python",
   "name": "python",
   "nbconvert_exporter": "python",
   "pygments_lexer": "ipython3",
   "version": "3.12.2"
  }
 },
 "nbformat": 4,
 "nbformat_minor": 5
}
